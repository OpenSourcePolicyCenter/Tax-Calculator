{
 "cells": [
  {
   "cell_type": "code",
   "execution_count": 1,
   "metadata": {
    "collapsed": false
   },
   "outputs": [
    {
     "data": {
      "text/html": [
       "\n",
       "    <div class=\"bk-root\">\n",
       "        <a href=\"http://bokeh.pydata.org\" target=\"_blank\" class=\"bk-logo bk-logo-small bk-logo-notebook\"></a>\n",
       "        <span id=\"627a3fb3-7478-497c-a8ff-5543b70a3a25\">Loading BokehJS ...</span>\n",
       "    </div>"
      ]
     },
     "metadata": {},
     "output_type": "display_data"
    },
    {
     "data": {
      "application/javascript": [
       "\n",
       "(function(global) {\n",
       "  function now() {\n",
       "    return new Date();\n",
       "  }\n",
       "\n",
       "  var force = true;\n",
       "\n",
       "  if (typeof (window._bokeh_onload_callbacks) === \"undefined\" || force === true) {\n",
       "    window._bokeh_onload_callbacks = [];\n",
       "    window._bokeh_is_loading = undefined;\n",
       "  }\n",
       "\n",
       "\n",
       "  \n",
       "  if (typeof (window._bokeh_timeout) === \"undefined\" || force === true) {\n",
       "    window._bokeh_timeout = Date.now() + 5000;\n",
       "    window._bokeh_failed_load = false;\n",
       "  }\n",
       "\n",
       "  var NB_LOAD_WARNING = {'data': {'text/html':\n",
       "     \"<div style='background-color: #fdd'>\\n\"+\n",
       "     \"<p>\\n\"+\n",
       "     \"BokehJS does not appear to have successfully loaded. If loading BokehJS from CDN, this \\n\"+\n",
       "     \"may be due to a slow or bad network connection. Possible fixes:\\n\"+\n",
       "     \"</p>\\n\"+\n",
       "     \"<ul>\\n\"+\n",
       "     \"<li>re-rerun `output_notebook()` to attempt to load from CDN again, or</li>\\n\"+\n",
       "     \"<li>use INLINE resources instead, as so:</li>\\n\"+\n",
       "     \"</ul>\\n\"+\n",
       "     \"<code>\\n\"+\n",
       "     \"from bokeh.resources import INLINE\\n\"+\n",
       "     \"output_notebook(resources=INLINE)\\n\"+\n",
       "     \"</code>\\n\"+\n",
       "     \"</div>\"}};\n",
       "\n",
       "  function display_loaded() {\n",
       "    if (window.Bokeh !== undefined) {\n",
       "      document.getElementById(\"627a3fb3-7478-497c-a8ff-5543b70a3a25\").textContent = \"BokehJS successfully loaded.\";\n",
       "    } else if (Date.now() < window._bokeh_timeout) {\n",
       "      setTimeout(display_loaded, 100)\n",
       "    }\n",
       "  }\n",
       "\n",
       "  function run_callbacks() {\n",
       "    window._bokeh_onload_callbacks.forEach(function(callback) { callback() });\n",
       "    delete window._bokeh_onload_callbacks\n",
       "    console.info(\"Bokeh: all callbacks have finished\");\n",
       "  }\n",
       "\n",
       "  function load_libs(js_urls, callback) {\n",
       "    window._bokeh_onload_callbacks.push(callback);\n",
       "    if (window._bokeh_is_loading > 0) {\n",
       "      console.log(\"Bokeh: BokehJS is being loaded, scheduling callback at\", now());\n",
       "      return null;\n",
       "    }\n",
       "    if (js_urls == null || js_urls.length === 0) {\n",
       "      run_callbacks();\n",
       "      return null;\n",
       "    }\n",
       "    console.log(\"Bokeh: BokehJS not loaded, scheduling load and callback at\", now());\n",
       "    window._bokeh_is_loading = js_urls.length;\n",
       "    for (var i = 0; i < js_urls.length; i++) {\n",
       "      var url = js_urls[i];\n",
       "      var s = document.createElement('script');\n",
       "      s.src = url;\n",
       "      s.async = false;\n",
       "      s.onreadystatechange = s.onload = function() {\n",
       "        window._bokeh_is_loading--;\n",
       "        if (window._bokeh_is_loading === 0) {\n",
       "          console.log(\"Bokeh: all BokehJS libraries loaded\");\n",
       "          run_callbacks()\n",
       "        }\n",
       "      };\n",
       "      s.onerror = function() {\n",
       "        console.warn(\"failed to load library \" + url);\n",
       "      };\n",
       "      console.log(\"Bokeh: injecting script tag for BokehJS library: \", url);\n",
       "      document.getElementsByTagName(\"head\")[0].appendChild(s);\n",
       "    }\n",
       "  };var element = document.getElementById(\"627a3fb3-7478-497c-a8ff-5543b70a3a25\");\n",
       "  if (element == null) {\n",
       "    console.log(\"Bokeh: ERROR: autoload.js configured with elementid '627a3fb3-7478-497c-a8ff-5543b70a3a25' but no matching script tag was found. \")\n",
       "    return false;\n",
       "  }\n",
       "\n",
       "  var js_urls = [\"https://cdn.pydata.org/bokeh/release/bokeh-0.12.4.min.js\", \"https://cdn.pydata.org/bokeh/release/bokeh-widgets-0.12.4.min.js\"];\n",
       "\n",
       "  var inline_js = [\n",
       "    function(Bokeh) {\n",
       "      Bokeh.set_log_level(\"info\");\n",
       "    },\n",
       "    \n",
       "    function(Bokeh) {\n",
       "      \n",
       "      document.getElementById(\"627a3fb3-7478-497c-a8ff-5543b70a3a25\").textContent = \"BokehJS is loading...\";\n",
       "    },\n",
       "    function(Bokeh) {\n",
       "      console.log(\"Bokeh: injecting CSS: https://cdn.pydata.org/bokeh/release/bokeh-0.12.4.min.css\");\n",
       "      Bokeh.embed.inject_css(\"https://cdn.pydata.org/bokeh/release/bokeh-0.12.4.min.css\");\n",
       "      console.log(\"Bokeh: injecting CSS: https://cdn.pydata.org/bokeh/release/bokeh-widgets-0.12.4.min.css\");\n",
       "      Bokeh.embed.inject_css(\"https://cdn.pydata.org/bokeh/release/bokeh-widgets-0.12.4.min.css\");\n",
       "    }\n",
       "  ];\n",
       "\n",
       "  function run_inline_js() {\n",
       "    \n",
       "    if ((window.Bokeh !== undefined) || (force === true)) {\n",
       "      for (var i = 0; i < inline_js.length; i++) {\n",
       "        inline_js[i](window.Bokeh);\n",
       "      }if (force === true) {\n",
       "        display_loaded();\n",
       "      }} else if (Date.now() < window._bokeh_timeout) {\n",
       "      setTimeout(run_inline_js, 100);\n",
       "    } else if (!window._bokeh_failed_load) {\n",
       "      console.log(\"Bokeh: BokehJS failed to load within specified timeout.\");\n",
       "      window._bokeh_failed_load = true;\n",
       "    } else if (force !== true) {\n",
       "      var cell = $(document.getElementById(\"627a3fb3-7478-497c-a8ff-5543b70a3a25\")).parents('.cell').data().cell;\n",
       "      cell.output_area.append_execute_result(NB_LOAD_WARNING)\n",
       "    }\n",
       "\n",
       "  }\n",
       "\n",
       "  if (window._bokeh_is_loading === 0) {\n",
       "    console.log(\"Bokeh: BokehJS loaded, going straight to plotting\");\n",
       "    run_inline_js();\n",
       "  } else {\n",
       "    load_libs(js_urls, function() {\n",
       "      console.log(\"Bokeh: BokehJS plotting callback run at\", now());\n",
       "      run_inline_js();\n",
       "    });\n",
       "  }\n",
       "}(this));"
      ]
     },
     "metadata": {},
     "output_type": "display_data"
    }
   ],
   "source": [
    "from taxcalc import *\n",
    "import pandas as pd\n",
    "import numpy as np\n",
    "from bokeh.plotting import figure, show, output_file\n",
    "from bokeh.io import output_notebook, hplot\n",
    "from bokeh.charts import Scatter\n",
    "output_notebook()"
   ]
  },
  {
   "cell_type": "code",
   "execution_count": 2,
   "metadata": {
    "collapsed": false
   },
   "outputs": [
    {
     "name": "stdout",
     "output_type": "stream",
     "text": [
      "You loaded data for 2009.\n",
      "Your data include the following unused variables that will be ignored:\n",
      "  nu18\n",
      "  n21\n",
      "  n1821\n",
      "Calculator instantiation automatically extrapolated your data to 2013.\n"
     ]
    }
   ],
   "source": [
    "recs = Records('ubi_puf.csv', weights='puf_weights.csv', adjust_ratios=None)\n",
    "policy = Policy(start_year=2013)\n",
    "calc = Calculator(policy=policy, records=recs)"
   ]
  },
  {
   "cell_type": "code",
   "execution_count": 3,
   "metadata": {
    "collapsed": false
   },
   "outputs": [],
   "source": [
    "calc.advance_to_year(2014)\n",
    "calc.calc_all()"
   ]
  },
  {
   "cell_type": "code",
   "execution_count": 4,
   "metadata": {
    "collapsed": true
   },
   "outputs": [],
   "source": [
    "soi = pd.read_csv('soi_data.csv')"
   ]
  },
  {
   "cell_type": "code",
   "execution_count": 5,
   "metadata": {
    "collapsed": false
   },
   "outputs": [],
   "source": [
    "def distribution(item, weight, agi):\n",
    "    agi_1 = (((item[agi < 0] * weight[agi < 0]).sum() / 1000))\n",
    "    agi_2 = ((item[(agi > 1) & (agi < 5000)] * weight[(agi > 1) & (agi < 5000)]).sum() / 1000)\n",
    "    agi_3 = ((item[(agi > 5000) & (agi < 10000)] * weight[(agi > 5000) & (agi < 10000)]).sum() / 1000)\n",
    "    agi_4 = ((item[(agi > 10000) & (agi < 15000)] * weight[(agi > 10000) & (agi < 15000)]).sum() / 1000)\n",
    "    agi_5 = ((item[(agi > 15000) & (agi < 20000)] * weight[(agi > 15000) & (agi < 20000)]).sum() / 1000)\n",
    "    agi_6 = ((item[(agi > 20000) & (agi < 25000)] * weight[(agi > 20000) & (agi < 25000)]).sum() / 1000)\n",
    "    agi_7 = ((item[(agi > 25000) & (agi < 30000)] * weight[(agi > 25000) & (agi < 30000)]).sum() / 1000)\n",
    "    agi_8 = ((item[(agi > 30000) & (agi < 40000)] * weight[(agi > 30000) & (agi < 40000)]).sum() / 1000)\n",
    "    agi_9 = ((item[(agi > 40000) & (agi < 50000)] * weight[(agi > 40000) & (agi < 50000)]).sum() / 1000)\n",
    "    agi_10 = ((item[(agi > 50000) & (agi < 75000)] * weight[(agi > 50000) & (agi < 75000)]).sum() / 1000)\n",
    "    agi_11 = ((item[(agi > 75000) & (agi < 100000)] * weight[(agi > 75000) & (agi < 100000)]).sum() / 1000)\n",
    "    agi_12 = ((item[(agi > 100000) & (agi < 200000)] * weight[(agi > 100000) & (agi < 200000)]).sum() / 1000)\n",
    "    agi_13 = ((item[(agi > 200000) & (agi < 500000)] * weight[(agi > 200000) & (agi < 500000)]).sum() / 1000)\n",
    "    agi_14 = ((item[(agi > 500000) & (agi < 1000000)] * weight[(agi > 500000) & (agi < 1000000)]).sum() / 1000)\n",
    "    agi_15 = ((item[(agi > 1000000) & (agi < 1500000)] * weight[(agi > 1000000) & (agi < 1500000)]).sum() / 1000)\n",
    "    agi_16 = ((item[(agi > 1500000) & (agi < 2000000)] * weight[(agi > 1500000) & ( agi < 2000000)]).sum() / 1000)\n",
    "    agi_17 = ((item[(agi > 2000000) & (agi < 5000000)] * weight[(agi > 2000000) & ( agi < 5000000)]).sum() / 1000)\n",
    "    agi_18 = ((item[(agi > 5000000) & (agi < 10000000)] * weight[(agi > 5000000) & ( agi < 10000000)]).sum() / 1000)\n",
    "    agi_19 = ((item[agi > 10000000] * weight[agi > 10000000]).sum() / 1000)\n",
    "    total = ((item * weight).sum() / 1000)\n",
    "    df = [agi_1, agi_2, agi_3, agi_4, agi_5, agi_6, agi_7, agi_8, agi_9, agi_10, agi_11,\n",
    "                       agi_12, agi_13, agi_14, agi_15, agi_16, agi_17, agi_18, agi_19]\n",
    "    return df"
   ]
  },
  {
   "cell_type": "code",
   "execution_count": 6,
   "metadata": {
    "collapsed": false
   },
   "outputs": [],
   "source": [
    "# Find totals for each item\n",
    "tc = pd.DataFrame()\n",
    "tc['AGI'] = distribution(calc.records.c00100, calc.records.s006, calc.records.c00100)\n",
    "tc['Wages'] = distribution(calc.records.e00200, calc.records.s006, calc.records.c00100)\n",
    "tc['Interest'] = distribution(calc.records.e00300, calc.records.s006, calc.records.c00100)\n",
    "tc['Dividends'] = distribution(calc.records.e00650, calc.records.s006, calc.records.c00100)\n",
    "tc['SchC'] = distribution(calc.records.e00900, calc.records.s006, calc.records.c00100)\n",
    "tc['IRA'] = distribution(calc.records.e01400, calc.records.s006, calc.records.c00100)\n",
    "tc['Scorp'] = distribution(calc.records.e26270, calc.records.s006, calc.records.c00100)\n",
    "tc['SS Benefits'] = distribution(calc.records.e02400, calc.records.s006, calc.records.c00100)\n",
    "tc['Item Ded'] = distribution(calc.records.c04470, calc.records.s006, calc.records.c00100)\n",
    "tc['Inc'] = distribution(calc.records.c04800, calc.records.s006, calc.records.c00100)"
   ]
  },
  {
   "cell_type": "code",
   "execution_count": 7,
   "metadata": {
    "collapsed": false
   },
   "outputs": [
    {
     "ename": "KeyError",
     "evalue": "'Sch C inc/loss'",
     "output_type": "error",
     "traceback": [
      "\u001b[0;31m---------------------------------------------------------------------------\u001b[0m",
      "\u001b[0;31mKeyError\u001b[0m                                  Traceback (most recent call last)",
      "\u001b[0;32m<ipython-input-7-5571093adc2a>\u001b[0m in \u001b[0;36m<module>\u001b[0;34m()\u001b[0m\n\u001b[1;32m     13\u001b[0m \u001b[0mresults\u001b[0m\u001b[0;34m[\u001b[0m\u001b[0;34m'TC - Qualified Dividends'\u001b[0m\u001b[0;34m]\u001b[0m \u001b[0;34m=\u001b[0m \u001b[0mtc\u001b[0m\u001b[0;34m[\u001b[0m\u001b[0;34m'Dividends'\u001b[0m\u001b[0;34m]\u001b[0m\u001b[0;34m\u001b[0m\u001b[0m\n\u001b[1;32m     14\u001b[0m \u001b[0mresults\u001b[0m\u001b[0;34m[\u001b[0m\u001b[0;34m'Qualified Dividends % Error'\u001b[0m\u001b[0;34m]\u001b[0m \u001b[0;34m=\u001b[0m \u001b[0;34m(\u001b[0m\u001b[0mtc\u001b[0m\u001b[0;34m[\u001b[0m\u001b[0;34m'Dividends'\u001b[0m\u001b[0;34m]\u001b[0m \u001b[0;34m/\u001b[0m \u001b[0msoi\u001b[0m\u001b[0;34m[\u001b[0m\u001b[0;34m'Dividends'\u001b[0m\u001b[0;34m]\u001b[0m \u001b[0;34m-\u001b[0m \u001b[0;36m1\u001b[0m\u001b[0;34m)\u001b[0m \u001b[0;34m*\u001b[0m \u001b[0;36m100\u001b[0m\u001b[0;34m\u001b[0m\u001b[0m\n\u001b[0;32m---> 15\u001b[0;31m \u001b[0mresults\u001b[0m\u001b[0;34m[\u001b[0m\u001b[0;34m'SOI - Schedule C Net Income/Loss'\u001b[0m\u001b[0;34m]\u001b[0m \u001b[0;34m=\u001b[0m \u001b[0msoi\u001b[0m\u001b[0;34m[\u001b[0m\u001b[0;34m'Sch C inc/loss'\u001b[0m\u001b[0;34m]\u001b[0m\u001b[0;34m\u001b[0m\u001b[0m\n\u001b[0m\u001b[1;32m     16\u001b[0m \u001b[0mresults\u001b[0m\u001b[0;34m[\u001b[0m\u001b[0;34m'TC - Schedule C Net Income/Loss'\u001b[0m\u001b[0;34m]\u001b[0m \u001b[0;34m=\u001b[0m \u001b[0mtc\u001b[0m\u001b[0;34m[\u001b[0m\u001b[0;34m'SchC'\u001b[0m\u001b[0;34m]\u001b[0m\u001b[0;34m\u001b[0m\u001b[0m\n\u001b[1;32m     17\u001b[0m \u001b[0mresults\u001b[0m\u001b[0;34m[\u001b[0m\u001b[0;34m'Sch C Net Income/Loss % Error'\u001b[0m\u001b[0;34m]\u001b[0m \u001b[0;34m=\u001b[0m \u001b[0;34m(\u001b[0m\u001b[0mtc\u001b[0m\u001b[0;34m[\u001b[0m\u001b[0;34m'SchC'\u001b[0m\u001b[0;34m]\u001b[0m \u001b[0;34m/\u001b[0m \u001b[0msoi\u001b[0m\u001b[0;34m[\u001b[0m\u001b[0;34m'Sch C inc/loss'\u001b[0m\u001b[0;34m]\u001b[0m \u001b[0;34m-\u001b[0m \u001b[0;36m1\u001b[0m\u001b[0;34m)\u001b[0m \u001b[0;34m*\u001b[0m \u001b[0;36m100\u001b[0m\u001b[0;34m\u001b[0m\u001b[0m\n",
      "\u001b[0;32m/Users/andersonfrailey/anaconda/lib/python2.7/site-packages/pandas/core/frame.pyc\u001b[0m in \u001b[0;36m__getitem__\u001b[0;34m(self, key)\u001b[0m\n\u001b[1;32m   1990\u001b[0m             \u001b[0;32mreturn\u001b[0m \u001b[0mself\u001b[0m\u001b[0;34m.\u001b[0m\u001b[0m_getitem_multilevel\u001b[0m\u001b[0;34m(\u001b[0m\u001b[0mkey\u001b[0m\u001b[0;34m)\u001b[0m\u001b[0;34m\u001b[0m\u001b[0m\n\u001b[1;32m   1991\u001b[0m         \u001b[0;32melse\u001b[0m\u001b[0;34m:\u001b[0m\u001b[0;34m\u001b[0m\u001b[0m\n\u001b[0;32m-> 1992\u001b[0;31m             \u001b[0;32mreturn\u001b[0m \u001b[0mself\u001b[0m\u001b[0;34m.\u001b[0m\u001b[0m_getitem_column\u001b[0m\u001b[0;34m(\u001b[0m\u001b[0mkey\u001b[0m\u001b[0;34m)\u001b[0m\u001b[0;34m\u001b[0m\u001b[0m\n\u001b[0m\u001b[1;32m   1993\u001b[0m \u001b[0;34m\u001b[0m\u001b[0m\n\u001b[1;32m   1994\u001b[0m     \u001b[0;32mdef\u001b[0m \u001b[0m_getitem_column\u001b[0m\u001b[0;34m(\u001b[0m\u001b[0mself\u001b[0m\u001b[0;34m,\u001b[0m \u001b[0mkey\u001b[0m\u001b[0;34m)\u001b[0m\u001b[0;34m:\u001b[0m\u001b[0;34m\u001b[0m\u001b[0m\n",
      "\u001b[0;32m/Users/andersonfrailey/anaconda/lib/python2.7/site-packages/pandas/core/frame.pyc\u001b[0m in \u001b[0;36m_getitem_column\u001b[0;34m(self, key)\u001b[0m\n\u001b[1;32m   1997\u001b[0m         \u001b[0;31m# get column\u001b[0m\u001b[0;34m\u001b[0m\u001b[0;34m\u001b[0m\u001b[0m\n\u001b[1;32m   1998\u001b[0m         \u001b[0;32mif\u001b[0m \u001b[0mself\u001b[0m\u001b[0;34m.\u001b[0m\u001b[0mcolumns\u001b[0m\u001b[0;34m.\u001b[0m\u001b[0mis_unique\u001b[0m\u001b[0;34m:\u001b[0m\u001b[0;34m\u001b[0m\u001b[0m\n\u001b[0;32m-> 1999\u001b[0;31m             \u001b[0;32mreturn\u001b[0m \u001b[0mself\u001b[0m\u001b[0;34m.\u001b[0m\u001b[0m_get_item_cache\u001b[0m\u001b[0;34m(\u001b[0m\u001b[0mkey\u001b[0m\u001b[0;34m)\u001b[0m\u001b[0;34m\u001b[0m\u001b[0m\n\u001b[0m\u001b[1;32m   2000\u001b[0m \u001b[0;34m\u001b[0m\u001b[0m\n\u001b[1;32m   2001\u001b[0m         \u001b[0;31m# duplicate columns & possible reduce dimensionality\u001b[0m\u001b[0;34m\u001b[0m\u001b[0;34m\u001b[0m\u001b[0m\n",
      "\u001b[0;32m/Users/andersonfrailey/anaconda/lib/python2.7/site-packages/pandas/core/generic.pyc\u001b[0m in \u001b[0;36m_get_item_cache\u001b[0;34m(self, item)\u001b[0m\n\u001b[1;32m   1343\u001b[0m         \u001b[0mres\u001b[0m \u001b[0;34m=\u001b[0m \u001b[0mcache\u001b[0m\u001b[0;34m.\u001b[0m\u001b[0mget\u001b[0m\u001b[0;34m(\u001b[0m\u001b[0mitem\u001b[0m\u001b[0;34m)\u001b[0m\u001b[0;34m\u001b[0m\u001b[0m\n\u001b[1;32m   1344\u001b[0m         \u001b[0;32mif\u001b[0m \u001b[0mres\u001b[0m \u001b[0;32mis\u001b[0m \u001b[0mNone\u001b[0m\u001b[0;34m:\u001b[0m\u001b[0;34m\u001b[0m\u001b[0m\n\u001b[0;32m-> 1345\u001b[0;31m             \u001b[0mvalues\u001b[0m \u001b[0;34m=\u001b[0m \u001b[0mself\u001b[0m\u001b[0;34m.\u001b[0m\u001b[0m_data\u001b[0m\u001b[0;34m.\u001b[0m\u001b[0mget\u001b[0m\u001b[0;34m(\u001b[0m\u001b[0mitem\u001b[0m\u001b[0;34m)\u001b[0m\u001b[0;34m\u001b[0m\u001b[0m\n\u001b[0m\u001b[1;32m   1346\u001b[0m             \u001b[0mres\u001b[0m \u001b[0;34m=\u001b[0m \u001b[0mself\u001b[0m\u001b[0;34m.\u001b[0m\u001b[0m_box_item_values\u001b[0m\u001b[0;34m(\u001b[0m\u001b[0mitem\u001b[0m\u001b[0;34m,\u001b[0m \u001b[0mvalues\u001b[0m\u001b[0;34m)\u001b[0m\u001b[0;34m\u001b[0m\u001b[0m\n\u001b[1;32m   1347\u001b[0m             \u001b[0mcache\u001b[0m\u001b[0;34m[\u001b[0m\u001b[0mitem\u001b[0m\u001b[0;34m]\u001b[0m \u001b[0;34m=\u001b[0m \u001b[0mres\u001b[0m\u001b[0;34m\u001b[0m\u001b[0m\n",
      "\u001b[0;32m/Users/andersonfrailey/anaconda/lib/python2.7/site-packages/pandas/core/internals.pyc\u001b[0m in \u001b[0;36mget\u001b[0;34m(self, item, fastpath)\u001b[0m\n\u001b[1;32m   3223\u001b[0m \u001b[0;34m\u001b[0m\u001b[0m\n\u001b[1;32m   3224\u001b[0m             \u001b[0;32mif\u001b[0m \u001b[0;32mnot\u001b[0m \u001b[0misnull\u001b[0m\u001b[0;34m(\u001b[0m\u001b[0mitem\u001b[0m\u001b[0;34m)\u001b[0m\u001b[0;34m:\u001b[0m\u001b[0;34m\u001b[0m\u001b[0m\n\u001b[0;32m-> 3225\u001b[0;31m                 \u001b[0mloc\u001b[0m \u001b[0;34m=\u001b[0m \u001b[0mself\u001b[0m\u001b[0;34m.\u001b[0m\u001b[0mitems\u001b[0m\u001b[0;34m.\u001b[0m\u001b[0mget_loc\u001b[0m\u001b[0;34m(\u001b[0m\u001b[0mitem\u001b[0m\u001b[0;34m)\u001b[0m\u001b[0;34m\u001b[0m\u001b[0m\n\u001b[0m\u001b[1;32m   3226\u001b[0m             \u001b[0;32melse\u001b[0m\u001b[0;34m:\u001b[0m\u001b[0;34m\u001b[0m\u001b[0m\n\u001b[1;32m   3227\u001b[0m                 \u001b[0mindexer\u001b[0m \u001b[0;34m=\u001b[0m \u001b[0mnp\u001b[0m\u001b[0;34m.\u001b[0m\u001b[0marange\u001b[0m\u001b[0;34m(\u001b[0m\u001b[0mlen\u001b[0m\u001b[0;34m(\u001b[0m\u001b[0mself\u001b[0m\u001b[0;34m.\u001b[0m\u001b[0mitems\u001b[0m\u001b[0;34m)\u001b[0m\u001b[0;34m)\u001b[0m\u001b[0;34m[\u001b[0m\u001b[0misnull\u001b[0m\u001b[0;34m(\u001b[0m\u001b[0mself\u001b[0m\u001b[0;34m.\u001b[0m\u001b[0mitems\u001b[0m\u001b[0;34m)\u001b[0m\u001b[0;34m]\u001b[0m\u001b[0;34m\u001b[0m\u001b[0m\n",
      "\u001b[0;32m/Users/andersonfrailey/anaconda/lib/python2.7/site-packages/pandas/indexes/base.pyc\u001b[0m in \u001b[0;36mget_loc\u001b[0;34m(self, key, method, tolerance)\u001b[0m\n\u001b[1;32m   1876\u001b[0m                 \u001b[0;32mreturn\u001b[0m \u001b[0mself\u001b[0m\u001b[0;34m.\u001b[0m\u001b[0m_engine\u001b[0m\u001b[0;34m.\u001b[0m\u001b[0mget_loc\u001b[0m\u001b[0;34m(\u001b[0m\u001b[0mkey\u001b[0m\u001b[0;34m)\u001b[0m\u001b[0;34m\u001b[0m\u001b[0m\n\u001b[1;32m   1877\u001b[0m             \u001b[0;32mexcept\u001b[0m \u001b[0mKeyError\u001b[0m\u001b[0;34m:\u001b[0m\u001b[0;34m\u001b[0m\u001b[0m\n\u001b[0;32m-> 1878\u001b[0;31m                 \u001b[0;32mreturn\u001b[0m \u001b[0mself\u001b[0m\u001b[0;34m.\u001b[0m\u001b[0m_engine\u001b[0m\u001b[0;34m.\u001b[0m\u001b[0mget_loc\u001b[0m\u001b[0;34m(\u001b[0m\u001b[0mself\u001b[0m\u001b[0;34m.\u001b[0m\u001b[0m_maybe_cast_indexer\u001b[0m\u001b[0;34m(\u001b[0m\u001b[0mkey\u001b[0m\u001b[0;34m)\u001b[0m\u001b[0;34m)\u001b[0m\u001b[0;34m\u001b[0m\u001b[0m\n\u001b[0m\u001b[1;32m   1879\u001b[0m \u001b[0;34m\u001b[0m\u001b[0m\n\u001b[1;32m   1880\u001b[0m         \u001b[0mindexer\u001b[0m \u001b[0;34m=\u001b[0m \u001b[0mself\u001b[0m\u001b[0;34m.\u001b[0m\u001b[0mget_indexer\u001b[0m\u001b[0;34m(\u001b[0m\u001b[0;34m[\u001b[0m\u001b[0mkey\u001b[0m\u001b[0;34m]\u001b[0m\u001b[0;34m,\u001b[0m \u001b[0mmethod\u001b[0m\u001b[0;34m=\u001b[0m\u001b[0mmethod\u001b[0m\u001b[0;34m,\u001b[0m \u001b[0mtolerance\u001b[0m\u001b[0;34m=\u001b[0m\u001b[0mtolerance\u001b[0m\u001b[0;34m)\u001b[0m\u001b[0;34m\u001b[0m\u001b[0m\n",
      "\u001b[0;32mpandas/index.pyx\u001b[0m in \u001b[0;36mpandas.index.IndexEngine.get_loc (pandas/index.c:4027)\u001b[0;34m()\u001b[0m\n",
      "\u001b[0;32mpandas/index.pyx\u001b[0m in \u001b[0;36mpandas.index.IndexEngine.get_loc (pandas/index.c:3891)\u001b[0;34m()\u001b[0m\n",
      "\u001b[0;32mpandas/hashtable.pyx\u001b[0m in \u001b[0;36mpandas.hashtable.PyObjectHashTable.get_item (pandas/hashtable.c:12408)\u001b[0;34m()\u001b[0m\n",
      "\u001b[0;32mpandas/hashtable.pyx\u001b[0m in \u001b[0;36mpandas.hashtable.PyObjectHashTable.get_item (pandas/hashtable.c:12359)\u001b[0;34m()\u001b[0m\n",
      "\u001b[0;31mKeyError\u001b[0m: 'Sch C inc/loss'"
     ]
    }
   ],
   "source": [
    "# Create results DataFrame and file\n",
    "results = pd.DataFrame()\n",
    "results['SOI - AGI'] = soi['AGI']\n",
    "results['TC - AGI'] = tc['AGI']\n",
    "results['AGI % Error'] = (tc['AGI'] / soi['AGI'] - 1) * 100\n",
    "results['SOI - Wages'] = soi['Wages']\n",
    "results['TC - Wages'] = tc['Wages']\n",
    "results['Wages % Error'] = (tc['Wages'] / soi['Wages'] - 1) * 100\n",
    "results['SOI - Taxable Interest'] = soi['Interest']\n",
    "results['TC - Taxable Interest'] = tc['Interest']\n",
    "results['Taxable Interest % Error'] = (tc['Interest'] / soi['Interest'] - 1) * 100\n",
    "results['SOI - Qualified Dividends'] = soi.Dividends\n",
    "results['TC - Qualified Dividends'] = tc['Dividends']\n",
    "results['Qualified Dividends % Error'] = (tc['Dividends'] / soi['Dividends'] - 1) * 100\n",
    "results['SOI - Schedule C Net Income/Loss'] = soi['Sch C inc/loss']\n",
    "results['TC - Schedule C Net Income/Loss'] = tc['SchC']\n",
    "results['Sch C Net Income/Loss % Error'] = (tc['SchC'] / soi['Sch C inc/loss'] - 1) * 100\n",
    "results['SOI - IRA Distributions'] = soi['IRA']\n",
    "results['TC - IRA Distribtuions'] = tc['IRA']\n",
    "results['IRA Distributions Error'] = (tc['IRA'] / soi['IRA'] - 1) * 100\n",
    "results['SOI - S Corp Income'] = soi['S Corp']\n",
    "results['TC - S Corp Income'] = tc['Scorp']\n",
    "results['S Corp Income % Error'] = (tc['Scorp'] / soi['S Corp'] - 1) * 100\n",
    "results['SOI - SS Benefits'] = soi['SS Benefit']\n",
    "results['TC - SS Benefits'] = tc['SS Benefits']\n",
    "results['SS Benefits % Error'] = (tc['SS Benefits'] / soi['SS Benefit'] - 1) * 100\n",
    "results['SOI - Itemized Deductions'] = soi['Item Ded']\n",
    "results['TC - Itemized Deduction'] = tc['Item Ded']\n",
    "results['Itemized Deductions % Error'] = (tc['Item Ded'] / soi['Item Ded'] - 1) * 100\n",
    "results['SOI - Taxable Income'] = soi['Inc']\n",
    "results['TC - Taxable Income'] = tc['Inc']\n",
    "results['Taxable Income % Error'] = (tc['Inc'] / soi['Inc'] - 1) * 100"
   ]
  },
  {
   "cell_type": "code",
   "execution_count": null,
   "metadata": {
    "collapsed": false
   },
   "outputs": [],
   "source": [
    "index_list = ['Zero or Negative',\n",
    "              '$1-$5K',\n",
    "              '$5K-$10K',\n",
    "              '$10K-$15K',\n",
    "              '$15K-$20K',\n",
    "              '$20K-$25K',\n",
    "              '$25K-$30K',\n",
    "              '$30K-$40K',\n",
    "              '$40K-$50K',\n",
    "              '$50K-$75K',\n",
    "              '$75K-$100K',\n",
    "              '$100K-$200K',\n",
    "              '$200K-$500K',\n",
    "              '$500K-$1M',\n",
    "              '$1M-$1.5M',\n",
    "              '$1.5M-$2M',\n",
    "              '$2M-$5M',\n",
    "              '$5M-$10M',\n",
    "              '$10M and over']\n",
    "results.index = index_list\n",
    "results.to_csv('Distribution totals.csv')"
   ]
  },
  {
   "cell_type": "code",
   "execution_count": null,
   "metadata": {
    "collapsed": false
   },
   "outputs": [],
   "source": [
    "results"
   ]
  },
  {
   "cell_type": "markdown",
   "metadata": {},
   "source": [
    "## Distributions"
   ]
  },
  {
   "cell_type": "markdown",
   "metadata": {},
   "source": [
    "### AGI"
   ]
  },
  {
   "cell_type": "code",
   "execution_count": null,
   "metadata": {
    "collapsed": false
   },
   "outputs": [],
   "source": [
    "soi_agi = pd.DataFrame()\n",
    "soi_agi['Percent of Total AGI'] = soi['AGI'] / soi['AGI'].sum()\n",
    "soi_agi['Measure'] = 'SOI'\n",
    "soi_agi['AGI Bin'] = index_list\n",
    "tc_agi = pd.DataFrame()\n",
    "tc_agi['Percent of Total AGI'] = tc['AGI'] / tc['AGI'].sum()\n",
    "tc_agi['Measure'] = 'TC'\n",
    "tc_agi['AGI Bin'] = index_list\n",
    "data_agi = [soi_agi, tc_agi]\n",
    "plot_data_agi = pd.concat(data_agi)\n",
    "plot_agi = Scatter(plot_data_agi, x='AGI Bin', y='Percent of Total AGI', color='Measure', \n",
    "                   title='Percent of Total AGI by AGI Bin')\n",
    "show(plot_agi)\n",
    "\n",
    "soi_agi_sum = pd.DataFrame()\n",
    "soi_agi_sum['Total AGI'] = soi['AGI']\n",
    "soi_agi_sum['Measure'] = 'SOI'\n",
    "soi_agi_sum['AGI Bin'] = index_list\n",
    "tc_agi_sum = pd.DataFrame()\n",
    "tc_agi_sum['Total AGI'] = tc['AGI']\n",
    "tc_agi_sum['Measure'] = 'TC'\n",
    "tc_agi_sum['AGI Bin'] = index_list\n",
    "data_agi_sum = [soi_agi_sum, tc_agi_sum]\n",
    "plot_data_agi_sum = pd.concat(data_agi_sum)\n",
    "plot_agi_sum = Scatter(plot_data_agi_sum, x='AGI Bin', y='Total AGI', color='Measure', \n",
    "                   title='Total AGI by AGI Bin')\n",
    "show(plot_agi_sum)"
   ]
  },
  {
   "cell_type": "markdown",
   "metadata": {},
   "source": [
    "### Wages and Salaries"
   ]
  },
  {
   "cell_type": "code",
   "execution_count": null,
   "metadata": {
    "collapsed": false
   },
   "outputs": [],
   "source": [
    "soi_wage = pd.DataFrame()\n",
    "soi_wage['Percent of Total Wage and Salaries Income'] = soi['Wages'] / soi['Wages'].sum()\n",
    "soi_wage['Measure'] = 'SOI'\n",
    "soi_wage['AGI Bin'] = index_list\n",
    "tc_wage = pd.DataFrame()\n",
    "tc_wage['Percent of Total Wage and Salaries Income'] = tc['Wages'] / tc['Wages'].sum()\n",
    "tc_wage['Measure'] = 'TC'\n",
    "tc_wage['AGI Bin'] = index_list\n",
    "data_wage = [soi_wage, tc_wage]\n",
    "plot_data_wage = pd.concat(data_wage)\n",
    "plot_wage = Scatter(plot_data_wage, x='AGI Bin', y='Percent of Total Wage and Salaries Income', color='Measure',\n",
    "                    title = 'Percent of Total Wages and Salaries by AGI Bin')\n",
    "show(plot_wage)\n",
    "\n",
    "soi_wage_sum = pd.DataFrame()\n",
    "soi_wage_sum['Total Wage and Salaries Income'] = soi['Wages']\n",
    "soi_wage_sum['Measure'] = 'SOI'\n",
    "soi_wage_sum['AGI Bin'] = index_list\n",
    "tc_wage_sum = pd.DataFrame()\n",
    "tc_wage_sum['Total Wage and Salaries Income'] = tc['Wages']\n",
    "tc_wage_sum['Measure'] = 'TC'\n",
    "tc_wage_sum['AGI Bin'] = index_list\n",
    "data_wage_sum = [soi_wage_sum, tc_wage_sum]\n",
    "plot_data_wage_sum = pd.concat(data_wage_sum)\n",
    "plot_wage_sum = Scatter(plot_data_wage_sum, x='AGI Bin', y='Total Wage and Salaries Income', color='Measure',\n",
    "                    title = 'Total Wages and Salaries by AGI Bin')\n",
    "show(plot_wage_sum)"
   ]
  },
  {
   "cell_type": "markdown",
   "metadata": {},
   "source": [
    "### Taxable Interest"
   ]
  },
  {
   "cell_type": "code",
   "execution_count": null,
   "metadata": {
    "collapsed": false
   },
   "outputs": [],
   "source": [
    "soi_int = pd.DataFrame()\n",
    "soi_int['Percent of Total Interest Income'] = soi['Interest'] / soi['Interest'].sum()\n",
    "soi_int['Measure'] = 'SOI'\n",
    "soi_int['AGI Bin'] = index_list\n",
    "tc_int = pd.DataFrame()\n",
    "tc_int['Percent of Total Interest Income'] = tc['Interest'] / tc['Interest'].sum()\n",
    "tc_int['Measure'] = 'TC'\n",
    "tc_int['AGI Bin'] = index_list\n",
    "data_int = [soi_int, tc_int]\n",
    "plot_data_int = pd.concat(data_int)\n",
    "plot_int = Scatter(plot_data_int, x='AGI Bin', y='Percent of Total Interest Income', color='Measure',\n",
    "                    title = 'Percent of Total Interest Income by AGI Bin')\n",
    "show(plot_int)\n",
    "\n",
    "soi_int_sum = pd.DataFrame()\n",
    "soi_int_sum['Total Interest Income'] = soi['Interest']\n",
    "soi_int_sum['Measure'] = 'SOI'\n",
    "soi_int_sum['AGI Bin'] = index_list\n",
    "tc_int_sum = pd.DataFrame()\n",
    "tc_int_sum['Total Interest Income'] = tc['Interest']\n",
    "tc_int_sum['Measure'] = 'TC'\n",
    "tc_int_sum['AGI Bin'] = index_list\n",
    "data_int_sum = [soi_int_sum, tc_int_sum]\n",
    "plot_data_int_sum = pd.concat(data_int_sum)\n",
    "plot_int_sum = Scatter(plot_data_int_sum, x='AGI Bin', y='Total Interest Income', color='Measure',\n",
    "                    title = 'Total Interest Income by AGI Bin')\n",
    "show(plot_int_sum)"
   ]
  },
  {
   "cell_type": "markdown",
   "metadata": {},
   "source": [
    "### Qualified Dividends"
   ]
  },
  {
   "cell_type": "code",
   "execution_count": null,
   "metadata": {
    "collapsed": false
   },
   "outputs": [],
   "source": [
    "soi_div = pd.DataFrame()\n",
    "soi_div['Percent of Total Dividend Income'] = soi['Dividends'] / soi['Dividends'].sum()\n",
    "soi_div['Measure'] = 'SOI'\n",
    "soi_div['AGI Bin'] = index_list\n",
    "tc_div = pd.DataFrame()\n",
    "tc_div['Percent of Total Dividend Income'] = tc['Dividends'] / tc['Dividends'].sum()\n",
    "tc_div['Measure'] = 'TC'\n",
    "tc_div['AGI Bin'] = index_list\n",
    "data_div = [soi_div, tc_div]\n",
    "plot_data_div = pd.concat(data_div)\n",
    "plot_div = Scatter(plot_data_div, x='AGI Bin', y='Percent of Total Dividend Income', color='Measure',\n",
    "                    title = 'Percent of Total Qualified Dividends Distribution by AGI Bin')\n",
    "show(plot_div)\n",
    "\n",
    "soi_div_sum = pd.DataFrame()\n",
    "soi_div_sum['Total Dividend Income'] = soi['Dividends']\n",
    "soi_div_sum['Measure'] = 'SOI'\n",
    "soi_div_sum['AGI Bin'] = index_list\n",
    "tc_div_sum = pd.DataFrame()\n",
    "tc_div_sum['Total Dividend Income'] = tc['Dividends']\n",
    "tc_div_sum['Measure'] = 'TC'\n",
    "tc_div_sum['AGI Bin'] = index_list\n",
    "data_div_sum = [soi_div_sum, tc_div_sum]\n",
    "plot_data_div_sum = pd.concat(data_div_sum)\n",
    "plot_div_sum = Scatter(plot_data_div_sum, x='AGI Bin', y='Total Dividend Income', color='Measure',\n",
    "                    title = 'Total Qualified Dividends Distribution by AGI Bin')\n",
    "show(plot_div_sum)"
   ]
  },
  {
   "cell_type": "markdown",
   "metadata": {},
   "source": [
    "### Schedule C Net Income/Loss"
   ]
  },
  {
   "cell_type": "code",
   "execution_count": null,
   "metadata": {
    "collapsed": false
   },
   "outputs": [],
   "source": [
    "soi_schc = pd.DataFrame()\n",
    "soi_schc['Percent of Total Schedule C Income'] = soi['Sch C inc/loss'] / soi['Sch C inc/loss'].sum()\n",
    "soi_schc['Measure'] = 'SOI'\n",
    "soi_schc['AGI Bin'] = index_list\n",
    "tc_schc = pd.DataFrame()\n",
    "tc_schc['Percent of Total Schedule C Income'] = tc['SchC'] / tc['SchC'].sum()\n",
    "tc_schc['Measure'] = 'TC'\n",
    "tc_schc['AGI Bin'] = index_list\n",
    "data_schc = [soi_schc, tc_schc]\n",
    "plot_data_schc = pd.concat(data_schc)\n",
    "plot_schc = Scatter(plot_data_schc, x='AGI Bin', y='Percent of Total Schedule C Income', color='Measure',\n",
    "                    title = 'Percent of Total Schedule C Income by AGI Bin')\n",
    "show(plot_schc)\n",
    "\n",
    "soi_schc_sum = pd.DataFrame()\n",
    "soi_schc_sum['Total Schedule C Income'] = soi['Sch C inc/loss']\n",
    "soi_schc_sum['Measure'] = 'SOI'\n",
    "soi_schc_sum['AGI Bin'] = index_list\n",
    "tc_schc_sum = pd.DataFrame()\n",
    "tc_schc_sum['Total Schedule C Income'] = tc['SchC']\n",
    "tc_schc_sum['Measure'] = 'TC'\n",
    "tc_schc_sum['AGI Bin'] = index_list\n",
    "data_schc_sum = [soi_schc_sum, tc_schc_sum]\n",
    "plot_data_schc_sum = pd.concat(data_schc_sum)\n",
    "plot_schc_sum = Scatter(plot_data_schc_sum, x='AGI Bin', y='Total Schedule C Income', color='Measure',\n",
    "                    title = 'Total Schedule C Income by AGI Bin')\n",
    "show(plot_schc_sum)"
   ]
  },
  {
   "cell_type": "markdown",
   "metadata": {},
   "source": [
    "### Taxable IRA Distributions"
   ]
  },
  {
   "cell_type": "code",
   "execution_count": null,
   "metadata": {
    "collapsed": false,
    "scrolled": false
   },
   "outputs": [],
   "source": [
    "soi_ira = pd.DataFrame()\n",
    "soi_ira['Percent of Taxable IRA Distributions'] = soi['IRA'] / soi['IRA'].sum()\n",
    "soi_ira['Measure'] = 'SOI'\n",
    "soi_ira['AGI Bin'] = index_list\n",
    "tc_ira = pd.DataFrame()\n",
    "tc_ira['Percent of Taxable IRA Distributions'] = tc['IRA'] / tc['IRA'].sum()\n",
    "tc_ira['Measure'] = 'TC'\n",
    "tc_ira['AGI Bin'] = index_list\n",
    "data_ira = [soi_ira, tc_ira]\n",
    "plot_data_ira = pd.concat(data_ira)\n",
    "plot_ira = Scatter(plot_data_ira, x='AGI Bin', y='Percent of Taxable IRA Distributions', color='Measure',\n",
    "                    title = 'Percent of Total Taxable IRA Distributions by AGI Bin')\n",
    "show(plot_ira)\n",
    "\n",
    "soi_ira_sum = pd.DataFrame()\n",
    "soi_ira_sum['Total Taxable IRA Distributions'] = soi['IRA']\n",
    "soi_ira_sum['Measure'] = 'SOI'\n",
    "soi_ira_sum['AGI Bin'] = index_list\n",
    "tc_ira_sum = pd.DataFrame()\n",
    "tc_ira_sum['Total Taxable IRA Distributions'] = tc['IRA']\n",
    "tc_ira_sum['Measure'] = 'TC'\n",
    "tc_ira_sum['AGI Bin'] = index_list\n",
    "data_ira_sum = [soi_ira_sum, tc_ira_sum]\n",
    "plot_data_ira_sum = pd.concat(data_ira_sum)\n",
    "plot_ira_sum = Scatter(plot_data_ira_sum, x='AGI Bin', y='Total Taxable IRA Distributions', color='Measure',\n",
    "                    title = 'Total Taxable IRA Distributions by AGI Bin')\n",
    "show(plot_ira_sum)"
   ]
  },
  {
   "cell_type": "markdown",
   "metadata": {},
   "source": [
    "### S Corporation Income"
   ]
  },
  {
   "cell_type": "code",
   "execution_count": null,
   "metadata": {
    "collapsed": false
   },
   "outputs": [],
   "source": [
    "soi_scorp = pd.DataFrame()\n",
    "soi_scorp['Percent of Total S Corporation Income'] = soi['S Corp'] / soi['S Corp'].sum()\n",
    "soi_scorp['Measure'] = 'SOI'\n",
    "soi_scorp['AGI Bin'] = index_list\n",
    "tc_scorp = pd.DataFrame()\n",
    "tc_scorp['Percent of Total S Corporation Income'] = tc['Scorp'] / tc['Scorp'].sum()\n",
    "tc_scorp['Measure'] = 'TC'\n",
    "tc_scorp['AGI Bin'] = index_list\n",
    "data_scorp = [soi_scorp, tc_scorp]\n",
    "plot_data_scorp = pd.concat(data_scorp)\n",
    "plot_scorp = Scatter(plot_data_scorp, x='AGI Bin', y='Percent of Total S Corporation Income', color='Measure',\n",
    "                    title = 'Percent of Total S Corporation Income by AGI Bin')\n",
    "show(plot_scorp)\n",
    "\n",
    "soi_scorp_sum = pd.DataFrame()\n",
    "soi_scorp_sum['Total S Corporation Income'] = soi['S Corp']\n",
    "soi_scorp_sum['Measure'] = 'SOI'\n",
    "soi_scorp_sum['AGI Bin'] = index_list\n",
    "tc_scorp_sum = pd.DataFrame()\n",
    "tc_scorp_sum['Total S Corporation Income'] = tc['Scorp']\n",
    "tc_scorp_sum['Measure'] = 'TC'\n",
    "tc_scorp_sum['AGI Bin'] = index_list\n",
    "data_scorp_sum = [soi_scorp_sum, tc_scorp_sum]\n",
    "plot_data_scorp_sum = pd.concat(data_scorp_sum)\n",
    "plot_scorp_sum = Scatter(plot_data_scorp_sum, x='AGI Bin', y='Total S Corporation Income', color='Measure',\n",
    "                    title = 'Total S Corporation Income by AGI Bin')\n",
    "show(plot_scorp_sum)"
   ]
  },
  {
   "cell_type": "markdown",
   "metadata": {},
   "source": [
    "### Social Security Benefits"
   ]
  },
  {
   "cell_type": "code",
   "execution_count": null,
   "metadata": {
    "collapsed": false
   },
   "outputs": [],
   "source": [
    "soi_ss = pd.DataFrame()\n",
    "soi_ss['Percent of Total SS Benefits'] = soi['SS Benefit'] / soi['SS Benefit'].sum()\n",
    "soi_ss['Measure'] = 'SOI'\n",
    "soi_ss['AGI Bin'] = index_list\n",
    "tc_ss = pd.DataFrame()\n",
    "tc_ss['Percent of Total SS Benefits'] = tc['SS Benefits'] / tc['SS Benefits'].sum()\n",
    "tc_ss['Measure'] = 'TC'\n",
    "tc_ss['AGI Bin'] = index_list\n",
    "data_ss = [soi_ss, tc_ss]\n",
    "plot_data_ss = pd.concat(data_ss)\n",
    "plot_ss = Scatter(plot_data_ss, x='AGI Bin', y='Percent of Total SS Benefits', color='Measure',\n",
    "                    title = 'Percent of Total SS Benefits by AGI Bin')\n",
    "show(plot_ss)\n",
    "\n",
    "soi_ss_sum = pd.DataFrame()\n",
    "soi_ss_sum['Total SS Benefits'] = soi['SS Benefit']\n",
    "soi_ss_sum['Measure'] = 'SOI'\n",
    "soi_ss_sum['AGI Bin'] = index_list\n",
    "tc_ss_sum = pd.DataFrame()\n",
    "tc_ss_sum['Total SS Benefits'] = tc['SS Benefits']\n",
    "tc_ss_sum['Measure'] = 'TC'\n",
    "tc_ss_sum['AGI Bin'] = index_list\n",
    "data_ss_sum = [soi_ss_sum, tc_ss_sum]\n",
    "plot_data_ss_sum = pd.concat(data_ss_sum)\n",
    "plot_ss_sum = Scatter(plot_data_ss_sum, x='AGI Bin', y='Total SS Benefits', color='Measure',\n",
    "                    title = 'Total SS Benefits by AGI Bin')\n",
    "show(plot_ss_sum)"
   ]
  },
  {
   "cell_type": "markdown",
   "metadata": {},
   "source": [
    "### Total Itemized Deductions"
   ]
  },
  {
   "cell_type": "code",
   "execution_count": null,
   "metadata": {
    "collapsed": false
   },
   "outputs": [],
   "source": [
    "soi_item = pd.DataFrame()\n",
    "soi_item['Percent of Total Itemized Deductions'] = soi['Item Ded'] / soi['Item Ded'].sum()\n",
    "soi_item['Measure'] = 'SOI'\n",
    "soi_item['AGI Bin'] = index_list\n",
    "tc_item = pd.DataFrame()\n",
    "tc_item['Percent of Total Itemized Deductions'] = tc['Item Ded'] / tc['Item Ded'].sum()\n",
    "tc_item['Measure'] = 'TC'\n",
    "tc_item['AGI Bin'] = index_list\n",
    "data_item = [soi_item, tc_item]\n",
    "plot_data_item = pd.concat(data_item)\n",
    "plot_item = Scatter(plot_data_item, x='AGI Bin', y='Percent of Total Itemized Deductions', color='Measure',\n",
    "                    title = 'Percent of Total Itemized Deductions by AGI Bin')\n",
    "show(plot_item)\n",
    "\n",
    "soi_item_sum = pd.DataFrame()\n",
    "soi_item_sum['Total Itemized Deductions'] = soi['Item Ded']\n",
    "soi_item_sum['Measure'] = 'SOI'\n",
    "soi_item_sum['AGI Bin'] = index_list\n",
    "tc_item_sum = pd.DataFrame()\n",
    "tc_item_sum['Total Itemized Deductions'] = tc['Item Ded']\n",
    "tc_item_sum['Measure'] = 'TC'\n",
    "tc_item_sum['AGI Bin'] = index_list\n",
    "data_item_sum = [soi_item_sum, tc_item_sum]\n",
    "plot_data_item_sum = pd.concat(data_item_sum)\n",
    "plot_item_sum = Scatter(plot_data_item_sum, x='AGI Bin', y='Total Itemized Deductions', color='Measure',\n",
    "                    title = 'Total Itemized Deductions by AGI Bin')\n",
    "show(plot_item_sum)"
   ]
  },
  {
   "cell_type": "markdown",
   "metadata": {},
   "source": [
    "### Taxable Income"
   ]
  },
  {
   "cell_type": "code",
   "execution_count": null,
   "metadata": {
    "collapsed": false,
    "scrolled": false
   },
   "outputs": [],
   "source": [
    "\n",
    "soi_inc = pd.DataFrame()\n",
    "soi_inc['Percent of Total Taxable Income'] = soi['Inc'] / soi['Inc'].sum()\n",
    "soi_inc['Measure'] = 'SOI'\n",
    "soi_inc['AGI Bin'] = index_list\n",
    "tc_inc = pd.DataFrame()\n",
    "tc_inc['Percent of Total Taxable Income'] = tc['Inc'] / tc['Inc'].sum()\n",
    "tc_inc['Measure'] = 'TC'\n",
    "tc_inc['AGI Bin'] = index_list\n",
    "data_inc = [soi_inc, tc_inc]\n",
    "plot_data_inc = pd.concat(data_inc)\n",
    "plot_inc = Scatter(plot_data_inc, x='AGI Bin', y='Percent of Total Taxable Income', color='Measure',\n",
    "                    title = 'Percent of Total Taxable Income by AGI Bin')\n",
    "show(plot_inc)\n",
    "\n",
    "soi_inc_sum = pd.DataFrame()\n",
    "soi_inc_sum['Total Taxable Income'] = soi['Inc']\n",
    "soi_inc_sum['Measure'] = 'SOI'\n",
    "soi_inc_sum['AGI Bin'] = index_list\n",
    "tc_inc_sum = pd.DataFrame()\n",
    "tc_inc_sum['Total Taxable Income'] = tc['Inc']\n",
    "tc_inc_sum['Measure'] = 'TC'\n",
    "tc_inc_sum['AGI Bin'] = index_list\n",
    "data_inc_sum = [soi_inc_sum, tc_inc_sum]\n",
    "plot_data_inc_sum = pd.concat(data_inc_sum)\n",
    "plot_inc_sum = Scatter(plot_data_inc_sum, x='AGI Bin', y='Total Taxable Income', color='Measure',\n",
    "                    title = 'Total Taxable Income by AGI Bin')\n",
    "show(plot_inc_sum)"
   ]
  },
  {
   "cell_type": "code",
   "execution_count": null,
   "metadata": {
    "collapsed": true
   },
   "outputs": [],
   "source": []
  }
 ],
 "metadata": {
  "anaconda-cloud": {},
  "kernelspec": {
   "display_name": "Python [conda root]",
   "language": "python",
   "name": "conda-root-py"
  },
  "language_info": {
   "codemirror_mode": {
    "name": "ipython",
    "version": 2
   },
   "file_extension": ".py",
   "mimetype": "text/x-python",
   "name": "python",
   "nbconvert_exporter": "python",
   "pygments_lexer": "ipython2",
   "version": "2.7.13"
  }
 },
 "nbformat": 4,
 "nbformat_minor": 0
}
