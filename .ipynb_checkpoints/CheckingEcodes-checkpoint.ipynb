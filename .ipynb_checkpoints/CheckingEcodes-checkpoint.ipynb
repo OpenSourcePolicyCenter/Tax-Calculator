{
 "cells": [
  {
   "cell_type": "code",
   "execution_count": 3,
   "metadata": {
    "collapsed": false
   },
   "outputs": [
    {
     "name": "stdout",
     "output_type": "stream",
     "text": [
      "You loaded data for 2008.\n",
      "Your data have beeen extrapolated to 2013.\n"
     ]
    }
   ],
   "source": [
    "from pandas import DataFrame, concat\n",
    "from taxcalc.calculate import *\n",
    "from taxcalc.records import *\n",
    "from taxcalc.parameters import *\n",
    "import taxcalc.parameters as parameters\n",
    "\n",
    "params = Parameters()\n",
    "\n",
    "# Create a Public Use File object\n",
    "tax_dta = pd.read_csv(\"puf.csv\")\n",
    "\n",
    "blowup_factors = \"./taxcalc/StageIFactors.csv\"\n",
    "weights = \"./taxcalc/WEIGHTS.csv\"\n",
    "\n",
    "puf = Records(tax_dta, blowup_factors, weights)\n",
    "\n",
    "# Create a Calculator\n",
    "calc = Calculator(parameters=params, records=puf)"
   ]
  },
  {
   "cell_type": "code",
   "execution_count": 4,
   "metadata": {
    "collapsed": false
   },
   "outputs": [
    {
     "name": "stdout",
     "output_type": "stream",
     "text": [
      "[ 0.]\n",
      "[ 0.]\n"
     ]
    }
   ],
   "source": [
    "print calc.records.e00300[calc.records.RECID==12431]\n",
    "print calc.records.e00400[calc.records.RECID==12431]"
   ]
  }
 ],
 "metadata": {
  "kernelspec": {
   "display_name": "Python 2",
   "language": "python",
   "name": "python2"
  },
  "language_info": {
   "codemirror_mode": {
    "name": "ipython",
    "version": 2
   },
   "file_extension": ".py",
   "mimetype": "text/x-python",
   "name": "python",
   "nbconvert_exporter": "python",
   "pygments_lexer": "ipython2",
   "version": "2.7.9"
  }
 },
 "nbformat": 4,
 "nbformat_minor": 0
}
