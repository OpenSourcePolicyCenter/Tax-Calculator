{
 "cells": [
  {
   "cell_type": "markdown",
   "metadata": {},
   "source": [
    "## Better Way Reform Plan"
   ]
  },
  {
   "cell_type": "code",
   "execution_count": 1,
   "metadata": {
    "collapsed": true
   },
   "outputs": [],
   "source": [
    "import sys\n",
    "sys.path.append(\"../../\")\n",
    "from taxcalc import *\n",
    "import pandas as pd\n",
    "import numpy as np\n",
    "import copy\n",
    "import matplotlib\n",
    "import matplotlib.pyplot as plt \n",
    "from matplotlib.transforms import BlendedGenericTransform\n",
    "%matplotlib inline"
   ]
  },
  {
   "cell_type": "markdown",
   "metadata": {},
   "source": [
    "### Baseline"
   ]
  },
  {
   "cell_type": "code",
   "execution_count": 2,
   "metadata": {
    "collapsed": false
   },
   "outputs": [],
   "source": [
    "policy_xx = Policy()\n",
    "behavior_xx = Behavior()\n",
    "records_xx = Records(\"../../puf.csv\")"
   ]
  },
  {
   "cell_type": "markdown",
   "metadata": {},
   "source": [
    "### The full reform plan"
   ]
  },
  {
   "cell_type": "code",
   "execution_count": 3,
   "metadata": {
    "collapsed": false
   },
   "outputs": [],
   "source": [
    "# Set 10% and 15% brackets to 12%\n",
    "# Set 25% and 28% brackets to 25%\n",
    "# Set 33%, 35% and 39.6% brackets to 33%\n",
    "# Repeal Alternative minumum tax\n",
    "# Standard deduction 12K for single/separate, 24K for married, 18K for single with child(Head of HH)\n",
    "#    Should we eliminate the additional standard deduction for the aged and blind?\n",
    "# Personal exemption '_II_credit' set to zero\n",
    "# Child tax credit and non-child dependent credit implemented oddly\n",
    "#    Dependent standard deduction set to $500, and child tax credit set to $1000\n",
    "#    Should mimic non-refundable $500 deduction for non-child dependent and $1500 child tax credit\n",
    "# Child tax credit phaseout for married couples increased to $150K\n",
    "# Eliminated all itemized deductions except mortgage and charity\n",
    "# Excluded half of interest income from final taxable interest income to match rates on cap gains/dividends\n",
    "# Cap gains & dividend income changed\n",
    "#    Second cap gains threshold moved to same as fourth income tax bracket\n",
    "#    Rates adjusted to 6%, 12.5% and 16.5%\n",
    "# Eliminated NIIT\n",
    "\n",
    "# Didn't implement business pass-thru rate to 25%--try 31.3% top rate instead\n",
    "# Didn't implement change from depreciation to expensing\n",
    "# Didn't deal with eliminating net interest expense deductions for businesses\n",
    "# Didn't eliminate Section 199\n",
    "# Didn't implement changes to net operating losses\n",
    "\n",
    "\n",
    "\n",
    "policy_y1 = Policy()\n",
    "behavior_y1 = Behavior()\n",
    "records_y1 = Records(\"../../puf.csv\")\n",
    "reform_y1 = {\n",
    "    2017: {\n",
    "        '_II_rt1': [0.12],\n",
    "        '_II_rt2': [0.12],\n",
    "        '_II_rt3': [0.25],\n",
    "        '_II_rt4': [0.25],\n",
    "        '_II_rt5': [0.33],\n",
    "        '_II_rt6': [0.33],\n",
    "        '_II_rt7': [0.33],\n",
    "        '_AMT_trt1': [0.0],\n",
    "        '_AMT_trt2': [0.0],\n",
    "        '_STD': [[12000, 24000, 12000, 18000, 24000, 12000, 500]],\n",
    "        '_STD_Aged': [[0,0,0,0,0,0],\n",
    "                      [0,0,0,0,0,0],\n",
    "                      [0,0,0,0,0,0],\n",
    "                      [0,0,0,0,0,0]],\n",
    "        '_II_em': [0,0,0,0],\n",
    "        '_CTC_c': [1000],\n",
    "        '_CTC_ps': [[75000, 150000, 55000, 75000, 75000, 55000]],\n",
    "        '_ID_StateLocalTax_HC': [1.0],\n",
    "        '_ID_Medical_HC': [1.0],\n",
    "        '_ID_Casualty_HC': [1.0],\n",
    "        '_ID_Miscellaneous_HC': [1.0],\n",
    "        '_ID_RealEstate_HC': [1.0],\n",
    "        '_ID_BenefitSurtax_crt': [0.0],\n",
    "        '_ALD_Interest_ec': [0.5],        \n",
    "        '_CG_thd2': [[183250, 223050, 111525, 203150, 223050, 111525],\n",
    "                     [186350, 226850, 113425, 206600, 226850, 113425],\n",
    "                     [189300, 230450, 115225, 209850, 230450, 115225],\n",
    "                     [190150, 231450, 115725, 210800, 231450, 115725]],\n",
    "        '_CG_rt1': [0.06],\n",
    "        '_CG_rt2': [0.125],\n",
    "        '_CG_rt3': [0.165],\n",
    "        '_NIIT_trt': [0.0]\n",
    "    }\n",
    "}\n",
    "\n",
    "policy_y1.implement_reform(reform_y1)\n",
    "\n",
    "behavior_traits = {2017: {'_BE_inc': [0.0], '_BE_sub': [0.3], '_BE_cg': [2.7]}}\n",
    "#For substitution effect, Saez, Slemrod and Giertz put it between 0.12 and 0.4"
   ]
  },
  {
   "cell_type": "markdown",
   "metadata": {},
   "source": [
    "# Static calculators"
   ]
  },
  {
   "cell_type": "code",
   "execution_count": 4,
   "metadata": {
    "collapsed": false
   },
   "outputs": [
    {
     "name": "stdout",
     "output_type": "stream",
     "text": [
      "You loaded data for 2009.\n",
      "Your data have been extrapolated to 2013.\n",
      "You loaded data for 2009.\n",
      "Your data have been extrapolated to 2013.\n"
     ]
    }
   ],
   "source": [
    "calc_xx = Calculator(policy_xx, records_xx, behavior_xx)\n",
    "for i in range(4):\n",
    "    calc_xx.increment_year()\n",
    "assert calc_xx.current_year == 2017\n",
    "calc_y1 = Calculator(policy_y1, records_y1, behavior_y1)\n",
    "for i in range(4):\n",
    "    calc_y1.increment_year()\n",
    "assert calc_y1.current_year == 2017"
   ]
  },
  {
   "cell_type": "code",
   "execution_count": 5,
   "metadata": {
    "collapsed": false
   },
   "outputs": [
    {
     "name": "stdout",
     "output_type": "stream",
     "text": [
      "2017\n",
      "2017\n"
     ]
    }
   ],
   "source": [
    "print calc_xx.current_year\n",
    "print calc_y1.current_year"
   ]
  },
  {
   "cell_type": "code",
   "execution_count": 6,
   "metadata": {
    "collapsed": true
   },
   "outputs": [],
   "source": [
    "calc_xx.calc_all()\n",
    "calc_y1.calc_all()"
   ]
  },
  {
   "cell_type": "markdown",
   "metadata": {},
   "source": [
    "### Static revenue effect for 2017"
   ]
  },
  {
   "cell_type": "code",
   "execution_count": 7,
   "metadata": {
    "collapsed": false
   },
   "outputs": [
    {
     "name": "stdout",
     "output_type": "stream",
     "text": [
      "Static net revenue change: -8.97643789938 billion dollars\n"
     ]
    }
   ],
   "source": [
    "calc_xx_combined = (calc_xx.records._combined * calc_xx.records.s006)\n",
    "calc_y1_combined = (calc_y1.records._combined * calc_y1.records.s006)\n",
    "\n",
    "diff_static_y1_xx = (calc_y1_combined - calc_xx_combined).sum() / 10**9\n",
    "print \"Static net revenue change: \" + str(diff_static_y1_xx) + \" billion dollars\""
   ]
  },
  {
   "cell_type": "markdown",
   "metadata": {},
   "source": [
    "### Static calculator that iterates across years"
   ]
  },
  {
   "cell_type": "code",
   "execution_count": 8,
   "metadata": {
    "collapsed": false
   },
   "outputs": [
    {
     "name": "stdout",
     "output_type": "stream",
     "text": [
      "[-8.976437899381525, -3.983500244187398, 2.0167277546686733, 7.274574109094042, 11.968826981023712, 16.62819916125653, 20.76877807411465, 24.817442003821633, 28.6810420576039, 32.272419583368055]\n"
     ]
    }
   ],
   "source": [
    "static_path = [0] * 10\n",
    "\n",
    "def static_path_change(calcx, calcy):\n",
    "    calc1 = copy.deepcopy(calcx)\n",
    "    calc2 = copy.deepcopy(calcy)\n",
    "    for i in range(10):\n",
    "        calc1.calc_all()\n",
    "        calc2.calc_all()\n",
    "        calc1_combined = (calc1.records._combined * calc1.records.s006)\n",
    "        calc2_combined = (calc2.records._combined * calc2.records.s006)\n",
    "        static_path[i] = (calc2_combined - calc1_combined).sum() / 10**9\n",
    "        if calc1.current_year < 2026:\n",
    "            calc1.increment_year()\n",
    "            calc2.increment_year()\n",
    "        \n",
    "static_path_change(calc_xx, calc_y1)\n",
    "print static_path"
   ]
  },
  {
   "cell_type": "code",
   "execution_count": 9,
   "metadata": {
    "collapsed": false,
    "scrolled": true
   },
   "outputs": [
    {
     "name": "stdout",
     "output_type": "stream",
     "text": [
      "-8.97643789938\n",
      "-3.98350024419\n",
      "2.01672775467\n",
      "7.27457410909\n",
      "11.968826981\n",
      "16.6281991613\n",
      "20.7687780741\n",
      "24.8174420038\n",
      "28.6810420576\n",
      "32.2724195834\n"
     ]
    }
   ],
   "source": [
    "for i in range(10):\n",
    "    print static_path[i]\n",
    "#These are the revenue impacts for the years 2017-2026"
   ]
  },
  {
   "cell_type": "markdown",
   "metadata": {},
   "source": [
    "## Behavioral calculators"
   ]
  },
  {
   "cell_type": "code",
   "execution_count": 10,
   "metadata": {
    "collapsed": false
   },
   "outputs": [
    {
     "name": "stdout",
     "output_type": "stream",
     "text": [
      "Done\n"
     ]
    }
   ],
   "source": [
    "# Behavioral factors\n",
    "calc_xx.behavior.update_behavior(behavior_traits)\n",
    "calc_y1.behavior.update_behavior(behavior_traits)\n",
    "\n",
    "calc_y1_beh = Behavior.response(calc_xx, calc_y1)\n",
    "print \"Done\"\n",
    "\n"
   ]
  },
  {
   "cell_type": "code",
   "execution_count": 11,
   "metadata": {
    "collapsed": false
   },
   "outputs": [
    {
     "name": "stdout",
     "output_type": "stream",
     "text": [
      "2017\n"
     ]
    }
   ],
   "source": [
    "print calc_y1_beh.current_year"
   ]
  },
  {
   "cell_type": "markdown",
   "metadata": {},
   "source": [
    "### Revenue effect with behavioral changes for 2017"
   ]
  },
  {
   "cell_type": "code",
   "execution_count": 12,
   "metadata": {
    "collapsed": false
   },
   "outputs": [
    {
     "name": "stdout",
     "output_type": "stream",
     "text": [
      "With behavioral effects, net revenue change: 40.1267940515 billion dollars\n"
     ]
    }
   ],
   "source": [
    "calc_y1_beh_combined = (calc_y1_beh.records._combined * calc_y1_beh.records.s006)\n",
    "diff_Beh_y1_xx = (calc_y1_beh_combined - calc_xx_combined).sum() / 10**9\n",
    "print \"With behavioral effects, net revenue change: \" + str(diff_Beh_y1_xx) + \" billion dollars\""
   ]
  },
  {
   "cell_type": "markdown",
   "metadata": {},
   "source": [
    "### Behavioral calculator that iterates across years"
   ]
  },
  {
   "cell_type": "code",
   "execution_count": 13,
   "metadata": {
    "collapsed": false
   },
   "outputs": [
    {
     "name": "stdout",
     "output_type": "stream",
     "text": [
      "2018\n",
      "2019\n",
      "2020\n",
      "2021\n",
      "2022\n",
      "2023\n",
      "2024\n",
      "2025\n",
      "2026\n",
      "2026\n",
      "[40.12679405150298, 46.77747957451837, 54.20890942380076, 61.318593702752636, 68.27825611329115, 75.39713038730936, 82.15479927843398, 88.9861968738453, 95.79033903044048, 102.34079877821212]\n"
     ]
    }
   ],
   "source": [
    "behavioral_path = [0] * 10\n",
    "\n",
    "def behavioral_path_change(calcx, calcy):\n",
    "    calc1 = copy.deepcopy(calcx)\n",
    "    calc2 = copy.deepcopy(calcy)\n",
    "    for i in range(10):\n",
    "        calc1_combined = (calc1.records._combined * calc1.records.s006)\n",
    "        calc2_combined = (calc2.records._combined * calc2.records.s006)\n",
    "        behavioral_path[i] = (calc2_combined - calc1_combined).sum() / 10**9\n",
    "        if calc1.current_year < 2026:\n",
    "            calc1.increment_year()\n",
    "            calc2.increment_year()\n",
    "            calc1.calc_all()\n",
    "            calc2.behavior.response(calc1, calc2)\n",
    "        print calc2.current_year\n",
    "            \n",
    "        \n",
    "behavioral_path_change(calc_xx, calc_y1_beh)\n",
    "print behavioral_path"
   ]
  },
  {
   "cell_type": "code",
   "execution_count": 14,
   "metadata": {
    "collapsed": false
   },
   "outputs": [
    {
     "name": "stdout",
     "output_type": "stream",
     "text": [
      "40.1267940515\n",
      "46.7774795745\n",
      "54.2089094238\n",
      "61.3185937028\n",
      "68.2782561133\n",
      "75.3971303873\n",
      "82.1547992784\n",
      "88.9861968738\n",
      "95.7903390304\n",
      "102.340798778\n"
     ]
    }
   ],
   "source": [
    "for i in range(10):\n",
    "    print behavioral_path[i]\n",
    "#Dynamic revenue impacts for years 2017-2026"
   ]
  },
  {
   "cell_type": "markdown",
   "metadata": {},
   "source": [
    "## Diagnostics and analysis of reform plan"
   ]
  },
  {
   "cell_type": "markdown",
   "metadata": {},
   "source": [
    "### Static diagnostics"
   ]
  },
  {
   "cell_type": "code",
   "execution_count": 15,
   "metadata": {
    "collapsed": false
   },
   "outputs": [
    {
     "name": "stdout",
     "output_type": "stream",
     "text": [
      "8.557 million taxpayers using itemized deductions\n",
      "150.339 million taxpayers using the standard deduction\n",
      "\n",
      "The average MTR on wage/salary income goes from 0.246084566564 to 0.241149232987\n",
      "The average MTR on long-term capital gains goes from 0.0554948996054 to 0.0728853406184\n"
     ]
    }
   ],
   "source": [
    "numIded = calc_y1.records.s006[(calc_y1.records.c04470 > 0.) * (calc_y1.records.c00100 > 0.)].sum()\n",
    "numStd = calc_y1.records.s006[(calc_y1.records._standard > 0.) * (calc_y1.records.c00100 > 0.)].sum()\n",
    "print str(round(numIded / 1000) / 1000.0) + \" million taxpayers using itemized deductions\"\n",
    "print str(round(numStd / 1000) / 1000.0) + \" million taxpayers using the standard deduction\"\n",
    "\n",
    "#numIdedxx = calc_xx.records.s006[(calc_xx.records.c04470 > 0.) * (calc_xx.records.c00100 > 0.)].sum()\n",
    "#numStdxx = calc_xx.records.s006[(calc_xx.records._standard > 0.) * (calc_xx.records.c00100 > 0.)].sum()\n",
    "#print numIdedxx\n",
    "#print numStdxx\n",
    "\n",
    "avgmtr_xx_wage = (calc_xx.mtr('e00200p')[2] * calc_xx.records.s006).sum() / calc_xx.records.s006.sum()\n",
    "avgmtr_y1_wage = (calc_y1.mtr('e00200p')[2] * calc_y1.records.s006).sum() / calc_y1.records.s006.sum()\n",
    "avgmtr_xx_cg = (calc_xx.mtr('p23250')[2] * calc_xx.records.s006).sum() / calc_xx.records.s006.sum()\n",
    "avgmtr_y1_cg = (calc_y1.mtr('p23250')[2] * calc_y1.records.s006).sum() / calc_y1.records.s006.sum()\n",
    "print \"\\n\" + \"The average MTR on wage/salary income goes from \" + str(avgmtr_xx_wage) + \" to \" + str(avgmtr_y1_wage)\n",
    "print \"The average MTR on long-term capital gains goes from \" + str(avgmtr_xx_cg) + \" to \" + str(avgmtr_y1_cg)\n"
   ]
  },
  {
   "cell_type": "markdown",
   "metadata": {},
   "source": [
    "### Behavioral diagnostics"
   ]
  },
  {
   "cell_type": "code",
   "execution_count": 16,
   "metadata": {
    "collapsed": false
   },
   "outputs": [
    {
     "name": "stdout",
     "output_type": "stream",
     "text": [
      "8.472 million taxpayers using itemized deductions\n",
      "150.424 million taxpayers using the standard deduction\n",
      "Change in number of itemizers: -36.987 million\n"
     ]
    }
   ],
   "source": [
    "numIded_beh = calc_y1_beh.records.s006[(calc_y1_beh.records.c04470 > 0.) * (calc_y1_beh.records.c00100 > 0.)].sum()\n",
    "numStd_beh = calc_y1_beh.records.s006[(calc_y1_beh.records._standard > 0.) * (calc_y1_beh.records.c00100 > 0.)].sum()\n",
    "print str(round(numIded_beh / 1000) / 1000.0) + \" million taxpayers using itemized deductions\"\n",
    "print str(round(numStd_beh / 1000) / 1000.0) + \" million taxpayers using the standard deduction\"\n",
    "\n",
    "numIdedxx = calc_xx.records.s006[(calc_xx.records.c04470 > 0.) * (calc_xx.records.c00100 > 0.)].sum()\n",
    "numStdxx = calc_xx.records.s006[(calc_xx.records._standard > 0.) * (calc_xx.records.c00100 > 0.)].sum()\n",
    "print \"Change in number of itemizers: \" + str(round((numIded_beh - numIdedxx) / 1000) / 1000.0) + \" million\"\n"
   ]
  },
  {
   "cell_type": "code",
   "execution_count": 17,
   "metadata": {
    "collapsed": false
   },
   "outputs": [
    {
     "name": "stdout",
     "output_type": "stream",
     "text": [
      "The average MTR on wage/salary income goes from 0.2461 to 0.2411\n",
      "The average MTR on long-term capital gains goes from 0.0555 to 0.0729\n",
      "The weighted average MTR on wage income goes from 0.348 to 0.3338\n",
      "The weighted average MTR on long-term capital gains goes from 0.2221 to 0.1592\n"
     ]
    }
   ],
   "source": [
    "avgmtr_xx_wage = (calc_xx.mtr('e00200p')[2] * calc_xx.records.s006).sum() / calc_xx.records.s006.sum()\n",
    "avgmtr_y1_beh_wage = (calc_y1_beh.mtr('e00200p')[2] * calc_y1_beh.records.s006).sum() / calc_y1_beh.records.s006.sum()\n",
    "avgmtr_xx_cg = (calc_xx.mtr('p23250')[2] * calc_xx.records.s006).sum() / calc_xx.records.s006.sum()\n",
    "avgmtr_y1_beh_cg = (calc_y1_beh.mtr('p23250')[2] * calc_y1_beh.records.s006).sum() / calc_y1_beh.records.s006.sum()\n",
    "print (\"The average MTR on wage/salary income goes from \" + str(round(avgmtr_xx_wage * 10000) / 10000.0) +\n",
    "       \" to \" + str(round(avgmtr_y1_wage * 10000) / 10000.0))\n",
    "print (\"The average MTR on long-term capital gains goes from \" + str(round(avgmtr_xx_cg * 10000) / 10000.0) +\n",
    "       \" to \" + str(round(avgmtr_y1_cg * 10000) / 10000.0))\n",
    "\n",
    "wavgmtr_xx_wage = ((calc_xx.mtr('e00200p')[2] * calc_xx.records.e00200 * calc_xx.records.s006).sum() / \n",
    "                   (calc_xx.records.e00200 * calc_xx.records.s006).sum())\n",
    "wavgmtr_y1_beh_wage = ((calc_y1_beh.mtr('e00200p')[2] * calc_y1_beh.records.e00200 * calc_y1_beh.records.s006).sum() / \n",
    "                       (calc_y1_beh.records.e00200 * calc_y1_beh.records.s006).sum())\n",
    "print (\"The weighted average MTR on wage income goes from \" + str(round(wavgmtr_xx_wage * 10000) / 10000.0) + \" to \"\n",
    "       + str(round(wavgmtr_y1_beh_wage * 10000) / 10000.0))\n",
    "\n",
    "wavgmtr_xx_cg = ((calc_xx.mtr('p23250')[2] * calc_xx.records.c24510 * calc_xx.records.s006).sum() / \n",
    "                 (calc_xx.records.c24510 * calc_xx.records.s006).sum())\n",
    "wavgmtr_y1_beh_cg = ((calc_y1_beh.mtr('p23250')[2] * calc_y1_beh.records.c24510 * calc_y1_beh.records.s006).sum() / \n",
    "                     (calc_y1_beh.records.c24510 * calc_y1_beh.records.s006).sum())\n",
    "print (\"The weighted average MTR on long-term capital gains goes from \" + str(round(wavgmtr_xx_cg * 10000) / 10000.0) + \" to \"\n",
    "       + str(round(wavgmtr_y1_beh_cg * 10000) / 10000.0))\n",
    "\n",
    "#e00200 wages, salaries, tips, etc\n",
    "#e04800 taxable income\n",
    "#c18300 total taxes deducted\n",
    "#e24540 taxable income less gain\n"
   ]
  },
  {
   "cell_type": "code",
   "execution_count": 18,
   "metadata": {
    "collapsed": false
   },
   "outputs": [
    {
     "name": "stdout",
     "output_type": "stream",
     "text": [
      "Number of people with lower marginal tax rates on wages: 66.266 million\n",
      "Number of people with higher marginal tax rates on wages: 36.054 million\n",
      "Number of people with lower marginal tax rates on capital gains: 36.251 million\n",
      "Number of people with higher marginal tax rates on capital gains: 70.426 million\n",
      "Number of people receiving a tax cut: 56.307 million\n",
      "Change in number of people with no income tax liability: -0.874 million\n"
     ]
    }
   ],
   "source": [
    "num_lwrmtr = calc_y1_beh.records.s006[(calc_y1_beh.mtr('e00200p')[2] < calc_xx.mtr('e00200p')[2])].sum()\n",
    "print \"Number of people with lower marginal tax rates on wages: \" + str(round(num_lwrmtr / 1000) / 1000.0) + \" million\"\n",
    "num_hgrmtr = calc_y1_beh.records.s006[(calc_y1_beh.mtr('e00200p')[2] > calc_xx.mtr('e00200p')[2])].sum()\n",
    "print \"Number of people with higher marginal tax rates on wages: \" + str(round(num_hgrmtr / 1000) / 1000.0) + \" million\"\n",
    "\n",
    "num_lwrmtr_cg = calc_y1_beh.records.s006[(calc_y1_beh.mtr('p23250')[2] < calc_xx.mtr('p23250')[2])].sum()\n",
    "print \"Number of people with lower marginal tax rates on capital gains: \" + str(round(num_lwrmtr_cg / 1000) / 1000.0) + \" million\"\n",
    "num_hgrmtr_cg = calc_y1_beh.records.s006[(calc_y1_beh.mtr('p23250')[2] > calc_xx.mtr('p23250')[2])].sum()\n",
    "print \"Number of people with higher marginal tax rates on capital gains: \" + str(round(num_hgrmtr_cg / 1000) / 1000.0) + \" million\"\n",
    "\n",
    "num_taxcut = calc_y1_beh.records.s006[calc_xx.records._combined > calc_y1_beh.records._combined + 0.0001].sum()\n",
    "print \"Number of people receiving a tax cut: \" + str(round(num_taxcut / 1000) / 1000.0) + \" million\"\n",
    "\n",
    "num_noinctax_y1_beh = calc_y1_beh.records.s006[calc_y1_beh.records._iitax < 0.0001].sum()\n",
    "num_noinctax_xx = calc_xx.records.s006[calc_xx.records._iitax < 0.0001].sum()\n",
    "print (\"Change in number of people with no income tax liability: \"\n",
    "        + str(round((num_noinctax_y1_beh - num_noinctax_xx) / 1000) / 1000.0) + \" million\")"
   ]
  },
  {
   "cell_type": "code",
   "execution_count": null,
   "metadata": {
    "collapsed": true
   },
   "outputs": [],
   "source": [
    "# Percentiles from TPC for 2016\n",
    "q20 = 24800.0\n",
    "q40 = 48400.0\n",
    "q60 = 83300.0\n",
    "q80 = 143100.0\n",
    "q90 = 208800.0\n",
    "q95 = 292100.0\n",
    "q99 = 699000.0\n"
   ]
  },
  {
   "cell_type": "markdown",
   "metadata": {},
   "source": [
    "# Individual Reforms"
   ]
  },
  {
   "cell_type": "code",
   "execution_count": 19,
   "metadata": {
    "collapsed": false
   },
   "outputs": [],
   "source": [
    "# Must do reform plus AMT repeal and compare aginst just AMT repeal\n",
    "\n",
    "# AMT repeal\n",
    "policy_amt = Policy()\n",
    "behavior_amt = Behavior()\n",
    "records_amt = Records(\"../../puf.csv\")\n",
    "reform_amt = {\n",
    "    2017: {\n",
    "        '_AMT_trt1': [0.0],\n",
    "        '_AMT_trt2': [0.0]\n",
    "    }\n",
    "}\n",
    "policy_amt.implement_reform(reform_amt)\n",
    "\n",
    "# Change in income tax rates\n",
    "policy_IncTax = Policy()\n",
    "behavior_IncTax = Behavior()\n",
    "records_IncTax = Records(\"../../puf.csv\")\n",
    "reform_IncTax = {\n",
    "    2017: {\n",
    "        '_AMT_trt1': [0.0],\n",
    "        '_AMT_trt2': [0.0],\n",
    "        '_II_rt1': [0.12],\n",
    "        '_II_rt2': [0.12],\n",
    "        '_II_rt3': [0.25],\n",
    "        '_II_rt4': [0.25],\n",
    "        '_II_rt5': [0.33],\n",
    "        '_II_rt6': [0.33],\n",
    "        '_II_rt7': [0.33]\n",
    "    }\n",
    "}\n",
    "policy_IncTax.implement_reform(reform_IncTax)\n",
    "\n",
    "# Deduction reforms and child tax credit\n",
    "policy_ded = Policy()\n",
    "behavior_ded = Behavior()\n",
    "records_ded = Records(\"../../puf.csv\")\n",
    "reform_ded = {\n",
    "    2017: {\n",
    "        '_AMT_trt1': [0.0],\n",
    "        '_AMT_trt2': [0.0],\n",
    "        '_STD': [[12000, 24000, 12000, 18000, 24000, 12000, 500]],\n",
    "        '_STD_Aged': [[0,0,0,0,0,0],\n",
    "                      [0,0,0,0,0,0],\n",
    "                      [0,0,0,0,0,0],\n",
    "                      [0,0,0,0,0,0]],\n",
    "        '_II_em': [0,0,0,0],\n",
    "        '_CTC_c': [1500],\n",
    "        '_CTC_ps': [[75000, 150000, 55000, 75000, 75000, 55000]],\n",
    "        '_ID_StateLocalTax_HC': [1.0],\n",
    "        '_ID_Medical_HC': [1.0],\n",
    "        '_ID_Casualty_HC': [1.0],\n",
    "        '_ID_Miscellaneous_HC': [1.0],\n",
    "        '_ID_RealEstate_HC': [1.0],\n",
    "        '_ID_BenefitSurtax_crt': [0.0]\n",
    "    }\n",
    "}\n",
    "policy_ded.implement_reform(reform_ded)\n",
    "\n",
    "# Investment income (interest, cap gains and dividends) reforms\n",
    "policy_InvTax = Policy()\n",
    "behavior_InvTax = Behavior()\n",
    "records_InvTax = Records(\"../../puf.csv\")\n",
    "reform_InvTax = {\n",
    "    2017: {\n",
    "        '_AMT_trt1': [0.0],\n",
    "        '_AMT_trt2': [0.0],\n",
    "        '_ALD_Interest_ec': [0.5],\n",
    "        '_CG_thd2': [[183250, 223050, 111525, 203150, 223050, 111525],\n",
    "                     [186350, 226850, 113425, 206600, 226850, 113425],\n",
    "                     [189300, 230450, 115225, 209850, 230450, 115225],\n",
    "                     [190150, 231450, 115725, 210800, 231450, 115725]],\n",
    "        '_CG_rt1': [0.06],\n",
    "        '_CG_rt2': [0.125],\n",
    "        '_CG_rt3': [0.165],\n",
    "        '_NIIT_trt': [0.0]\n",
    "    }\n",
    "}\n",
    "policy_InvTax.implement_reform(reform_InvTax)"
   ]
  },
  {
   "cell_type": "markdown",
   "metadata": {},
   "source": [
    "## Static calculators"
   ]
  },
  {
   "cell_type": "code",
   "execution_count": 20,
   "metadata": {
    "collapsed": false
   },
   "outputs": [
    {
     "name": "stdout",
     "output_type": "stream",
     "text": [
      "You loaded data for 2009.\n",
      "Your data have been extrapolated to 2013.\n",
      "You loaded data for 2009.\n",
      "Your data have been extrapolated to 2013.\n",
      "You loaded data for 2009.\n",
      "Your data have been extrapolated to 2013.\n",
      "You loaded data for 2009.\n",
      "Your data have been extrapolated to 2013.\n"
     ]
    }
   ],
   "source": [
    "calc_amt = Calculator(policy_amt, records_amt, behavior_amt)\n",
    "for i in range(4):\n",
    "   calc_amt.increment_year()\n",
    "assert calc_amt.current_year == 2017\n",
    "\n",
    "calc_IncTax = Calculator(policy_IncTax, records_IncTax, behavior_IncTax)\n",
    "for i in range(4):\n",
    "    calc_IncTax.increment_year()\n",
    "assert calc_IncTax.current_year == 2017\n",
    "\n",
    "calc_ded = Calculator(policy_ded, records_ded, behavior_ded)\n",
    "for i in range(4):\n",
    "    calc_ded.increment_year()\n",
    "assert calc_ded.current_year == 2017\n",
    "\n",
    "calc_InvTax = Calculator(policy_InvTax, records_InvTax, behavior_InvTax)\n",
    "for i in range(4):\n",
    "    calc_InvTax.increment_year()\n",
    "assert calc_InvTax.current_year == 2017\n"
   ]
  },
  {
   "cell_type": "code",
   "execution_count": 21,
   "metadata": {
    "collapsed": false,
    "scrolled": true
   },
   "outputs": [
    {
     "name": "stdout",
     "output_type": "stream",
     "text": [
      "2017\n",
      "2017\n",
      "2017\n",
      "2017\n"
     ]
    }
   ],
   "source": [
    "print calc_amt.current_year\n",
    "print calc_IncTax.current_year\n",
    "print calc_ded.current_year\n",
    "print calc_InvTax.current_year"
   ]
  },
  {
   "cell_type": "code",
   "execution_count": 22,
   "metadata": {
    "collapsed": true
   },
   "outputs": [],
   "source": [
    "calc_amt.calc_all()\n",
    "calc_IncTax.calc_all()\n",
    "calc_ded.calc_all()\n",
    "calc_InvTax.calc_all()"
   ]
  },
  {
   "cell_type": "code",
   "execution_count": 23,
   "metadata": {
    "collapsed": false
   },
   "outputs": [],
   "source": [
    "calc_amt_combined = (calc_amt.records._combined * calc_amt.records.s006)\n",
    "calc_IncTax_combined = (calc_IncTax.records._combined * calc_IncTax.records.s006)\n",
    "calc_ded_combined = (calc_ded.records._combined * calc_ded.records.s006)\n",
    "calc_InvTax_combined = (calc_InvTax.records._combined * calc_InvTax.records.s006)\n",
    "\n",
    "diff_static_amt_xx = (calc_amt_combined - calc_xx_combined).sum() / 10**9\n",
    "diff_static_IncTax_amt = (calc_IncTax_combined - calc_amt_combined).sum() / 10**9\n",
    "diff_static_ded_amt = (calc_ded_combined - calc_amt_combined).sum() / 10**9\n",
    "diff_static_InvTax_amt = (calc_InvTax_combined - calc_amt_combined).sum() / 10**9\n"
   ]
  },
  {
   "cell_type": "markdown",
   "metadata": {},
   "source": [
    "### Static revenue effects of individual reforms"
   ]
  },
  {
   "cell_type": "code",
   "execution_count": 24,
   "metadata": {
    "collapsed": false
   },
   "outputs": [
    {
     "name": "stdout",
     "output_type": "stream",
     "text": [
      "Static net revenue change with AMT repeal: -41.8800806925 billion dollars\n",
      "Static net revenue change with income tax reform: -119.005594196 billion dollars\n",
      "Static net revenue change with deduction reform: 196.007321428 billion dollars\n",
      "Static net revenue change with investment tax reform: -51.3411627 billion dollars\n"
     ]
    }
   ],
   "source": [
    "print \"Static net revenue change with AMT repeal: \" + str(diff_static_amt_xx) + \" billion dollars\"\n",
    "print \"Static net revenue change with income tax reform: \" + str(diff_static_IncTax_amt) + \" billion dollars\"\n",
    "print \"Static net revenue change with deduction reform: \" + str(diff_static_ded_amt) + \" billion dollars\"\n",
    "print \"Static net revenue change with investment tax reform: \" + str(diff_static_InvTax_amt) + \" billion dollars\""
   ]
  },
  {
   "cell_type": "markdown",
   "metadata": {},
   "source": [
    "## Behavioral calculators"
   ]
  },
  {
   "cell_type": "code",
   "execution_count": 25,
   "metadata": {
    "collapsed": false
   },
   "outputs": [
    {
     "name": "stdout",
     "output_type": "stream",
     "text": [
      "Done\n"
     ]
    }
   ],
   "source": [
    "calc_amt.behavior.update_behavior(behavior_traits)\n",
    "calc_amt_beh = Behavior.response(calc_xx, calc_amt)\n",
    "print \"Done\""
   ]
  },
  {
   "cell_type": "code",
   "execution_count": 26,
   "metadata": {
    "collapsed": false
   },
   "outputs": [
    {
     "name": "stdout",
     "output_type": "stream",
     "text": [
      "Done\n"
     ]
    }
   ],
   "source": [
    "calc_IncTax.behavior.update_behavior(behavior_traits)\n",
    "calc_IncTax_beh = Behavior.response(calc_amt, calc_IncTax)\n",
    "print \"Done\""
   ]
  },
  {
   "cell_type": "code",
   "execution_count": 27,
   "metadata": {
    "collapsed": false
   },
   "outputs": [
    {
     "name": "stdout",
     "output_type": "stream",
     "text": [
      "Done\n"
     ]
    }
   ],
   "source": [
    "calc_ded.behavior.update_behavior(behavior_traits)\n",
    "calc_ded_beh = Behavior.response(calc_amt, calc_ded)\n",
    "print \"Done\""
   ]
  },
  {
   "cell_type": "code",
   "execution_count": 28,
   "metadata": {
    "collapsed": false
   },
   "outputs": [
    {
     "name": "stdout",
     "output_type": "stream",
     "text": [
      "Done\n"
     ]
    }
   ],
   "source": [
    "calc_InvTax.behavior.update_behavior(behavior_traits)\n",
    "calc_InvTax_beh = Behavior.response(calc_amt, calc_InvTax)\n",
    "print \"Done\""
   ]
  },
  {
   "cell_type": "markdown",
   "metadata": {},
   "source": [
    "### Revenue effects with behavioral changes for 2017"
   ]
  },
  {
   "cell_type": "code",
   "execution_count": 29,
   "metadata": {
    "collapsed": false
   },
   "outputs": [
    {
     "name": "stdout",
     "output_type": "stream",
     "text": [
      "With behavioral effects, net revenue change from AMT repeal: -40.5725667494 billion dollars\n",
      "With behavioral effects, net revenue change from income tax rate reform: -89.1433414334 billion dollars\n",
      "With behavioral effects, net revenue change from deduction reform: 195.912806839 billion dollars\n",
      "With behavioral effects, net revenue change from investment tax reform: -29.0124199316 billion dollars\n"
     ]
    }
   ],
   "source": [
    "calc_amt_beh_combined = (calc_amt_beh.records._combined * calc_amt_beh.records.s006)\n",
    "calc_IncTax_beh_combined = (calc_IncTax_beh.records._combined * calc_IncTax_beh.records.s006)\n",
    "calc_ded_beh_combined = (calc_ded_beh.records._combined * calc_ded_beh.records.s006)\n",
    "calc_InvTax_beh_combined = (calc_InvTax_beh.records._combined * calc_InvTax_beh.records.s006)\n",
    "\n",
    "diff_Beh_amt_xx = (calc_amt_beh_combined - calc_xx_combined).sum() / 10**9\n",
    "diff_Beh_IncTax_amt = (calc_IncTax_beh_combined - calc_amt_beh_combined).sum() / 10**9\n",
    "diff_Beh_ded_amt = (calc_ded_beh_combined - calc_amt_beh_combined).sum() / 10**9\n",
    "diff_Beh_InvTax_amt = (calc_InvTax_beh_combined - calc_amt_beh_combined).sum() / 10**9\n",
    "\n",
    "print \"With behavioral effects, net revenue change from AMT repeal: \" + str(diff_Beh_amt_xx) + \" billion dollars\"\n",
    "print \"With behavioral effects, net revenue change from income tax rate reform: \" + str(diff_Beh_IncTax_amt) + \" billion dollars\"\n",
    "print \"With behavioral effects, net revenue change from deduction reform: \" + str(diff_Beh_ded_amt) + \" billion dollars\"\n",
    "print \"With behavioral effects, net revenue change from investment tax reform: \" + str(diff_Beh_InvTax_amt) + \" billion dollars\""
   ]
  },
  {
   "cell_type": "markdown",
   "metadata": {
    "collapsed": false
   },
   "source": [
    "# MTR charts"
   ]
  },
  {
   "cell_type": "markdown",
   "metadata": {},
   "source": [
    "#### Ignore this one. Not using now, but may later"
   ]
  },
  {
   "cell_type": "code",
   "execution_count": null,
   "metadata": {
    "collapsed": false
   },
   "outputs": [],
   "source": [
    "# Marginal tax rates on wages/salary\n",
    "mtr_xx = calc_xx.mtr('e00200p')[2]\n",
    "mtr_y1 = calc_y1_beh.mtr('e00200p')[2]\n",
    "\n",
    "# marginal tax rates on long-term capital gains\n",
    "mtrCG_xx = calc_xx.mtr('p23250')\n",
    "mtrCG_y1 = calc_xx.mtr('p23250')\n",
    "\n",
    "#Adjusted gross incomes\n",
    "agi_xx = np.where(calc_xx.records.c00100 < 0, 0., calc_xx.records.c00100)\n",
    "agi_y1 = np.where(calc_y1_beh.records.c00100 < 0, 0., calc_y1_beh.records.c00100)\n",
    "\n",
    "#Average tax rate\n",
    "taxRate_xx = calc_xx.records._combined / (agi_xx + .0001)\n",
    "taxRate_y1 = calc_y1_beh.records._combined / (agi_y1 + .0001)\n",
    "\n",
    "hasChild = np.where(calc_xx.records.n24 > 0, 1, 0)\n"
   ]
  },
  {
   "cell_type": "markdown",
   "metadata": {},
   "source": [
    "#### Ignore this one. It's very slow b/c it relies on iteration. Use the other one"
   ]
  },
  {
   "cell_type": "code",
   "execution_count": null,
   "metadata": {
    "collapsed": false
   },
   "outputs": [],
   "source": [
    "def getMTR(calc1):\n",
    "    return calc1.mtr('e00200p')[2]\n",
    "\n",
    "def getMTR_cg(calc1):\n",
    "    return calc1.mtr('p23250')[2]\n",
    "\n",
    "def getAGI(calc1):\n",
    "    return np.where(calc1.records.c00100 < 0, 0., calc1.records.c00100)\n",
    "\n",
    "def getAvgRate(calc1):\n",
    "    return calc1.records._combined / (getAGI(calc1) + .001)\n",
    "\n",
    "def binAverages(calc1, bins):\n",
    "    #Input: a calculator object and the number of bins\n",
    "    #Groups tax units into binds, ordered by AGI\n",
    "    #Returns 4 arrays of length bins: average AGI, average marginal tax rate on wage/salary, average marginal tax rate on capital gains, \n",
    "        #average of the average individual tax rates\n",
    "    \n",
    "    mtr = getMTR(calc1)\n",
    "    mtrCG = getMTR_cg(calc1)\n",
    "    agi = getAGI(calc1)\n",
    "    avgRate = getAvgRate(calc1)\n",
    "    wgt = calc1.records.s006\n",
    "    \n",
    "    mtrList = [[] for _ in range(bins)]\n",
    "    agiList = [[] for _ in range(bins)]\n",
    "    mtrCGList = [[] for _ in range(bins)]\n",
    "    avgRateList = [[] for _ in range(bins)]\n",
    "    wgtList = [[] for _ in range(bins)]\n",
    "    maxInc = max(agi) + .001\n",
    "    incr = maxInc / bins\n",
    "\n",
    "    for i in range(219814):\n",
    "        ind = int(agi[i] / incr)\n",
    "        assert ind in range(100)\n",
    "        assert i in range(len(mtr))\n",
    "        mtrList[ind].append(mtr[i])\n",
    "        agiList[ind].append(agi[i])\n",
    "        mtrCGList[ind].append(mtrCG[i])\n",
    "        avgRateList[ind].append(avgRate[i])\n",
    "        wgtList[ind].append(wgt[i])\n",
    "    \n",
    "    mtrGroup = [0] * bins\n",
    "    mtrCGGroup = [0] * bins\n",
    "    agiGroup = [0] * bins\n",
    "    avgRateGroup = [0] * bins\n",
    "    \n",
    "    for j in range(bins):\n",
    "        mtrGroup[j] = (np.asarray(mtrList[j]) * np.asarray(wgtList[j])).sum() / np.asarray(wgtList[j]).sum()\n",
    "        mtrCGGroup[j] = (np.asarray(mtrCGList[j]) * np.asarray(wgtList[j])).sum() / np.asarray(wgtList[j]).sum()\n",
    "        agiGroup[j] = (np.asarray(agiList[j]) * np.asarray(wgtList[j])).sum() / np.asarray(wgtList[j]).sum()\n",
    "        avgRateGroup[j] = (np.asarray(avgRateList[j]) * np.asarray(wgtList[j])).sum() / np.asarray(wgtList[j]).sum()\n",
    "    return mtrGroup, mtrCGGroup, agiGroup, avgRateGroup\n",
    "\n",
    "def create_rate_plot(calc_baseline, calc_reform, Type, bins):\n",
    "    # Type can be 'mtr', 'mtrcg', 'avgrate'\n",
    "    assert Type in ('mtr', 'mtrcg', 'avgrate')\n",
    "    baseline = binAverages(calc_baseline, bins)\n",
    "    reform = binAverages(calc_reform, bins)\n",
    "    ydata_baseline = []\n",
    "    xdata_baseline = baseline[2]\n",
    "    ydata_reform = []\n",
    "    xdata_reform = reform[2]\n",
    "    \n",
    "    title = \"\"\n",
    "    xlab = \"AGI\"\n",
    "    ylab = \"\"\n",
    "    if Type == 'mtr':\n",
    "        title = 'Marginal tax rate on wages'\n",
    "        ylab = 'MTR'\n",
    "        ydata_baseline = baseline[0]\n",
    "        ydata_reform = reform[0]\n",
    "    elif Type == 'mtrcg':\n",
    "        title = 'Marginal tax rate on capital gains'\n",
    "        ylab = 'MTR'\n",
    "        ydata_baseline = baseline[1]\n",
    "        ydata_reform = reform[1]\n",
    "    else: \n",
    "        title = \"Average tax rate\"\n",
    "        ylab = 'Tax rate'\n",
    "        ydata_baseline = baseline[3]\n",
    "        ydata_reform = reform[3]\n",
    "    \n",
    "    plt.plot(ydata_baseline)\n",
    "    plt.plot(ydata_reform)\n",
    "    plt.legend(['Baseline', 'Reform'], loc='lower right')\n",
    "    plt.title(title)\n",
    "    axes = plt.gca()\n",
    "    if(Type == 'mtrcg'):\n",
    "        axes.set_xlim([0,1000000])\n",
    "    else: \n",
    "        axes.set_xlim([0,500000])\n",
    "    \n",
    "    \n",
    "    \n",
    "\n"
   ]
  },
  {
   "cell_type": "code",
   "execution_count": null,
   "metadata": {
    "collapsed": false
   },
   "outputs": [],
   "source": [
    "create_rate_plot(calc_xx, calc_y1_beh, 'mtr', 100)"
   ]
  },
  {
   "cell_type": "markdown",
   "metadata": {},
   "source": [
    "### This is the correct rate grapher. Use this to produce MTR charts and average rate charts"
   ]
  },
  {
   "cell_type": "code",
   "execution_count": 30,
   "metadata": {
    "collapsed": true
   },
   "outputs": [],
   "source": [
    "def getMTR(calc1):\n",
    "    return np.asarray(calc1.mtr('e00200p')[2])\n",
    "\n",
    "def getMTR_cg(calc1):\n",
    "    return np.asarray(calc1.mtr('p23250')[2])\n",
    "\n",
    "def getAGI(calc1):\n",
    "    return np.asarray(np.where(calc1.records.c00100 < 0, 0., calc1.records.c00100))\n",
    "\n",
    "def getAvgRate(calc1):\n",
    "    agi1 = getAGI(calc1) + 0.001\n",
    "    avgRate1 = np.asarray(calc1.records._combined) / np.asarray((getAGI(calc1)))\n",
    "    avgRate2 = np.where(avgRate1 > 1, 1.0, avgRate1)\n",
    "    avgRate3 = np.where(avgRate2 < 0, 0., avgRate2)\n",
    "    return avgRate3\n",
    "\n",
    "def group_evenly(calc1):\n",
    "    mtr = getMTR(calc1)\n",
    "    mtrCG = getMTR_cg(calc1)\n",
    "    agi = getAGI(calc1)\n",
    "    avgRate = getAvgRate(calc1)\n",
    "    wgt = np.asarray(copy.deepcopy(calc1.records.s006))\n",
    "    \n",
    "    all_together = zip(agi, mtr, mtrCG, avgRate, wgt)\n",
    "    all_together.sort()\n",
    "    all_apart = zip(*all_together)\n",
    "    agi_sorted = np.asarray(all_apart[0])\n",
    "    mtr_sorted = np.asarray(all_apart[1])\n",
    "    mtrCG_sorted = np.asarray(all_apart[2])\n",
    "    avgRate_sorted = np.asarray(all_apart[3])\n",
    "    wgt_sorted = np.asarray(all_apart[4])\n",
    "    \n",
    "    mtrList = [0] * 98\n",
    "    mtrCGList = [0] * 98\n",
    "    agiList = [0] * 98\n",
    "    avgRateList = [0] * 98\n",
    "    wgtList = [0] * 98\n",
    "    \n",
    "    for i in range(98):\n",
    "        agiList[i] = (agi_sorted[(i*2243):((i+1)*2243)] * wgt_sorted[(i*2243):((i+1)*2243)]).sum()\n",
    "        mtrList[i] = (mtr_sorted[(i*2243):((i+1)*2243)] * wgt_sorted[(i*2243):((i+1)*2243)]).sum()\n",
    "        mtrCGList[i] = (mtrCG_sorted[(i*2243):((i+1)*2243)] * wgt_sorted[(i*2243):((i+1)*2243)]).sum()\n",
    "        avgRateList[i] = (avgRate_sorted[(i*2243):((i+1)*2243)] * wgt_sorted[(i*2243):((i+1)*2243)]).sum()\n",
    "        wgtList[i] =  wgt_sorted[(i*2243):((i+1)*2243)].sum()\n",
    "    \n",
    "    \n",
    "    agiFinal = np.asarray(agiList) / np.asarray(wgtList)\n",
    "    mtrFinal = np.asarray(mtrList) / np.asarray(wgtList)\n",
    "    mtrCGFinal = np.asarray(mtrCGList) / np.asarray(wgtList)\n",
    "    avgRateFinal = np.asarray(avgRateList) / np.asarray(wgtList)\n",
    "    return agiFinal, mtrFinal, mtrCGFinal, avgRateFinal\n",
    "\n",
    "def plot_evenly(calc_baseline, calc_reform, Type):\n",
    "    assert Type in ('mtr', 'mtrcg', 'avgrate')\n",
    "    baseline = group_evenly(calc_baseline)\n",
    "    reform = group_evenly(calc_reform)\n",
    "    \n",
    "    ydata_baseline = []\n",
    "    ydata_reform = []\n",
    "    title = \"\"\n",
    "    ylab = \"\"\n",
    "    if Type == 'mtr':\n",
    "        title = 'Marginal tax rate on wages'\n",
    "        ylab = 'MTR'\n",
    "        ydata_baseline = baseline[1]\n",
    "        ydata_reform = reform[1]\n",
    "    elif Type == 'mtrcg':\n",
    "        title = 'Marginal tax rate on capital gains'\n",
    "        ylab = 'MTR'\n",
    "        ydata_baseline = baseline[2]\n",
    "        ydata_reform = reform[2]\n",
    "    else: \n",
    "        title = \"Average tax rate\"\n",
    "        ylab = 'Tax rate'\n",
    "        ydata_baseline = baseline[3]\n",
    "        ydata_reform = reform[3]\n",
    "    plt.plot(ydata_baseline)\n",
    "    plt.plot(ydata_reform)\n",
    "    plt.legend(['Baseline', 'Reform'], loc='lower right')\n",
    "    plt.title(title)\n",
    "    "
   ]
  },
  {
   "cell_type": "code",
   "execution_count": 31,
   "metadata": {
    "collapsed": false
   },
   "outputs": [
    {
     "data": {
      "image/png": "[encoded data removed]",
      "text/plain": [
       "<matplotlib.figure.Figure at 0xf327470>"
      ]
     },
     "metadata": {},
     "output_type": "display_data"
    }
   ],
   "source": [
    "plot_evenly(calc_xx, calc_y1_beh, 'mtr')"
   ]
  },
  {
   "cell_type": "code",
   "execution_count": 32,
   "metadata": {
    "collapsed": false
   },
   "outputs": [
    {
     "data": {
      "image/png": "[encoded data removed]",
      "text/plain": [
       "<matplotlib.figure.Figure at 0x13ce84e0>"
      ]
     },
     "metadata": {},
     "output_type": "display_data"
    }
   ],
   "source": [
    "plot_evenly(calc_xx, calc_y1_beh, 'mtrcg')"
   ]
  },
  {
   "cell_type": "code",
   "execution_count": 33,
   "metadata": {
    "collapsed": false
   },
   "outputs": [
    {
     "data": {
      "image/png": "[encoded data removed]",
      "text/plain": [
       "<matplotlib.figure.Figure at 0xcf2afd0>"
      ]
     },
     "metadata": {},
     "output_type": "display_data"
    }
   ],
   "source": [
    "plot_evenly(calc_xx, calc_y1_beh, 'avgrate')"
   ]
  }
 ],
 "metadata": {
  "kernelspec": {
   "display_name": "Python 2",
   "language": "python",
   "name": "python2"
  },
  "language_info": {
   "codemirror_mode": {
    "name": "ipython",
    "version": 2
   },
   "file_extension": ".py",
   "mimetype": "text/x-python",
   "name": "python",
   "nbconvert_exporter": "python",
   "pygments_lexer": "ipython2",
   "version": "2.7.12"
  }
 },
 "nbformat": 4,
 "nbformat_minor": 0
}
