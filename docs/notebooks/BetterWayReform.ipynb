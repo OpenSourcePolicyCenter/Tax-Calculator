{
 "cells": [
  {
   "cell_type": "markdown",
   "metadata": {},
   "source": [
    "## Better Way Reform Plan"
   ]
  },
  {
   "cell_type": "code",
   "execution_count": 1,
   "metadata": {
    "collapsed": true
   },
   "outputs": [],
   "source": [
    "import sys\n",
    "sys.path.append(\"../../\")\n",
    "from taxcalc import *\n",
    "import pandas as pd\n",
    "import numpy as np\n",
    "import copy\n",
    "import matplotlib\n",
    "import matplotlib.pyplot as plt \n",
    "from matplotlib.transforms import BlendedGenericTransform\n",
    "%matplotlib inline"
   ]
  },
  {
   "cell_type": "markdown",
   "metadata": {},
   "source": [
    "### Baseline"
   ]
  },
  {
   "cell_type": "code",
   "execution_count": 2,
   "metadata": {
    "collapsed": false
   },
   "outputs": [],
   "source": [
    "policy_xx = Policy()\n",
    "behavior_xx = Behavior()\n",
    "records_xx = Records(\"../../puf.csv\")"
   ]
  },
  {
   "cell_type": "markdown",
   "metadata": {},
   "source": [
    "### The full reform plan"
   ]
  },
  {
   "cell_type": "code",
   "execution_count": 3,
   "metadata": {
    "collapsed": false
   },
   "outputs": [],
   "source": [
    "# Set 10% and 15% brackets to 12%\n",
    "# Set 25% and 28% brackets to 25%\n",
    "# Set 33%, 35% and 39.6% brackets to 33%\n",
    "# Repeal Alternative minumum tax\n",
    "# Standard deduction 12K for single/separate, 24K for married, 18K for single with child(Head of HH)\n",
    "#    Should we eliminate the additional standard deduction for the aged and blind?\n",
    "# Personal exemption '_II_credit' set to zero\n",
    "# Child tax credit phaseout for married couples increased to $150K\n",
    "# Eliminated all itemized deductions except mortgage and charity\n",
    "# Excluded half of interest income from final taxable interest income to match rates on cap gains/dividends\n",
    "# Cap gains & dividend income changed\n",
    "#    Second cap gains threshold moved to same as fourth income tax bracket\n",
    "#    Rates adjusted to 6%, 12.5% and 16.5%\n",
    "# Eliminated NIIT\n",
    "\n",
    "# Didn't implement business pass-thru rate to 25%--try 31.3% top rate instead\n",
    "# Didn't implement change from depreciation to expensing\n",
    "# Didn't deal with eliminating net interest expense deductions for businesses\n",
    "# Didn't eliminate Section 199\n",
    "# Didn't implement changes to net operating losses\n",
    "# Didn't repeal estate and gift taxes\n",
    "\n",
    "\n",
    "\n",
    "policy_y1 = Policy()\n",
    "behavior_y1 = Behavior()\n",
    "records_y1 = Records(\"../../puf.csv\")\n",
    "reform_y1 = {\n",
    "    2017: {\n",
    "        '_II_rt1': [0.12],\n",
    "        '_II_rt2': [0.12],\n",
    "        '_II_rt3': [0.25],\n",
    "        '_II_rt4': [0.25],\n",
    "        '_II_rt5': [0.33],\n",
    "        '_II_rt6': [0.33],\n",
    "        '_II_rt7': [0.33],\n",
    "        '_AMT_trt1': [0.0],\n",
    "        '_AMT_trt2': [0.0],\n",
    "        '_STD': [[12000, 24000, 12000, 18000, 24000, 12000, 1050]],\n",
    "        '_STD_Aged': [[0,0,0,0,0,0],\n",
    "                      [0,0,0,0,0,0],\n",
    "                      [0,0,0,0,0,0],\n",
    "                      [0,0,0,0,0,0]],\n",
    "        '_II_em': [0,0,0,0],\n",
    "        '_CTC_ps': [[75000, 150000, 55000, 75000, 75000, 55000]],\n",
    "        '_ID_StateLocalTax_HC': [1.0],\n",
    "        '_ID_Medical_HC': [1.0],\n",
    "        '_ID_Casualty_HC': [1.0],\n",
    "        '_ID_Miscellaneous_HC': [1.0],\n",
    "        '_ID_RealEstate_HC': [1.0],\n",
    "        '_ALD_Interest_ec': [0.5],        \n",
    "        '_CG_thd2': [[183250, 223050, 111525, 203150, 223050, 111525],\n",
    "                     [186350, 226850, 113425, 206600, 226850, 113425],\n",
    "                     [189300, 230450, 115225, 209850, 230450, 115225],\n",
    "                     [190150, 231450, 115725, 210800, 231450, 115725]],\n",
    "        '_CG_rt1': [0.06],\n",
    "        '_CG_rt2': [0.125],\n",
    "        '_CG_rt3': [0.165],\n",
    "        '_NIIT_trt': [0.0]\n",
    "    }\n",
    "}\n",
    "\n",
    "policy_y1.implement_reform(reform_y1)\n",
    "\n",
    "behavior_traits = {2017: {'_BE_inc': [0.0], '_BE_sub': [0.3], '_BE_cg': [2.7]}}\n",
    "#For substitution effect, Saez, Slemrod and Giertz put it between 0.12 and 0.4"
   ]
  },
  {
   "cell_type": "markdown",
   "metadata": {},
   "source": [
    "# Static calculators"
   ]
  },
  {
   "cell_type": "code",
   "execution_count": 4,
   "metadata": {
    "collapsed": false
   },
   "outputs": [
    {
     "name": "stdout",
     "output_type": "stream",
     "text": [
      "You loaded data for 2009.\n",
      "Your data have been extrapolated to 2013.\n",
      "You loaded data for 2009.\n",
      "Your data have been extrapolated to 2013.\n"
     ]
    }
   ],
   "source": [
    "calc_xx = Calculator(policy_xx, records_xx, behavior_xx)\n",
    "for i in range(4):\n",
    "    calc_xx.increment_year()\n",
    "assert calc_xx.current_year == 2017\n",
    "calc_y1 = Calculator(policy_y1, records_y1, behavior_y1)\n",
    "for i in range(4):\n",
    "    calc_y1.increment_year()\n",
    "assert calc_y1.current_year == 2017"
   ]
  },
  {
   "cell_type": "code",
   "execution_count": 5,
   "metadata": {
    "collapsed": false
   },
   "outputs": [
    {
     "name": "stdout",
     "output_type": "stream",
     "text": [
      "2017\n",
      "2017\n"
     ]
    }
   ],
   "source": [
    "print calc_xx.current_year\n",
    "print calc_y1.current_year"
   ]
  },
  {
   "cell_type": "code",
   "execution_count": 6,
   "metadata": {
    "collapsed": true
   },
   "outputs": [],
   "source": [
    "calc_xx.calc_all()\n",
    "calc_y1.calc_all()"
   ]
  },
  {
   "cell_type": "markdown",
   "metadata": {},
   "source": [
    "### Static revenue effect for 2017"
   ]
  },
  {
   "cell_type": "code",
   "execution_count": 7,
   "metadata": {
    "collapsed": false
   },
   "outputs": [
    {
     "name": "stdout",
     "output_type": "stream",
     "text": [
      "Static net revenue change: -39.7477689987 billion dollars\n"
     ]
    }
   ],
   "source": [
    "calc_xx_combined = (calc_xx.records._combined * calc_xx.records.s006)\n",
    "calc_y1_combined = (calc_y1.records._combined * calc_y1.records.s006)\n",
    "\n",
    "diff_static_y1_xx = (calc_y1_combined - calc_xx_combined).sum() / 10**9\n",
    "print \"Static net revenue change: \" + str(diff_static_y1_xx) + \" billion dollars\""
   ]
  },
  {
   "cell_type": "markdown",
   "metadata": {},
   "source": [
    "### Static calculator that iterates across years"
   ]
  },
  {
   "cell_type": "code",
   "execution_count": 8,
   "metadata": {
    "collapsed": false,
    "scrolled": true
   },
   "outputs": [
    {
     "name": "stdout",
     "output_type": "stream",
     "text": [
      "[-40.062041432737864, -37.90922793168227, -34.78563397454627, -32.56678771355769, -31.100856443990445, -29.98766059110511, -29.364242105339486, -29.17222927266734, -29.38150472513042, -30.08064586883587]\n"
     ]
    }
   ],
   "source": [
    "static_path = [0] * 10\n",
    "\n",
    "def static_path_change(calcx, calcy):\n",
    "    calc1 = copy.deepcopy(calcx)\n",
    "    calc2 = copy.deepcopy(calcy)\n",
    "    for i in range(10):\n",
    "        calc1.calc_all()\n",
    "        calc2.calc_all()\n",
    "        calc1_combined = (calc1.records._combined * calc1.records.s006)\n",
    "        calc2_combined = (calc2.records._combined * calc2.records.s006)\n",
    "        static_path[i] = (calc2_combined - calc1_combined).sum() / 10**9\n",
    "        if calc1.current_year < 2026:\n",
    "            calc1.increment_year()\n",
    "            calc2.increment_year()\n",
    "        \n",
    "static_path_change(calc_xx, calc_y1)\n",
    "print static_path"
   ]
  },
  {
   "cell_type": "code",
   "execution_count": 9,
   "metadata": {
    "collapsed": false,
    "scrolled": true
   },
   "outputs": [
    {
     "name": "stdout",
     "output_type": "stream",
     "text": [
      "-40.0620414327\n",
      "-37.9092279317\n",
      "-34.7856339745\n",
      "-32.5667877136\n",
      "-31.100856444\n",
      "-29.9876605911\n",
      "-29.3642421053\n",
      "-29.1722292727\n",
      "-29.3815047251\n",
      "-30.0806458688\n"
     ]
    }
   ],
   "source": [
    "for i in range(10):\n",
    "    print static_path[i]\n",
    "#These are the revenue impacts for the years 2017-2026"
   ]
  },
  {
   "cell_type": "markdown",
   "metadata": {},
   "source": [
    "## Behavioral calculators"
   ]
  },
  {
   "cell_type": "code",
   "execution_count": 8,
   "metadata": {
    "collapsed": false
   },
   "outputs": [
    {
     "name": "stdout",
     "output_type": "stream",
     "text": [
      "Done\n"
     ]
    }
   ],
   "source": [
    "# Behavioral factors\n",
    "calc_xx.behavior.update_behavior(behavior_traits)\n",
    "calc_y1.behavior.update_behavior(behavior_traits)\n",
    "\n",
    "calc_y1_beh = Behavior.response(calc_xx, calc_y1)\n",
    "print \"Done\"\n",
    "\n"
   ]
  },
  {
   "cell_type": "code",
   "execution_count": 9,
   "metadata": {
    "collapsed": false
   },
   "outputs": [
    {
     "name": "stdout",
     "output_type": "stream",
     "text": [
      "2017\n"
     ]
    }
   ],
   "source": [
    "print calc_y1_beh.current_year"
   ]
  },
  {
   "cell_type": "markdown",
   "metadata": {},
   "source": [
    "### Revenue effect with behavioral changes for 2017"
   ]
  },
  {
   "cell_type": "code",
   "execution_count": 10,
   "metadata": {
    "collapsed": false
   },
   "outputs": [
    {
     "name": "stdout",
     "output_type": "stream",
     "text": [
      "With behavioral effects, net revenue change: 8.4892997316 billion dollars\n"
     ]
    }
   ],
   "source": [
    "calc_y1_beh_combined = (calc_y1_beh.records._combined * calc_y1_beh.records.s006)\n",
    "diff_Beh_y1_xx = (calc_y1_beh_combined - calc_xx_combined).sum() / 10**9\n",
    "print \"With behavioral effects, net revenue change: \" + str(diff_Beh_y1_xx) + \" billion dollars\""
   ]
  },
  {
   "cell_type": "markdown",
   "metadata": {},
   "source": [
    "### Behavioral calculator that iterates across years"
   ]
  },
  {
   "cell_type": "code",
   "execution_count": 13,
   "metadata": {
    "collapsed": false
   },
   "outputs": [
    {
     "name": "stdout",
     "output_type": "stream",
     "text": [
      "2018\n",
      "2019\n",
      "2020\n",
      "2021\n",
      "2022\n",
      "2023\n",
      "2024\n",
      "2025\n",
      "2026\n",
      "2026\n",
      "[8.170808440733415, 11.941792571622395, 16.444126401237543, 20.470433808329567, 24.145655383706096, 27.663559760560894, 30.854037037307577, 33.76584291614264, 36.43239698209204, 38.63250956432881]\n"
     ]
    }
   ],
   "source": [
    "behavioral_path = [0] * 10\n",
    "\n",
    "def behavioral_path_change(calcx, calcy):\n",
    "    calc1 = copy.deepcopy(calcx)\n",
    "    calc2 = copy.deepcopy(calcy)\n",
    "    for i in range(10):\n",
    "        calc1_combined = (calc1.records._combined * calc1.records.s006)\n",
    "        calc2_combined = (calc2.records._combined * calc2.records.s006)\n",
    "        behavioral_path[i] = (calc2_combined - calc1_combined).sum() / 10**9\n",
    "        if calc1.current_year < 2026:\n",
    "            calc1.increment_year()\n",
    "            calc2.increment_year()\n",
    "            calc1.calc_all()\n",
    "            calc2.behavior.response(calc1, calc2)\n",
    "        print calc2.current_year\n",
    "            \n",
    "        \n",
    "behavioral_path_change(calc_xx, calc_y1_beh)\n",
    "print behavioral_path"
   ]
  },
  {
   "cell_type": "code",
   "execution_count": 14,
   "metadata": {
    "collapsed": false
   },
   "outputs": [
    {
     "name": "stdout",
     "output_type": "stream",
     "text": [
      "8.17080844073\n",
      "11.9417925716\n",
      "16.4441264012\n",
      "20.4704338083\n",
      "24.1456553837\n",
      "27.6635597606\n",
      "30.8540370373\n",
      "33.7658429161\n",
      "36.4323969821\n",
      "38.6325095643\n"
     ]
    }
   ],
   "source": [
    "for i in range(10):\n",
    "    print behavioral_path[i]\n",
    "#Dynamic revenue impacts for years 2017-2026"
   ]
  },
  {
   "cell_type": "markdown",
   "metadata": {},
   "source": [
    "## Diagnostics and analysis of reform plan"
   ]
  },
  {
   "cell_type": "markdown",
   "metadata": {},
   "source": [
    "### Static diagnostics"
   ]
  },
  {
   "cell_type": "code",
   "execution_count": 16,
   "metadata": {
    "collapsed": false
   },
   "outputs": [
    {
     "name": "stdout",
     "output_type": "stream",
     "text": [
      "8.545 million taxpayers using itemized deductions under reform\n",
      "150.351 million taxpayers using the standard deduction under reform\n",
      "45.459 million taxpayers using itemized deductions under baseline\n",
      "113.608 million taxpayers using the standard deduction under baseline\n",
      "\n",
      "The average MTR on wage/salary income goes from 0.246084566564 to 0.240542477525\n",
      "The average MTR on long-term capital gains goes from 0.0554948996054 to 0.0724112525535\n"
     ]
    }
   ],
   "source": [
    "numIded = calc_y1.records.s006[(calc_y1.records.c04470 > 0.) * (calc_y1.records.c00100 > 0.)].sum()\n",
    "numStd = calc_y1.records.s006[(calc_y1.records._standard > 0.) * (calc_y1.records.c00100 > 0.)].sum()\n",
    "print str(round(numIded / 1000) / 1000.0) + \" million taxpayers using itemized deductions under reform\"\n",
    "print str(round(numStd / 1000) / 1000.0) + \" million taxpayers using the standard deduction under reform\"\n",
    "\n",
    "numIdedxx = calc_xx.records.s006[(calc_xx.records.c04470 > 0.) * (calc_xx.records.c00100 > 0.)].sum()\n",
    "numStdxx = calc_xx.records.s006[(calc_xx.records._standard > 0.) * (calc_xx.records.c00100 > 0.)].sum()\n",
    "print str(round(numIdedxx / 1000) / 1000.0) + \" million taxpayers using itemized deductions under baseline\"\n",
    "print str(round(numStdxx / 1000) / 1000.0) + \" million taxpayers using the standard deduction under baseline\"\n",
    "\n",
    "avgmtr_xx_wage = (calc_xx.mtr('e00200p')[2] * calc_xx.records.s006).sum() / calc_xx.records.s006.sum()\n",
    "avgmtr_y1_wage = (calc_y1.mtr('e00200p')[2] * calc_y1.records.s006).sum() / calc_y1.records.s006.sum()\n",
    "avgmtr_xx_cg = (calc_xx.mtr('p23250')[2] * calc_xx.records.s006).sum() / calc_xx.records.s006.sum()\n",
    "avgmtr_y1_cg = (calc_y1.mtr('p23250')[2] * calc_y1.records.s006).sum() / calc_y1.records.s006.sum()\n",
    "print \"\\n\" + \"The average MTR on wage/salary income goes from \" + str(avgmtr_xx_wage) + \" to \" + str(avgmtr_y1_wage)\n",
    "print \"The average MTR on long-term capital gains goes from \" + str(avgmtr_xx_cg) + \" to \" + str(avgmtr_y1_cg)\n"
   ]
  },
  {
   "cell_type": "code",
   "execution_count": 18,
   "metadata": {
    "collapsed": false
   },
   "outputs": [
    {
     "name": "stdout",
     "output_type": "stream",
     "text": [
      "The weighted average MTR on wage income goes from 0.348 to 0.3328\n",
      "The weighted average MTR on long-term capital gains goes from 0.2221 to 0.1582\n"
     ]
    }
   ],
   "source": [
    "wavgmtr_xx_wage = ((calc_xx.mtr('e00200p')[2] * calc_xx.records.e00200 * calc_xx.records.s006).sum() / \n",
    "                   (calc_xx.records.e00200 * calc_xx.records.s006).sum())\n",
    "wavgmtr_y1_wage = ((calc_y1.mtr('e00200p')[2] * calc_y1.records.e00200 * calc_y1.records.s006).sum() / \n",
    "                       (calc_y1.records.e00200 * calc_y1.records.s006).sum())\n",
    "print (\"The weighted average MTR on wage income goes from \" + str(round(wavgmtr_xx_wage * 10000) / 10000.0) + \" to \"\n",
    "       + str(round(wavgmtr_y1_wage * 10000) / 10000.0))\n",
    "\n",
    "wavgmtr_xx_cg = ((calc_xx.mtr('p23250')[2] * calc_xx.records.c24510 * calc_xx.records.s006).sum() / \n",
    "                 (calc_xx.records.c24510 * calc_xx.records.s006).sum())\n",
    "wavgmtr_y1_cg = ((calc_y1.mtr('p23250')[2] * calc_y1.records.c24510 * calc_y1.records.s006).sum() / \n",
    "                     (calc_y1.records.c24510 * calc_y1.records.s006).sum())\n",
    "print (\"The weighted average MTR on long-term capital gains goes from \" + str(round(wavgmtr_xx_cg * 10000) / 10000.0) + \" to \"\n",
    "       + str(round(wavgmtr_y1_cg * 10000) / 10000.0))"
   ]
  },
  {
   "cell_type": "code",
   "execution_count": 23,
   "metadata": {
    "collapsed": false
   },
   "outputs": [
    {
     "name": "stdout",
     "output_type": "stream",
     "text": [
      "Number of people with lower marginal tax rates on wages: 68.454 million\n",
      "Number of people with higher marginal tax rates on wages: 36.896 million\n",
      "Number of people with lower marginal tax rates on capital gains: 35.692 million\n",
      "Number of people with higher marginal tax rates on capital gains: 70.356 million\n",
      "Number of people receiving a tax cut: 59.638 million\n",
      "Number of people with no income tax liability goes from 67.557 million to 67.72 million\n"
     ]
    }
   ],
   "source": [
    "num_lwrmtr_static = calc_y1.records.s006[(calc_y1.mtr('e00200p')[2] < calc_xx.mtr('e00200p')[2])].sum()\n",
    "print \"Number of people with lower marginal tax rates on wages: \" + str(round(num_lwrmtr_static / 1000) / 1000.0) + \" million\"\n",
    "num_hgrmtr_static = calc_y1.records.s006[(calc_y1.mtr('e00200p')[2] > calc_xx.mtr('e00200p')[2])].sum()\n",
    "print \"Number of people with higher marginal tax rates on wages: \" + str(round(num_hgrmtr_static / 1000) / 1000.0) + \" million\"\n",
    "\n",
    "num_lwrmtr_cg_static = calc_y1.records.s006[(calc_y1.mtr('p23250')[2] < calc_xx.mtr('p23250')[2])].sum()\n",
    "print \"Number of people with lower marginal tax rates on capital gains: \" + str(round(num_lwrmtr_cg_static / 1000) / 1000.0) + \" million\"\n",
    "num_hgrmtr_cg_static = calc_y1.records.s006[(calc_y1.mtr('p23250')[2] > calc_xx.mtr('p23250')[2])].sum()\n",
    "print \"Number of people with higher marginal tax rates on capital gains: \" + str(round(num_hgrmtr_cg_static / 1000) / 1000.0) + \" million\"\n",
    "\n",
    "num_taxcut_static = calc_y1.records.s006[calc_xx.records._combined > calc_y1.records._combined + 0.0001].sum()\n",
    "print \"Number of people receiving a tax cut: \" + str(round(num_taxcut_static / 1000) / 1000.0) + \" million\"\n",
    "\n",
    "num_noinctax_y1 = calc_y1.records.s006[calc_y1.records._iitax < 0.0001].sum()\n",
    "num_noinctax_xx = calc_xx.records.s006[calc_xx.records._iitax < 0.0001].sum()\n",
    "print (\"Number of people with no income tax liability goes from \" + str(round(num_noinctax_xx / 1000) / 1000.0) + \" million to \"\n",
    "       + str(round(num_noinctax_y1 / 1000) / 1000.0) + \" million\")"
   ]
  },
  {
   "cell_type": "markdown",
   "metadata": {},
   "source": [
    "### Behavioral diagnostics"
   ]
  },
  {
   "cell_type": "code",
   "execution_count": 19,
   "metadata": {
    "collapsed": false
   },
   "outputs": [
    {
     "name": "stdout",
     "output_type": "stream",
     "text": [
      "8.46 million taxpayers using itemized deductions\n",
      "150.433 million taxpayers using the standard deduction\n",
      "Change in number of itemizers: -36.998 million\n"
     ]
    }
   ],
   "source": [
    "numIded_beh = calc_y1_beh.records.s006[(calc_y1_beh.records.c04470 > 0.) * (calc_y1_beh.records.c00100 > 0.)].sum()\n",
    "numStd_beh = calc_y1_beh.records.s006[(calc_y1_beh.records._standard > 0.) * (calc_y1_beh.records.c00100 > 0.)].sum()\n",
    "print str(round(numIded_beh / 1000) / 1000.0) + \" million taxpayers using itemized deductions\"\n",
    "print str(round(numStd_beh / 1000) / 1000.0) + \" million taxpayers using the standard deduction\"\n",
    "\n",
    "numIdedxx = calc_xx.records.s006[(calc_xx.records.c04470 > 0.) * (calc_xx.records.c00100 > 0.)].sum()\n",
    "numStdxx = calc_xx.records.s006[(calc_xx.records._standard > 0.) * (calc_xx.records.c00100 > 0.)].sum()\n",
    "print \"Change in number of itemizers: \" + str(round((numIded_beh - numIdedxx) / 1000) / 1000.0) + \" million\""
   ]
  },
  {
   "cell_type": "code",
   "execution_count": 20,
   "metadata": {
    "collapsed": false
   },
   "outputs": [
    {
     "name": "stdout",
     "output_type": "stream",
     "text": [
      "The average MTR on wage/salary income goes from 0.2461 to 0.2405\n",
      "The average MTR on long-term capital gains goes from 0.0555 to 0.0724\n",
      "The weighted average MTR on wage income goes from 0.348 to 0.3337\n",
      "The weighted average MTR on long-term capital gains goes from 0.2221 to 0.1599\n"
     ]
    }
   ],
   "source": [
    "avgmtr_xx_wage = (calc_xx.mtr('e00200p')[2] * calc_xx.records.s006).sum() / calc_xx.records.s006.sum()\n",
    "avgmtr_y1_beh_wage = (calc_y1_beh.mtr('e00200p')[2] * calc_y1_beh.records.s006).sum() / calc_y1_beh.records.s006.sum()\n",
    "avgmtr_xx_cg = (calc_xx.mtr('p23250')[2] * calc_xx.records.s006).sum() / calc_xx.records.s006.sum()\n",
    "avgmtr_y1_beh_cg = (calc_y1_beh.mtr('p23250')[2] * calc_y1_beh.records.s006).sum() / calc_y1_beh.records.s006.sum()\n",
    "print (\"The average MTR on wage/salary income goes from \" + str(round(avgmtr_xx_wage * 10000) / 10000.0) +\n",
    "       \" to \" + str(round(avgmtr_y1_wage * 10000) / 10000.0))\n",
    "print (\"The average MTR on long-term capital gains goes from \" + str(round(avgmtr_xx_cg * 10000) / 10000.0) +\n",
    "       \" to \" + str(round(avgmtr_y1_cg * 10000) / 10000.0))\n",
    "\n",
    "wavgmtr_xx_wage = ((calc_xx.mtr('e00200p')[2] * calc_xx.records.e00200 * calc_xx.records.s006).sum() / \n",
    "                   (calc_xx.records.e00200 * calc_xx.records.s006).sum())\n",
    "wavgmtr_y1_beh_wage = ((calc_y1_beh.mtr('e00200p')[2] * calc_y1_beh.records.e00200 * calc_y1_beh.records.s006).sum() / \n",
    "                       (calc_y1_beh.records.e00200 * calc_y1_beh.records.s006).sum())\n",
    "print (\"The weighted average MTR on wage income goes from \" + str(round(wavgmtr_xx_wage * 10000) / 10000.0) + \" to \"\n",
    "       + str(round(wavgmtr_y1_beh_wage * 10000) / 10000.0))\n",
    "\n",
    "wavgmtr_xx_cg = ((calc_xx.mtr('p23250')[2] * calc_xx.records.c24510 * calc_xx.records.s006).sum() / \n",
    "                 (calc_xx.records.c24510 * calc_xx.records.s006).sum())\n",
    "wavgmtr_y1_beh_cg = ((calc_y1_beh.mtr('p23250')[2] * calc_y1_beh.records.c24510 * calc_y1_beh.records.s006).sum() / \n",
    "                     (calc_y1_beh.records.c24510 * calc_y1_beh.records.s006).sum())\n",
    "print (\"The weighted average MTR on long-term capital gains goes from \" + str(round(wavgmtr_xx_cg * 10000) / 10000.0) + \" to \"\n",
    "       + str(round(wavgmtr_y1_beh_cg * 10000) / 10000.0))\n",
    "\n",
    "#e00200 wages, salaries, tips, etc\n",
    "#e04800 taxable income\n",
    "#c18300 total taxes deducted\n",
    "#e24540 taxable income less gain\n"
   ]
  },
  {
   "cell_type": "code",
   "execution_count": 24,
   "metadata": {
    "collapsed": false
   },
   "outputs": [
    {
     "name": "stdout",
     "output_type": "stream",
     "text": [
      "Number of people with lower marginal tax rates on wages: 66.892 million\n",
      "Number of people with higher marginal tax rates on wages: 35.013 million\n",
      "Number of people with lower marginal tax rates on capital gains: 36.454 million\n",
      "Number of people with higher marginal tax rates on capital gains: 69.467 million\n",
      "Number of people receiving a tax cut: 56.951 million\n",
      "Number of people with no income tax liability goes from 67.557 million to 67.611 million\n"
     ]
    }
   ],
   "source": [
    "num_lwrmtr = calc_y1_beh.records.s006[(calc_y1_beh.mtr('e00200p')[2] < calc_xx.mtr('e00200p')[2])].sum()\n",
    "print \"Number of people with lower marginal tax rates on wages: \" + str(round(num_lwrmtr / 1000) / 1000.0) + \" million\"\n",
    "num_hgrmtr = calc_y1_beh.records.s006[(calc_y1_beh.mtr('e00200p')[2] > calc_xx.mtr('e00200p')[2])].sum()\n",
    "print \"Number of people with higher marginal tax rates on wages: \" + str(round(num_hgrmtr / 1000) / 1000.0) + \" million\"\n",
    "\n",
    "num_lwrmtr_cg = calc_y1_beh.records.s006[(calc_y1_beh.mtr('p23250')[2] < calc_xx.mtr('p23250')[2])].sum()\n",
    "print \"Number of people with lower marginal tax rates on capital gains: \" + str(round(num_lwrmtr_cg / 1000) / 1000.0) + \" million\"\n",
    "num_hgrmtr_cg = calc_y1_beh.records.s006[(calc_y1_beh.mtr('p23250')[2] > calc_xx.mtr('p23250')[2])].sum()\n",
    "print \"Number of people with higher marginal tax rates on capital gains: \" + str(round(num_hgrmtr_cg / 1000) / 1000.0) + \" million\"\n",
    "\n",
    "num_taxcut = calc_y1_beh.records.s006[calc_xx.records._combined > calc_y1_beh.records._combined + 0.0001].sum()\n",
    "print \"Number of people receiving a tax cut: \" + str(round(num_taxcut / 1000) / 1000.0) + \" million\"\n",
    "\n",
    "num_noinctax_y1_beh = calc_y1_beh.records.s006[calc_y1_beh.records._iitax < 0.0001].sum()\n",
    "num_noinctax_xx = calc_xx.records.s006[calc_xx.records._iitax < 0.0001].sum()\n",
    "print (\"Number of people with no income tax liability goes from \" + str(round(num_noinctax_xx / 1000) / 1000.0) + \" million to \"\n",
    "       + str(round(num_noinctax_y1_beh / 1000) / 1000.0) + \" million\")"
   ]
  },
  {
   "cell_type": "markdown",
   "metadata": {},
   "source": [
    "# Individual Reforms"
   ]
  },
  {
   "cell_type": "code",
   "execution_count": 25,
   "metadata": {
    "collapsed": false
   },
   "outputs": [],
   "source": [
    "# Must do reform plus AMT repeal and compare aginst just AMT repeal\n",
    "\n",
    "# AMT repeal\n",
    "policy_amt = Policy()\n",
    "behavior_amt = Behavior()\n",
    "records_amt = Records(\"../../puf.csv\")\n",
    "reform_amt = {\n",
    "    2017: {\n",
    "        '_AMT_trt1': [0.0],\n",
    "        '_AMT_trt2': [0.0]\n",
    "    }\n",
    "}\n",
    "policy_amt.implement_reform(reform_amt)\n",
    "\n",
    "# Change in income tax rates\n",
    "policy_IncTax = Policy()\n",
    "behavior_IncTax = Behavior()\n",
    "records_IncTax = Records(\"../../puf.csv\")\n",
    "reform_IncTax = {\n",
    "    2017: {\n",
    "        '_AMT_trt1': [0.0],\n",
    "        '_AMT_trt2': [0.0],\n",
    "        '_II_rt1': [0.12],\n",
    "        '_II_rt2': [0.12],\n",
    "        '_II_rt3': [0.25],\n",
    "        '_II_rt4': [0.25],\n",
    "        '_II_rt5': [0.33],\n",
    "        '_II_rt6': [0.33],\n",
    "        '_II_rt7': [0.33]\n",
    "    }\n",
    "}\n",
    "policy_IncTax.implement_reform(reform_IncTax)\n",
    "\n",
    "# Deduction reforms and child tax credit\n",
    "policy_ded = Policy()\n",
    "behavior_ded = Behavior()\n",
    "records_ded = Records(\"../../puf.csv\")\n",
    "reform_ded = {\n",
    "    2017: {\n",
    "        '_AMT_trt1': [0.0],\n",
    "        '_AMT_trt2': [0.0],\n",
    "        '_STD': [[12000, 24000, 12000, 18000, 24000, 12000, 1050]],\n",
    "        '_STD_Aged': [[0,0,0,0,0,0],\n",
    "                      [0,0,0,0,0,0],\n",
    "                      [0,0,0,0,0,0],\n",
    "                      [0,0,0,0,0,0]],\n",
    "        '_II_em': [0,0,0,0],\n",
    "        '_CTC_ps': [[75000, 150000, 55000, 75000, 75000, 55000]],\n",
    "        '_ID_StateLocalTax_HC': [1.0],\n",
    "        '_ID_Medical_HC': [1.0],\n",
    "        '_ID_Casualty_HC': [1.0],\n",
    "        '_ID_Miscellaneous_HC': [1.0],\n",
    "        '_ID_RealEstate_HC': [1.0]\n",
    "    }\n",
    "}\n",
    "policy_ded.implement_reform(reform_ded)\n",
    "\n",
    "# Investment income (interest, cap gains and dividends) reforms\n",
    "policy_InvTax = Policy()\n",
    "behavior_InvTax = Behavior()\n",
    "records_InvTax = Records(\"../../puf.csv\")\n",
    "reform_InvTax = {\n",
    "    2017: {\n",
    "        '_AMT_trt1': [0.0],\n",
    "        '_AMT_trt2': [0.0],\n",
    "        '_ALD_Interest_ec': [0.5],\n",
    "        '_CG_thd2': [[183250, 223050, 111525, 203150, 223050, 111525],\n",
    "                     [186350, 226850, 113425, 206600, 226850, 113425],\n",
    "                     [189300, 230450, 115225, 209850, 230450, 115225],\n",
    "                     [190150, 231450, 115725, 210800, 231450, 115725]],\n",
    "        '_CG_rt1': [0.06],\n",
    "        '_CG_rt2': [0.125],\n",
    "        '_CG_rt3': [0.165],\n",
    "        '_NIIT_trt': [0.0]\n",
    "    }\n",
    "}\n",
    "policy_InvTax.implement_reform(reform_InvTax)"
   ]
  },
  {
   "cell_type": "markdown",
   "metadata": {},
   "source": [
    "## Static calculators"
   ]
  },
  {
   "cell_type": "code",
   "execution_count": 26,
   "metadata": {
    "collapsed": false
   },
   "outputs": [
    {
     "name": "stdout",
     "output_type": "stream",
     "text": [
      "You loaded data for 2009.\n",
      "Your data have been extrapolated to 2013.\n",
      "You loaded data for 2009.\n",
      "Your data have been extrapolated to 2013.\n",
      "You loaded data for 2009.\n",
      "Your data have been extrapolated to 2013.\n",
      "You loaded data for 2009.\n",
      "Your data have been extrapolated to 2013.\n"
     ]
    }
   ],
   "source": [
    "calc_amt = Calculator(policy_amt, records_amt, behavior_amt)\n",
    "for i in range(4):\n",
    "   calc_amt.increment_year()\n",
    "assert calc_amt.current_year == 2017\n",
    "\n",
    "calc_IncTax = Calculator(policy_IncTax, records_IncTax, behavior_IncTax)\n",
    "for i in range(4):\n",
    "    calc_IncTax.increment_year()\n",
    "assert calc_IncTax.current_year == 2017\n",
    "\n",
    "calc_ded = Calculator(policy_ded, records_ded, behavior_ded)\n",
    "for i in range(4):\n",
    "    calc_ded.increment_year()\n",
    "assert calc_ded.current_year == 2017\n",
    "\n",
    "calc_InvTax = Calculator(policy_InvTax, records_InvTax, behavior_InvTax)\n",
    "for i in range(4):\n",
    "    calc_InvTax.increment_year()\n",
    "assert calc_InvTax.current_year == 2017\n"
   ]
  },
  {
   "cell_type": "code",
   "execution_count": 27,
   "metadata": {
    "collapsed": false,
    "scrolled": true
   },
   "outputs": [
    {
     "name": "stdout",
     "output_type": "stream",
     "text": [
      "2017\n",
      "2017\n",
      "2017\n",
      "2017\n"
     ]
    }
   ],
   "source": [
    "print calc_amt.current_year\n",
    "print calc_IncTax.current_year\n",
    "print calc_ded.current_year\n",
    "print calc_InvTax.current_year"
   ]
  },
  {
   "cell_type": "code",
   "execution_count": 28,
   "metadata": {
    "collapsed": true
   },
   "outputs": [],
   "source": [
    "calc_amt.calc_all()\n",
    "calc_IncTax.calc_all()\n",
    "calc_ded.calc_all()\n",
    "calc_InvTax.calc_all()"
   ]
  },
  {
   "cell_type": "code",
   "execution_count": 29,
   "metadata": {
    "collapsed": false
   },
   "outputs": [],
   "source": [
    "calc_amt_combined = (calc_amt.records._combined * calc_amt.records.s006)\n",
    "calc_IncTax_combined = (calc_IncTax.records._combined * calc_IncTax.records.s006)\n",
    "calc_ded_combined = (calc_ded.records._combined * calc_ded.records.s006)\n",
    "calc_InvTax_combined = (calc_InvTax.records._combined * calc_InvTax.records.s006)\n",
    "\n",
    "diff_static_amt_xx = (calc_amt_combined - calc_xx_combined).sum() / 10**9\n",
    "diff_static_IncTax_amt = (calc_IncTax_combined - calc_amt_combined).sum() / 10**9\n",
    "diff_static_ded_amt = (calc_ded_combined - calc_amt_combined).sum() / 10**9\n",
    "diff_static_InvTax_amt = (calc_InvTax_combined - calc_amt_combined).sum() / 10**9\n"
   ]
  },
  {
   "cell_type": "markdown",
   "metadata": {},
   "source": [
    "### Static revenue effects of individual reforms"
   ]
  },
  {
   "cell_type": "code",
   "execution_count": 30,
   "metadata": {
    "collapsed": false
   },
   "outputs": [
    {
     "name": "stdout",
     "output_type": "stream",
     "text": [
      "Static net revenue change with AMT repeal: -41.8800806925 billion dollars\n",
      "Static net revenue change with income tax reform: -119.005594196 billion dollars\n",
      "Static net revenue change with deduction reform: 186.681455497 billion dollars\n",
      "Static net revenue change with investment tax reform: -51.3411627 billion dollars\n"
     ]
    }
   ],
   "source": [
    "print \"Static net revenue change with AMT repeal: \" + str(diff_static_amt_xx) + \" billion dollars\"\n",
    "print \"Static net revenue change with income tax reform: \" + str(diff_static_IncTax_amt) + \" billion dollars\"\n",
    "print \"Static net revenue change with deduction reform: \" + str(diff_static_ded_amt) + \" billion dollars\"\n",
    "print \"Static net revenue change with investment tax reform: \" + str(diff_static_InvTax_amt) + \" billion dollars\""
   ]
  },
  {
   "cell_type": "markdown",
   "metadata": {},
   "source": [
    "## Behavioral calculators"
   ]
  },
  {
   "cell_type": "code",
   "execution_count": 31,
   "metadata": {
    "collapsed": false
   },
   "outputs": [
    {
     "name": "stdout",
     "output_type": "stream",
     "text": [
      "Done\n"
     ]
    }
   ],
   "source": [
    "calc_amt.behavior.update_behavior(behavior_traits)\n",
    "calc_amt_beh = Behavior.response(calc_xx, calc_amt)\n",
    "print \"Done\""
   ]
  },
  {
   "cell_type": "code",
   "execution_count": 32,
   "metadata": {
    "collapsed": false
   },
   "outputs": [
    {
     "name": "stdout",
     "output_type": "stream",
     "text": [
      "Done\n"
     ]
    }
   ],
   "source": [
    "calc_IncTax.behavior.update_behavior(behavior_traits)\n",
    "calc_IncTax_beh = Behavior.response(calc_amt, calc_IncTax)\n",
    "print \"Done\""
   ]
  },
  {
   "cell_type": "code",
   "execution_count": 33,
   "metadata": {
    "collapsed": false
   },
   "outputs": [
    {
     "name": "stdout",
     "output_type": "stream",
     "text": [
      "Done\n"
     ]
    }
   ],
   "source": [
    "calc_ded.behavior.update_behavior(behavior_traits)\n",
    "calc_ded_beh = Behavior.response(calc_amt, calc_ded)\n",
    "print \"Done\""
   ]
  },
  {
   "cell_type": "code",
   "execution_count": 34,
   "metadata": {
    "collapsed": false
   },
   "outputs": [
    {
     "name": "stdout",
     "output_type": "stream",
     "text": [
      "Done\n"
     ]
    }
   ],
   "source": [
    "calc_InvTax.behavior.update_behavior(behavior_traits)\n",
    "calc_InvTax_beh = Behavior.response(calc_amt, calc_InvTax)\n",
    "print \"Done\""
   ]
  },
  {
   "cell_type": "markdown",
   "metadata": {},
   "source": [
    "### Revenue effects with behavioral changes for 2017"
   ]
  },
  {
   "cell_type": "code",
   "execution_count": 35,
   "metadata": {
    "collapsed": false
   },
   "outputs": [
    {
     "name": "stdout",
     "output_type": "stream",
     "text": [
      "With behavioral effects, net revenue change from AMT repeal: -40.5725667494 billion dollars\n",
      "With behavioral effects, net revenue change from income tax rate reform: -89.1433414334 billion dollars\n",
      "With behavioral effects, net revenue change from deduction reform: 187.042293149 billion dollars\n",
      "With behavioral effects, net revenue change from investment tax reform: -29.0124199316 billion dollars\n"
     ]
    }
   ],
   "source": [
    "calc_amt_beh_combined = (calc_amt_beh.records._combined * calc_amt_beh.records.s006)\n",
    "calc_IncTax_beh_combined = (calc_IncTax_beh.records._combined * calc_IncTax_beh.records.s006)\n",
    "calc_ded_beh_combined = (calc_ded_beh.records._combined * calc_ded_beh.records.s006)\n",
    "calc_InvTax_beh_combined = (calc_InvTax_beh.records._combined * calc_InvTax_beh.records.s006)\n",
    "\n",
    "diff_Beh_amt_xx = (calc_amt_beh_combined - calc_xx_combined).sum() / 10**9\n",
    "diff_Beh_IncTax_amt = (calc_IncTax_beh_combined - calc_amt_beh_combined).sum() / 10**9\n",
    "diff_Beh_ded_amt = (calc_ded_beh_combined - calc_amt_beh_combined).sum() / 10**9\n",
    "diff_Beh_InvTax_amt = (calc_InvTax_beh_combined - calc_amt_beh_combined).sum() / 10**9\n",
    "\n",
    "print \"With behavioral effects, net revenue change from AMT repeal: \" + str(diff_Beh_amt_xx) + \" billion dollars\"\n",
    "print \"With behavioral effects, net revenue change from income tax rate reform: \" + str(diff_Beh_IncTax_amt) + \" billion dollars\"\n",
    "print \"With behavioral effects, net revenue change from deduction reform: \" + str(diff_Beh_ded_amt) + \" billion dollars\"\n",
    "print \"With behavioral effects, net revenue change from investment tax reform: \" + str(diff_Beh_InvTax_amt) + \" billion dollars\""
   ]
  },
  {
   "cell_type": "markdown",
   "metadata": {},
   "source": [
    "### Static iterator"
   ]
  },
  {
   "cell_type": "code",
   "execution_count": 36,
   "metadata": {
    "collapsed": true
   },
   "outputs": [],
   "source": [
    "def static_path_change(calcx, calcy):\n",
    "    static_path = [0] * 10\n",
    "    calc1 = copy.deepcopy(calcx)\n",
    "    calc2 = copy.deepcopy(calcy)\n",
    "    for i in range(10):\n",
    "        calc1.calc_all()\n",
    "        calc2.calc_all()\n",
    "        calc1_combined = (calc1.records._combined * calc1.records.s006)\n",
    "        calc2_combined = (calc2.records._combined * calc2.records.s006)\n",
    "        static_path[i] = (calc2_combined - calc1_combined).sum() / 10**9\n",
    "        if calc1.current_year < 2026:\n",
    "            calc1.increment_year()\n",
    "            calc2.increment_year()\n",
    "    return static_path\n"
   ]
  },
  {
   "cell_type": "code",
   "execution_count": 37,
   "metadata": {
    "collapsed": false
   },
   "outputs": [
    {
     "name": "stdout",
     "output_type": "stream",
     "text": [
      "-41.8800806925\n",
      "-44.2877182126\n",
      "-46.6440347399\n",
      "-49.1779337649\n",
      "-51.8154028125\n",
      "-54.8013115856\n",
      "-57.8010928085\n",
      "-60.8753768865\n",
      "-64.018837524\n",
      "-67.2824752383\n"
     ]
    }
   ],
   "source": [
    "static_path_amt_xx = static_path_change(calc_xx, calc_amt)\n",
    "for i in static_path_amt_xx:\n",
    "    print i"
   ]
  },
  {
   "cell_type": "code",
   "execution_count": 38,
   "metadata": {
    "collapsed": false
   },
   "outputs": [
    {
     "name": "stdout",
     "output_type": "stream",
     "text": [
      "-119.005594196\n",
      "-123.607362494\n",
      "-127.798236453\n",
      "-132.316870127\n",
      "-137.74393306\n",
      "-143.72289327\n",
      "-150.294739943\n",
      "-157.413842628\n",
      "-165.025693299\n",
      "-173.372882487\n"
     ]
    }
   ],
   "source": [
    "static_path_IncTax_amt = static_path_change(calc_amt, calc_IncTax)\n",
    "for i in static_path_IncTax_amt:\n",
    "    print i"
   ]
  },
  {
   "cell_type": "code",
   "execution_count": 39,
   "metadata": {
    "collapsed": false
   },
   "outputs": [
    {
     "name": "stdout",
     "output_type": "stream",
     "text": [
      "186.681455497\n",
      "198.015715688\n",
      "209.496783713\n",
      "221.193225945\n",
      "233.838104236\n",
      "247.412648259\n",
      "261.359886738\n",
      "275.740835971\n",
      "290.673144424\n",
      "306.133143679\n"
     ]
    }
   ],
   "source": [
    "static_path_ded_amt = static_path_change(calc_amt, calc_ded)\n",
    "for i in static_path_ded_amt:\n",
    "    print i"
   ]
  },
  {
   "cell_type": "code",
   "execution_count": 40,
   "metadata": {
    "collapsed": false
   },
   "outputs": [
    {
     "name": "stdout",
     "output_type": "stream",
     "text": [
      "-51.3411627\n",
      "-52.6382929229\n",
      "-53.5332698795\n",
      "-55.074914586\n",
      "-57.1950412257\n",
      "-59.6389971096\n",
      "-62.3302440145\n",
      "-65.2559730182\n",
      "-68.5075513244\n",
      "-71.8782820439\n"
     ]
    }
   ],
   "source": [
    "static_path_InvTax_amt = static_path_change(calc_amt, calc_InvTax)\n",
    "for i in static_path_InvTax_amt:\n",
    "    print i"
   ]
  },
  {
   "cell_type": "markdown",
   "metadata": {},
   "source": [
    "### Behavioral iterator"
   ]
  },
  {
   "cell_type": "code",
   "execution_count": null,
   "metadata": {
    "collapsed": true
   },
   "outputs": [],
   "source": [
    "def behavioral_path_change(calcx, calcy):\n",
    "    behavioral_path = [0] * 10\n",
    "    calc1 = copy.deepcopy(calcx)\n",
    "    calc2 = copy.deepcopy(calcy)\n",
    "    for i in range(10):\n",
    "        calc1_combined = (calc1.records._combined * calc1.records.s006)\n",
    "        calc2_combined = (calc2.records._combined * calc2.records.s006)\n",
    "        behavioral_path[i] = (calc2_combined - calc1_combined).sum() / 10**9\n",
    "        if calc1.current_year < 2026:\n",
    "            calc1.increment_year()\n",
    "            calc2.increment_year()\n",
    "            calc1.calc_all()\n",
    "            calc2.behavior.response(calc1, calc2)\n",
    "        print calc2.current_year\n",
    "    return behavioral_path"
   ]
  },
  {
   "cell_type": "code",
   "execution_count": null,
   "metadata": {
    "collapsed": true
   },
   "outputs": [],
   "source": [
    "beh_path_amt_xx = behavioral_path_change(calc_xx, calc_amt)\n",
    "for i in beh_path_amt_xx:\n",
    "    print i"
   ]
  },
  {
   "cell_type": "code",
   "execution_count": null,
   "metadata": {
    "collapsed": true
   },
   "outputs": [],
   "source": [
    "beh_path_IncTax_amt = behavioral_path_change(calc_amt, calc_IncTax)\n",
    "for i in beh_path_IncTax_amt:\n",
    "    print i"
   ]
  },
  {
   "cell_type": "code",
   "execution_count": null,
   "metadata": {
    "collapsed": true
   },
   "outputs": [],
   "source": [
    "beh_path_ded_amt = behavioral_path_change(calc_amt, calc_ded)\n",
    "for i in beh_path_ded_amt:\n",
    "    print i"
   ]
  },
  {
   "cell_type": "code",
   "execution_count": null,
   "metadata": {
    "collapsed": true
   },
   "outputs": [],
   "source": [
    "beh_path_InvTax_amt = behavioral_path_change(calc_amt, calc_InvTax)\n",
    "for i in beh_path_InvTax_amt:\n",
    "    print i"
   ]
  },
  {
   "cell_type": "markdown",
   "metadata": {
    "collapsed": false
   },
   "source": [
    "# MTR charts"
   ]
  },
  {
   "cell_type": "markdown",
   "metadata": {},
   "source": [
    "#### Ignore this one. It's very slow b/c it relies on iteration. Use the other one"
   ]
  },
  {
   "cell_type": "code",
   "execution_count": null,
   "metadata": {
    "collapsed": false
   },
   "outputs": [],
   "source": [
    "def getMTR(calc1):\n",
    "    return calc1.mtr('e00200p')[2]\n",
    "\n",
    "def getMTR_cg(calc1):\n",
    "    return calc1.mtr('p23250')[2]\n",
    "\n",
    "def getAGI(calc1):\n",
    "    return np.where(calc1.records.c00100 < 0, 0., calc1.records.c00100)\n",
    "\n",
    "def getAvgRate(calc1):\n",
    "    return calc1.records._combined / (getAGI(calc1) + .001)\n",
    "\n",
    "def binAverages(calc1, bins):\n",
    "    #Input: a calculator object and the number of bins\n",
    "    #Groups tax units into binds, ordered by AGI\n",
    "    #Returns 4 arrays of length bins: average AGI, average marginal tax rate on wage/salary, average marginal tax rate on capital gains, \n",
    "        #average of the average individual tax rates\n",
    "    \n",
    "    mtr = getMTR(calc1)\n",
    "    mtrCG = getMTR_cg(calc1)\n",
    "    agi = getAGI(calc1)\n",
    "    avgRate = getAvgRate(calc1)\n",
    "    wgt = calc1.records.s006\n",
    "    \n",
    "    mtrList = [[] for _ in range(bins)]\n",
    "    agiList = [[] for _ in range(bins)]\n",
    "    mtrCGList = [[] for _ in range(bins)]\n",
    "    avgRateList = [[] for _ in range(bins)]\n",
    "    wgtList = [[] for _ in range(bins)]\n",
    "    maxInc = max(agi) + .001\n",
    "    incr = maxInc / bins\n",
    "\n",
    "    for i in range(219814):\n",
    "        ind = int(agi[i] / incr)\n",
    "        assert ind in range(100)\n",
    "        assert i in range(len(mtr))\n",
    "        mtrList[ind].append(mtr[i])\n",
    "        agiList[ind].append(agi[i])\n",
    "        mtrCGList[ind].append(mtrCG[i])\n",
    "        avgRateList[ind].append(avgRate[i])\n",
    "        wgtList[ind].append(wgt[i])\n",
    "    \n",
    "    mtrGroup = [0] * bins\n",
    "    mtrCGGroup = [0] * bins\n",
    "    agiGroup = [0] * bins\n",
    "    avgRateGroup = [0] * bins\n",
    "    \n",
    "    for j in range(bins):\n",
    "        mtrGroup[j] = (np.asarray(mtrList[j]) * np.asarray(wgtList[j])).sum() / np.asarray(wgtList[j]).sum()\n",
    "        mtrCGGroup[j] = (np.asarray(mtrCGList[j]) * np.asarray(wgtList[j])).sum() / np.asarray(wgtList[j]).sum()\n",
    "        agiGroup[j] = (np.asarray(agiList[j]) * np.asarray(wgtList[j])).sum() / np.asarray(wgtList[j]).sum()\n",
    "        avgRateGroup[j] = (np.asarray(avgRateList[j]) * np.asarray(wgtList[j])).sum() / np.asarray(wgtList[j]).sum()\n",
    "    return mtrGroup, mtrCGGroup, agiGroup, avgRateGroup\n",
    "\n",
    "def create_rate_plot(calc_baseline, calc_reform, Type, bins):\n",
    "    # Type can be 'mtr', 'mtrcg', 'avgrate'\n",
    "    assert Type in ('mtr', 'mtrcg', 'avgrate')\n",
    "    baseline = binAverages(calc_baseline, bins)\n",
    "    reform = binAverages(calc_reform, bins)\n",
    "    ydata_baseline = []\n",
    "    xdata_baseline = baseline[2]\n",
    "    ydata_reform = []\n",
    "    xdata_reform = reform[2]\n",
    "    \n",
    "    title = \"\"\n",
    "    xlab = \"AGI\"\n",
    "    ylab = \"\"\n",
    "    if Type == 'mtr':\n",
    "        title = 'Marginal tax rate on wages'\n",
    "        ylab = 'MTR'\n",
    "        ydata_baseline = baseline[0]\n",
    "        ydata_reform = reform[0]\n",
    "    elif Type == 'mtrcg':\n",
    "        title = 'Marginal tax rate on capital gains'\n",
    "        ylab = 'MTR'\n",
    "        ydata_baseline = baseline[1]\n",
    "        ydata_reform = reform[1]\n",
    "    else: \n",
    "        title = \"Average tax rate\"\n",
    "        ylab = 'Tax rate'\n",
    "        ydata_baseline = baseline[3]\n",
    "        ydata_reform = reform[3]\n",
    "    \n",
    "    plt.plot(ydata_baseline)\n",
    "    plt.plot(ydata_reform)\n",
    "    plt.legend(['Baseline', 'Reform'], loc='lower right')\n",
    "    plt.title(title)\n",
    "    axes = plt.gca()\n",
    "    if(Type == 'mtrcg'):\n",
    "        axes.set_xlim([0,1000000])\n",
    "    else: \n",
    "        axes.set_xlim([0,500000])\n",
    "    \n",
    "    \n",
    "    \n",
    "\n"
   ]
  },
  {
   "cell_type": "code",
   "execution_count": null,
   "metadata": {
    "collapsed": false
   },
   "outputs": [],
   "source": [
    "create_rate_plot(calc_xx, calc_y1_beh, 'mtr', 100)"
   ]
  },
  {
   "cell_type": "markdown",
   "metadata": {},
   "source": [
    "### This is the correct rate grapher. Use this to produce MTR charts and average rate charts"
   ]
  },
  {
   "cell_type": "code",
   "execution_count": 11,
   "metadata": {
    "collapsed": false
   },
   "outputs": [],
   "source": [
    "def getMTR(calc1):\n",
    "    return np.asarray(calc1.mtr('e00200p')[2])\n",
    "\n",
    "def getMTR_cg(calc1):\n",
    "    return np.asarray(calc1.mtr('p23250')[2])\n",
    "\n",
    "def getAGI(calc1):\n",
    "    return np.asarray(np.where(calc1.records.c00100 < 0, 0., calc1.records.c00100))\n",
    "\n",
    "def getAvgRate(calc1):\n",
    "    agi1 = getAGI(calc1) + 0.001\n",
    "    avgRate1 = np.asarray(calc1.records._combined) / np.asarray((getAGI(calc1)))\n",
    "    avgRate2 = np.where(avgRate1 > 1, 1.0, avgRate1)\n",
    "    avgRate3 = np.where(avgRate2 < 0, 0., avgRate2)\n",
    "    return avgRate3\n",
    "\n",
    "def group_evenly(calc1):\n",
    "    mtr = getMTR(calc1)\n",
    "    mtrCG = getMTR_cg(calc1)\n",
    "    agi = getAGI(calc1)\n",
    "    avgRate = getAvgRate(calc1)\n",
    "    wgt = np.asarray(copy.deepcopy(calc1.records.s006))\n",
    "    \n",
    "    all_together = zip(agi, mtr, mtrCG, avgRate, wgt)\n",
    "    all_together.sort()\n",
    "    all_apart = zip(*all_together)\n",
    "    agi_sorted = np.asarray(all_apart[0])\n",
    "    mtr_sorted = np.asarray(all_apart[1])\n",
    "    mtrCG_sorted = np.asarray(all_apart[2])\n",
    "    avgRate_sorted = np.asarray(all_apart[3])\n",
    "    wgt_sorted = np.asarray(all_apart[4])\n",
    "    \n",
    "    mtrList = [0] * 98\n",
    "    mtrCGList = [0] * 98\n",
    "    agiList = [0] * 98\n",
    "    avgRateList = [0] * 98\n",
    "    wgtList = [0] * 98\n",
    "    \n",
    "    for i in range(98):\n",
    "        agiList[i] = (agi_sorted[(i*2243):((i+1)*2243)] * wgt_sorted[(i*2243):((i+1)*2243)]).sum()\n",
    "        mtrList[i] = (mtr_sorted[(i*2243):((i+1)*2243)] * wgt_sorted[(i*2243):((i+1)*2243)]).sum()\n",
    "        mtrCGList[i] = (mtrCG_sorted[(i*2243):((i+1)*2243)] * wgt_sorted[(i*2243):((i+1)*2243)]).sum()\n",
    "        avgRateList[i] = (avgRate_sorted[(i*2243):((i+1)*2243)] * wgt_sorted[(i*2243):((i+1)*2243)]).sum()\n",
    "        wgtList[i] =  wgt_sorted[(i*2243):((i+1)*2243)].sum()\n",
    "    \n",
    "    \n",
    "    agiFinal = np.asarray(agiList) / np.asarray(wgtList)\n",
    "    mtrFinal = np.asarray(mtrList) / np.asarray(wgtList)\n",
    "    mtrCGFinal = np.asarray(mtrCGList) / np.asarray(wgtList)\n",
    "    avgRateFinal = np.asarray(avgRateList) / np.asarray(wgtList)\n",
    "    return agiFinal, mtrFinal, mtrCGFinal, avgRateFinal\n",
    "\n",
    "def plot_evenly(calc_baseline, calc_reform, Type):\n",
    "    assert Type in ('mtr', 'mtrcg', 'avgrate')\n",
    "    baseline = group_evenly(calc_baseline)\n",
    "    reform = group_evenly(calc_reform)\n",
    "    \n",
    "    ydata_baseline = []\n",
    "    ydata_reform = []\n",
    "    title = \"\"\n",
    "    ylab = \"\"\n",
    "    if Type == 'mtr':\n",
    "        title = 'Marginal tax rate on wages'\n",
    "        ylab = 'MTR'\n",
    "        ydata_baseline = baseline[1]\n",
    "        ydata_reform = reform[1]\n",
    "    elif Type == 'mtrcg':\n",
    "        title = 'Marginal tax rate on capital gains'\n",
    "        ylab = 'MTR'\n",
    "        ydata_baseline = baseline[2]\n",
    "        ydata_reform = reform[2]\n",
    "    else: \n",
    "        title = \"Average tax rate\"\n",
    "        ylab = 'Tax rate'\n",
    "        ydata_baseline = baseline[3]\n",
    "        ydata_reform = reform[3]\n",
    "    #plt.plot(ydata_baseline)\n",
    "    #plt.plot(ydata_reform)\n",
    "    plt.plot(ydata_baseline[25:76])\n",
    "    plt.plot(ydata_reform[25:76])\n",
    "    plt.legend(['Baseline', 'Reform'], loc='lower right')\n",
    "    plt.title(title)\n",
    "\n"
   ]
  },
  {
   "cell_type": "code",
   "execution_count": 12,
   "metadata": {
    "collapsed": false
   },
   "outputs": [
    {
     "data": {
      "image/png": "[encoded data removed]",
      "text/plain": [
       "<matplotlib.figure.Figure at 0x12b3c828>"
      ]
     },
     "metadata": {},
     "output_type": "display_data"
    }
   ],
   "source": [
    "plot_evenly(calc_xx, calc_y1_beh, 'mtr')"
   ]
  },
  {
   "cell_type": "code",
   "execution_count": 32,
   "metadata": {
    "collapsed": false
   },
   "outputs": [
    {
     "data": {
      "image/png": "[encoded data removed]",
      "text/plain": [
       "<matplotlib.figure.Figure at 0x13ce84e0>"
      ]
     },
     "metadata": {},
     "output_type": "display_data"
    }
   ],
   "source": [
    "plot_evenly(calc_xx, calc_y1_beh, 'mtrcg')"
   ]
  },
  {
   "cell_type": "code",
   "execution_count": 33,
   "metadata": {
    "collapsed": false
   },
   "outputs": [
    {
     "data": {
      "image/png": "[encoded data removed]",
      "text/plain": [
       "<matplotlib.figure.Figure at 0xcf2afd0>"
      ]
     },
     "metadata": {},
     "output_type": "display_data"
    }
   ],
   "source": [
    "plot_evenly(calc_xx, calc_y1_beh, 'avgrate')"
   ]
  },
  {
   "cell_type": "markdown",
   "metadata": {},
   "source": [
    "### Plot difference in MTRs on wages"
   ]
  },
  {
   "cell_type": "code",
   "execution_count": 13,
   "metadata": {
    "collapsed": false
   },
   "outputs": [
    {
     "data": {
      "text/plain": [
       "<matplotlib.text.Text at 0x10beee48>"
      ]
     },
     "execution_count": 13,
     "metadata": {},
     "output_type": "execute_result"
    },
    {
     "data": {
      "image/png": "[encoded data removed]",
      "text/plain": [
       "<matplotlib.figure.Figure at 0x10799518>"
      ]
     },
     "metadata": {},
     "output_type": "display_data"
    }
   ],
   "source": [
    "mtr_diff = group_evenly(calc_y1_beh)[1] - group_evenly(calc_xx)[1]\n",
    "plt.plot(mtr_diff)\n",
    "plt.title('Change in average EMTR by income level')"
   ]
  },
  {
   "cell_type": "markdown",
   "metadata": {},
   "source": [
    "## Plot wage MTR charts for different demographics"
   ]
  },
  {
   "cell_type": "markdown",
   "metadata": {},
   "source": [
    "#### Married with 2 kids (m2k), single with 1 kid (s1k), single with no kids (s0k)"
   ]
  },
  {
   "cell_type": "code",
   "execution_count": 13,
   "metadata": {
    "collapsed": false
   },
   "outputs": [],
   "source": [
    "def group_evenly_family(calc, family_type):\n",
    "    assert family_type in ['m2k', 's1k', 's0k']\n",
    "    mars = calc.records.MARS\n",
    "    kids = calc.records.n24\n",
    "    m2k_ind = [x for x in range(219814) if ((mars[x]==2) and (kids[x]==2))]\n",
    "    s1k_ind = [x for x in range(219814) if ((mars[x]==4) and (kids[x]==1))][:8400]\n",
    "    s0k_ind = [x for x in range(219814) if ((mars[x]==1) and (kids[x]==0))][:81472]\n",
    "    \n",
    "    if family_type == 'm2k':\n",
    "        bins = 95\n",
    "        size = 183\n",
    "        use_ind = m2k_ind\n",
    "    elif family_type == 's1k':\n",
    "        bins = 48\n",
    "        size = 175\n",
    "        use_ind = s1k_ind\n",
    "    else:\n",
    "        bins = 67\n",
    "        size = 271\n",
    "        use_ind = s0k_ind\n",
    "    \n",
    "    mtr = getMTR(calc)[use_ind]\n",
    "    agi = getAGI(calc)[use_ind]\n",
    "    wgt = np.asarray(copy.deepcopy(calc.records.s006))[use_ind]\n",
    "    \n",
    "    all_together = zip(agi, mtr, wgt)\n",
    "    all_together.sort()\n",
    "    all_apart = zip(*all_together)\n",
    "    agi_sorted = np.asarray(all_apart[0])\n",
    "    mtr_sorted = np.asarray(all_apart[1])\n",
    "    wgt_sorted = np.asarray(all_apart[2])\n",
    "    \n",
    "    agiList = [0] * bins\n",
    "    mtrList = [0] * bins\n",
    "    wgtList = [0] * bins\n",
    "    \n",
    "    for i in range(bins):\n",
    "        agiList[i] = (agi_sorted[(i*size):((i+1)*size)] * wgt_sorted[(i*size):((i+1)*size)]).sum()\n",
    "        mtrList[i] = (mtr_sorted[(i*size):((i+1)*size)] * wgt_sorted[(i*size):((i+1)*size)]).sum()\n",
    "        wgtList[i] =  wgt_sorted[(i*size):((i+1)*size)].sum()\n",
    "    \n",
    "    \n",
    "    agiFinal = np.asarray(agiList) / np.asarray(wgtList)\n",
    "    mtrFinal = np.asarray(mtrList) / np.asarray(wgtList)\n",
    "    return agiFinal, mtrFinal\n",
    "        \n",
    "def plot_evenly_mtr_family(calc_baseline, calc_reform, family_type):\n",
    "    baseline = group_evenly_family(calc_baseline, family_type)[1]\n",
    "    reform = group_evenly_family(calc_reform, family_type)[1]\n",
    "    plt.plot(baseline)\n",
    "    plt.plot(reform)\n",
    "    plt.legend(['Baseline', 'Reform'], loc='lower right')"
   ]
  },
  {
   "cell_type": "code",
   "execution_count": 14,
   "metadata": {
    "collapsed": false
   },
   "outputs": [
    {
     "data": {
      "text/plain": [
       "<matplotlib.text.Text at 0x16bd7e80>"
      ]
     },
     "execution_count": 14,
     "metadata": {},
     "output_type": "execute_result"
    },
    {
     "data": {
      "image/png": "[encoded data removed]",
      "text/plain": [
       "<matplotlib.figure.Figure at 0xebea550>"
      ]
     },
     "metadata": {},
     "output_type": "display_data"
    }
   ],
   "source": [
    "plot_evenly_mtr_family(calc_xx, calc_y1_beh, 'm2k')\n",
    "plt.title('Average MTR by income percentile, married with two children')"
   ]
  },
  {
   "cell_type": "code",
   "execution_count": 15,
   "metadata": {
    "collapsed": false
   },
   "outputs": [
    {
     "data": {
      "text/plain": [
       "<matplotlib.text.Text at 0x1349b2b0>"
      ]
     },
     "execution_count": 15,
     "metadata": {},
     "output_type": "execute_result"
    },
    {
     "data": {
      "image/png": "[encoded data removed]",
      "text/plain": [
       "<matplotlib.figure.Figure at 0x15608240>"
      ]
     },
     "metadata": {},
     "output_type": "display_data"
    }
   ],
   "source": [
    "mtr_diff_m2k = group_evenly_family(calc_y1_beh, 'm2k')[1] - group_evenly_family(calc_xx, 'm2k')[1]\n",
    "plt.plot(mtr_diff_m2k)\n",
    "plt.title('Change in average EMTR by income percentile, married with two children')"
   ]
  },
  {
   "cell_type": "code",
   "execution_count": 16,
   "metadata": {
    "collapsed": false
   },
   "outputs": [
    {
     "data": {
      "text/plain": [
       "<matplotlib.text.Text at 0x16092208>"
      ]
     },
     "execution_count": 16,
     "metadata": {},
     "output_type": "execute_result"
    },
    {
     "data": {
      "image/png": "[encoded data removed]",
      "text/plain": [
       "<matplotlib.figure.Figure at 0xa0ccfd0>"
      ]
     },
     "metadata": {},
     "output_type": "display_data"
    }
   ],
   "source": [
    "plot_evenly_mtr_family(calc_xx, calc_y1_beh, 's1k')\n",
    "plt.title('Average MTR by income percentile, single with one child')"
   ]
  },
  {
   "cell_type": "code",
   "execution_count": 18,
   "metadata": {
    "collapsed": false
   },
   "outputs": [
    {
     "data": {
      "text/plain": [
       "<matplotlib.text.Text at 0x13b6ddd8>"
      ]
     },
     "execution_count": 18,
     "metadata": {},
     "output_type": "execute_result"
    },
    {
     "data": {
      "image/png": "[encoded data removed]",
      "text/plain": [
       "<matplotlib.figure.Figure at 0x1348ceb8>"
      ]
     },
     "metadata": {},
     "output_type": "display_data"
    }
   ],
   "source": [
    "mtr_diff_s1k = group_evenly_family(calc_y1_beh, 's1k')[1] - group_evenly_family(calc_xx, 's1k')[1]\n",
    "plt.plot(mtr_diff_s1k)\n",
    "plt.title('Change in average EMTR by income percentile, single with one child')"
   ]
  },
  {
   "cell_type": "code",
   "execution_count": 24,
   "metadata": {
    "collapsed": false
   },
   "outputs": [
    {
     "data": {
      "image/png": "[encoded data removed]",
      "text/plain": [
       "<matplotlib.figure.Figure at 0x10da18d0>"
      ]
     },
     "metadata": {},
     "output_type": "display_data"
    }
   ],
   "source": [
    "plot_evenly_mtr_family(calc_xx, calc_y1_beh, 's0k')\n",
    "plt.title('Average MTR by income percentile, single with no children')"
   ]
  },
  {
   "cell_type": "code",
   "execution_count": 19,
   "metadata": {
    "collapsed": false
   },
   "outputs": [
    {
     "data": {
      "text/plain": [
       "<matplotlib.text.Text at 0x12a6d208>"
      ]
     },
     "execution_count": 19,
     "metadata": {},
     "output_type": "execute_result"
    },
    {
     "data": {
      "image/png": "[encoded data removed]",
      "text/plain": [
       "<matplotlib.figure.Figure at 0xce64208>"
      ]
     },
     "metadata": {},
     "output_type": "display_data"
    }
   ],
   "source": [
    "mtr_diff_s0k = group_evenly_family(calc_y1_beh, 's0k')[1] - group_evenly_family(calc_xx, 's0k')[1]\n",
    "plt.plot(mtr_diff_s0k)\n",
    "plt.title('Change in average EMTR by income percentile, single with no children')"
   ]
  }
 ],
 "metadata": {
  "kernelspec": {
   "display_name": "Python 2",
   "language": "python",
   "name": "python2"
  },
  "language_info": {
   "codemirror_mode": {
    "name": "ipython",
    "version": 2
   },
   "file_extension": ".py",
   "mimetype": "text/x-python",
   "name": "python",
   "nbconvert_exporter": "python",
   "pygments_lexer": "ipython2",
   "version": "2.7.12"
  }
 },
 "nbformat": 4,
 "nbformat_minor": 0
}
