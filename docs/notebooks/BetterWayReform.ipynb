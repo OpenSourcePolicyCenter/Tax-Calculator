{
 "cells": [
  {
   "cell_type": "code",
   "execution_count": 1,
   "metadata": {
    "collapsed": true
   },
   "outputs": [],
   "source": [
    "import sys\n",
    "sys.path.append(\"../../\")\n",
    "from taxcalc import *"
   ]
  },
  {
   "cell_type": "code",
   "execution_count": 2,
   "metadata": {
    "collapsed": true
   },
   "outputs": [],
   "source": [
    "# The baseline policy\n",
    "\n",
    "p_xx = Policy()\n",
    "reform_xx = {\n",
    "    2017: {}\n",
    "}\n",
    "p_xx.implement_reform(reform_xx)\n"
   ]
  },
  {
   "cell_type": "code",
   "execution_count": null,
   "metadata": {
    "collapsed": true
   },
   "outputs": [],
   "source": [
    "# The Reform version 1\n",
    "\n",
    "# Set 10% and 15% brackets to 12%\n",
    "# Set 25% and 28% brackets to 25%\n",
    "# Set 33%, 35% and 39.6% brackets to 33%\n",
    "# Repeal Alternative minumum tax\n",
    "# Standard deduction INCOMPLETE: should be 12K for single/separate, 24K for married, 18K for single with child\n",
    "# Personal exemption '_II_credit' set to zero\n",
    "# Child tax credit set to $1500\n",
    "# Child tax credit phaseout for married couples increased to $150K\n",
    "\n",
    "\n",
    "# Didn't implement business pass-thru rate to 25%\n",
    "# Didn't implement cap gains, dividends and interest income changes--Uncertain how to implement\n",
    "# Didn't set non-refundable tax credit for non-child dependents\n",
    "# Didn't set itemized deductions to zero b/c reform eliminates all but charitable and mortgage deductions\n",
    "\n",
    "\n",
    "\n",
    "p_y1 = Policy()\n",
    "reform_y1 = {\n",
    "    2017: {\n",
    "        '_II_rt1': [0.12]\n",
    "        '_II_rt2': [0.12]\n",
    "        '_II_rt3': [0.25]\n",
    "        '_II_rt4': [0.25]\n",
    "        '_II_rt5': [0.33]\n",
    "        '_II_rt6': [0.33]\n",
    "        '_II_rt7': [0.33]\n",
    "        '_AMT_trt1': [0.0]\n",
    "        '_AMT_trt2': [0.0]\n",
    "        '_STD': [[12000, 24000, 12000, *Head of household*, *widow*, 12000, *dependent*]]\n",
    "        '_II_em': [0,0,0,0]\n",
    "        '_CTC_c': [1500]\n",
    "        '_CTC_ps': [[75000, 150000, 55000, 75000, 75000, 55000]]\n",
    "        '_ID_StateLocalTax_HC': [1.0]\n",
    "        \n",
    "    }\n",
    "}\n",
    "\n",
    "p_y1.implement_reform(reform_y1)"
   ]
  }
 ],
 "metadata": {
  "kernelspec": {
   "display_name": "Python 2",
   "language": "python",
   "name": "python2"
  },
  "language_info": {
   "codemirror_mode": {
    "name": "ipython",
    "version": 2
   },
   "file_extension": ".py",
   "mimetype": "text/x-python",
   "name": "python",
   "nbconvert_exporter": "python",
   "pygments_lexer": "ipython2",
   "version": "2.7.12"
  }
 },
 "nbformat": 4,
 "nbformat_minor": 0
}
