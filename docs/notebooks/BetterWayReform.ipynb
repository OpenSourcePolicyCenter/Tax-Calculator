{
 "cells": [
  {
   "cell_type": "markdown",
   "metadata": {},
   "source": [
    "## Better Way Reform Plan"
   ]
  },
  {
   "cell_type": "code",
   "execution_count": 66,
   "metadata": {
    "collapsed": true
   },
   "outputs": [],
   "source": [
    "import sys\n",
    "sys.path.append(\"../../\")\n",
    "from taxcalc import *\n",
    "import pandas as pd\n",
    "import numpy as np\n",
    "import copy\n",
    "import matplotlib\n",
    "import matplotlib.pyplot as plt \n",
    "from matplotlib.transforms import BlendedGenericTransform\n",
    "%matplotlib inline"
   ]
  },
  {
   "cell_type": "markdown",
   "metadata": {},
   "source": [
    "### Baseline"
   ]
  },
  {
   "cell_type": "code",
   "execution_count": 67,
   "metadata": {
    "collapsed": false
   },
   "outputs": [],
   "source": [
    "policy_xx = Policy()\n",
    "behavior_xx = Behavior()\n",
    "records_xx = Records(\"../../puf.csv\")"
   ]
  },
  {
   "cell_type": "markdown",
   "metadata": {},
   "source": [
    "### The full reform plan"
   ]
  },
  {
   "cell_type": "code",
   "execution_count": 68,
   "metadata": {
    "collapsed": true
   },
   "outputs": [],
   "source": [
    "# Set 10% and 15% brackets to 12%\n",
    "# Set 25% and 28% brackets to 25%\n",
    "# Set 33%, 35% and 39.6% brackets to 33%\n",
    "# Repeal Alternative minumum tax\n",
    "# Standard deduction 12K for single/separate, 24K for married, 18K for single with child(Head of HH)\n",
    "#    Should we eliminate the additional standard deduction for the aged and blind?\n",
    "# Personal exemption '_II_credit' set to zero\n",
    "# Child tax credit and non-child dependent credit implemented oddly\n",
    "#    Dependent standard deduction set to $500, and child tax credit set to $1000\n",
    "#    Should mimic non-refundable $500 deduction for non-child dependent and $1500 child tax credit\n",
    "# Child tax credit phaseout for married couples increased to $150K\n",
    "# Eliminated all itemized deductions except mortgage and charity\n",
    "# Excluded half of interest income from final taxable interest income\n",
    "# Cap gains & dividend income changed\n",
    "#    Second cap gains threshold moved to same as fourth income tax bracket\n",
    "#    Rates adjusted to 6%, 12.5% and 16.5%\n",
    "\n",
    "# Didn't implement business pass-thru rate to 25%\n",
    "# Didn't implement change from depreciation to expensing\n",
    "# Didn't deal with eliminating net interest expense deductions for businesses\n",
    "# Didn't eliminate Section 199\n",
    "# Didn't implement changes to net operating losses\n",
    "# Didn't implement tax reforms in Better Way health reforms plan\n",
    "\n",
    "\n",
    "\n",
    "\n",
    "policy_y1 = Policy()\n",
    "behavior_y1 = Behavior()\n",
    "records_y1 = Records(\"../../puf.csv\")\n",
    "reform_y1 = {\n",
    "    2017: {\n",
    "        '_II_rt1': [0.12],\n",
    "        '_II_rt2': [0.12],\n",
    "        '_II_rt3': [0.25],\n",
    "        '_II_rt4': [0.25],\n",
    "        '_II_rt5': [0.33],\n",
    "        '_II_rt6': [0.33],\n",
    "        '_II_rt7': [0.33],\n",
    "        '_AMT_trt1': [0.0],\n",
    "        '_AMT_trt2': [0.0],\n",
    "        '_STD': [[12000, 24000, 12000, 18000, 24000, 12000, 500]],\n",
    "        '_II_em': [0,0,0,0],\n",
    "        '_CTC_c': [1500],\n",
    "        '_CTC_ps': [[75000, 150000, 55000, 75000, 75000, 55000]],\n",
    "        '_ID_StateLocalTax_HC': [1.0],\n",
    "        '_ID_Medical_HC': [1.0],\n",
    "        '_ID_Casualty_HC': [1.0],\n",
    "        '_ID_Miscellaneous_HC': [1.0],\n",
    "        '_ID_RealEstate_HC': [1.0],\n",
    "        '_ID_BenefitSurtax_crt': [0.0],\n",
    "        '_ALD_Interest_ec': [0.5],        \n",
    "        '_CG_thd2': [[183250, 223050, 111525, 203150, 223050, 111525],\n",
    "                     [186350, 226850, 113425, 206600, 226850, 113425],\n",
    "                     [189300, 230450, 115225, 209850, 230450, 115225],\n",
    "                     [190150, 231450, 115725, 210800, 231450, 115725]],\n",
    "        '_CG_rt1': [0.06],\n",
    "        '_CG_rt2': [0.125],\n",
    "        '_CG_rt3': [0.165]\n",
    "    }\n",
    "}\n",
    "\n",
    "policy_y1.implement_reform(reform_y1)\n",
    "\n",
    "behavior_traits = {2017: {'_BE_inc': [0.0], '_BE_sub': [0.3], '_BE_cg': [0.2]}}"
   ]
  },
  {
   "cell_type": "markdown",
   "metadata": {},
   "source": [
    "# Static calculators"
   ]
  },
  {
   "cell_type": "code",
   "execution_count": 69,
   "metadata": {
    "collapsed": false
   },
   "outputs": [
    {
     "name": "stdout",
     "output_type": "stream",
     "text": [
      "You loaded data for 2009.\n",
      "Your data have been extrapolated to 2013.\n",
      "You loaded data for 2009.\n",
      "Your data have been extrapolated to 2013.\n"
     ]
    }
   ],
   "source": [
    "calc_xx = Calculator(policy_xx, records_xx, behavior_xx)\n",
    "for i in range(4):\n",
    "    calc_xx.increment_year()\n",
    "assert calc_xx.current_year == 2017\n",
    "calc_y1 = Calculator(policy_y1, records_y1, behavior_y1)\n",
    "for i in range(4):\n",
    "    calc_y1.increment_year()\n",
    "assert calc_y1.current_year == 2017"
   ]
  },
  {
   "cell_type": "code",
   "execution_count": 70,
   "metadata": {
    "collapsed": false
   },
   "outputs": [
    {
     "name": "stdout",
     "output_type": "stream",
     "text": [
      "2017\n",
      "2017\n"
     ]
    }
   ],
   "source": [
    "print calc_xx.current_year\n",
    "print calc_y1.current_year"
   ]
  },
  {
   "cell_type": "code",
   "execution_count": 71,
   "metadata": {
    "collapsed": true
   },
   "outputs": [],
   "source": [
    "calc_xx.calc_all()\n",
    "calc_y1.calc_all()"
   ]
  },
  {
   "cell_type": "markdown",
   "metadata": {},
   "source": [
    "### Static revenue effect for 2017"
   ]
  },
  {
   "cell_type": "code",
   "execution_count": 72,
   "metadata": {
    "collapsed": false
   },
   "outputs": [
    {
     "name": "stdout",
     "output_type": "stream",
     "text": [
      "Static net revenue change: -13.7289520135 billion dollars\n"
     ]
    }
   ],
   "source": [
    "calc_xx_combined = (calc_xx.records._combined * calc_xx.records.s006)\n",
    "calc_y1_combined = (calc_y1.records._combined * calc_y1.records.s006)\n",
    "\n",
    "diff_static_y1_xx = (calc_y1_combined - calc_xx_combined).sum() / 10**9\n",
    "print \"Static net revenue change: \" + str(diff_static_y1_xx) + \" billion dollars\""
   ]
  },
  {
   "cell_type": "markdown",
   "metadata": {},
   "source": [
    "### Static calculator that iterates across years"
   ]
  },
  {
   "cell_type": "code",
   "execution_count": 73,
   "metadata": {
    "collapsed": false
   },
   "outputs": [
    {
     "name": "stdout",
     "output_type": "stream",
     "text": [
      "[-13.728952013456832, -8.569987985029393, -2.5340882124893986, 2.974084653262444, 8.292431999126675, 13.783269073708036, 18.76886008619012, 23.85725890712154, 28.955670941750324, 33.81785977479985]\n"
     ]
    }
   ],
   "source": [
    "static_path = [0] * 10\n",
    "\n",
    "def static_path_change(calcx, calcy):\n",
    "    calc1 = copy.deepcopy(calcx)\n",
    "    calc2 = copy.deepcopy(calcy)\n",
    "    for i in range(10):\n",
    "        calc1.calc_all()\n",
    "        calc2.calc_all()\n",
    "        calc1_combined = (calc1.records._combined * calc1.records.s006)\n",
    "        calc2_combined = (calc2.records._combined * calc2.records.s006)\n",
    "        static_path[i] = (calc2_combined - calc1_combined).sum() / 10**9\n",
    "        if calc1.current_year < 2026:\n",
    "            calc1.increment_year()\n",
    "            calc2.increment_year()\n",
    "        \n",
    "static_path_change(calc_xx, calc_y1)\n",
    "print static_path"
   ]
  },
  {
   "cell_type": "markdown",
   "metadata": {},
   "source": [
    "## Behavioral calculators"
   ]
  },
  {
   "cell_type": "code",
   "execution_count": 74,
   "metadata": {
    "collapsed": false
   },
   "outputs": [
    {
     "name": "stdout",
     "output_type": "stream",
     "text": [
      "Done\n"
     ]
    }
   ],
   "source": [
    "# Behavioral factors\n",
    "calc_xx.behavior.update_behavior(behavior_traits)\n",
    "calc_y1.behavior.update_behavior(behavior_traits)\n",
    "\n",
    "calc_y1_beh = Behavior.response(calc_xx, calc_y1)\n",
    "print \"Done\"\n",
    "\n"
   ]
  },
  {
   "cell_type": "code",
   "execution_count": 75,
   "metadata": {
    "collapsed": false
   },
   "outputs": [
    {
     "name": "stdout",
     "output_type": "stream",
     "text": [
      "2017\n"
     ]
    }
   ],
   "source": [
    "print calc_y1_beh.current_year"
   ]
  },
  {
   "cell_type": "markdown",
   "metadata": {},
   "source": [
    "### Revenue effect with behavioral changes for 2017"
   ]
  },
  {
   "cell_type": "code",
   "execution_count": 76,
   "metadata": {
    "collapsed": false
   },
   "outputs": [
    {
     "name": "stdout",
     "output_type": "stream",
     "text": [
      "With behavioral effects, net revenue change: 14.0694976701 billion dollars\n"
     ]
    }
   ],
   "source": [
    "calc_y1_beh_combined = (calc_y1_beh.records._combined * calc_y1_beh.records.s006)\n",
    "diff_Beh_y1_xx = (calc_y1_beh_combined - calc_xx_combined).sum() / 10**9\n",
    "print \"With behavioral effects, net revenue change: \" + str(diff_Beh_y1_xx) + \" billion dollars\""
   ]
  },
  {
   "cell_type": "markdown",
   "metadata": {},
   "source": [
    "### Behavioral calculator that iterates across years"
   ]
  },
  {
   "cell_type": "code",
   "execution_count": 77,
   "metadata": {
    "collapsed": false
   },
   "outputs": [
    {
     "name": "stdout",
     "output_type": "stream",
     "text": [
      "2018\n",
      "2019\n",
      "2020\n",
      "2021\n",
      "2022\n",
      "2023\n",
      "2024\n",
      "2025\n",
      "2026\n",
      "2026\n",
      "[14.069497670058613, 20.640075239203394, 28.015296104340948, 34.94781679833974, 41.853278469559484, 49.00118480058392, 55.77669742263592, 62.67506387500384, 69.66709423480557, 76.51808576114975]\n"
     ]
    }
   ],
   "source": [
    "behavioral_path = [0] * 10\n",
    "\n",
    "def behavioral_path_change(calcx, calcy):\n",
    "    calc1 = copy.deepcopy(calcx)\n",
    "    calc2 = copy.deepcopy(calcy)\n",
    "    for i in range(10):\n",
    "        calc1_combined = (calc1.records._combined * calc1.records.s006)\n",
    "        calc2_combined = (calc2.records._combined * calc2.records.s006)\n",
    "        behavioral_path[i] = (calc2_combined - calc1_combined).sum() / 10**9\n",
    "        if calc1.current_year < 2026:\n",
    "            calc1.increment_year()\n",
    "            calc2.increment_year()\n",
    "            calc1.calc_all()\n",
    "            calc2.behavior.response(calc1, calc2)\n",
    "        print calc2.current_year\n",
    "            \n",
    "        \n",
    "behavioral_path_change(calc_xx, calc_y1_beh)\n",
    "print behavioral_path"
   ]
  },
  {
   "cell_type": "markdown",
   "metadata": {},
   "source": [
    "## Diagnostics and analysis of reform plan"
   ]
  },
  {
   "cell_type": "markdown",
   "metadata": {},
   "source": [
    "### Static diagnostics"
   ]
  },
  {
   "cell_type": "code",
   "execution_count": 78,
   "metadata": {
    "collapsed": false
   },
   "outputs": [
    {
     "name": "stdout",
     "output_type": "stream",
     "text": [
      "8.308 million taxpayers using itemized deductions\n",
      "150.587 million taxpayers using the standard deduction\n",
      "\n",
      "The average MTR on wage/salary income goes from 0.246084566564 to 0.237283862384\n",
      "The average MTR on long-term capital gains goes from 0.0554948996054 to 0.0730192837287\n"
     ]
    }
   ],
   "source": [
    "numIded = calc_y1.records.s006[(calc_y1.records.c04470 > 0.) * (calc_y1.records.c00100 > 0.)].sum()\n",
    "numStd = calc_y1.records.s006[(calc_y1.records._standard > 0.) * (calc_y1.records.c00100 > 0.)].sum()\n",
    "print str(round(numIded / 1000) / 1000.0) + \" million taxpayers using itemized deductions\"\n",
    "print str(round(numStd / 1000) / 1000.0) + \" million taxpayers using the standard deduction\"\n",
    "\n",
    "#numIdedxx = calc_xx.records.s006[(calc_xx.records.c04470 > 0.) * (calc_xx.records.c00100 > 0.)].sum()\n",
    "#numStdxx = calc_xx.records.s006[(calc_xx.records._standard > 0.) * (calc_xx.records.c00100 > 0.)].sum()\n",
    "#print numIdedxx\n",
    "#print numStdxx\n",
    "\n",
    "avgmtr_xx_wage = (calc_xx.mtr('e00200p')[2] * calc_xx.records.s006).sum() / calc_xx.records.s006.sum()\n",
    "avgmtr_y1_wage = (calc_y1.mtr('e00200p')[2] * calc_y1.records.s006).sum() / calc_y1.records.s006.sum()\n",
    "avgmtr_xx_cg = (calc_xx.mtr('p23250')[2] * calc_xx.records.s006).sum() / calc_xx.records.s006.sum()\n",
    "avgmtr_y1_cg = (calc_y1.mtr('p23250')[2] * calc_y1.records.s006).sum() / calc_y1.records.s006.sum()\n",
    "print \"\\n\" + \"The average MTR on wage/salary income goes from \" + str(avgmtr_xx_wage) + \" to \" + str(avgmtr_y1_wage)\n",
    "print \"The average MTR on long-term capital gains goes from \" + str(avgmtr_xx_cg) + \" to \" + str(avgmtr_y1_cg)\n"
   ]
  },
  {
   "cell_type": "markdown",
   "metadata": {},
   "source": [
    "### Behavioral diagnostics"
   ]
  },
  {
   "cell_type": "code",
   "execution_count": 79,
   "metadata": {
    "collapsed": false
   },
   "outputs": [
    {
     "name": "stdout",
     "output_type": "stream",
     "text": [
      "8.237 million taxpayers using itemized deductions\n",
      "150.659 million taxpayers using the standard deduction\n",
      "Change in number of itemizers: -37.222 million\n"
     ]
    }
   ],
   "source": [
    "numIded_beh = calc_y1_beh.records.s006[(calc_y1_beh.records.c04470 > 0.) * (calc_y1_beh.records.c00100 > 0.)].sum()\n",
    "numStd_beh = calc_y1_beh.records.s006[(calc_y1_beh.records._standard > 0.) * (calc_y1_beh.records.c00100 > 0.)].sum()\n",
    "print str(round(numIded_beh / 1000) / 1000.0) + \" million taxpayers using itemized deductions\"\n",
    "print str(round(numStd_beh / 1000) / 1000.0) + \" million taxpayers using the standard deduction\"\n",
    "\n",
    "numIdedxx = calc_xx.records.s006[(calc_xx.records.c04470 > 0.) * (calc_xx.records.c00100 > 0.)].sum()\n",
    "numStdxx = calc_xx.records.s006[(calc_xx.records._standard > 0.) * (calc_xx.records.c00100 > 0.)].sum()\n",
    "print \"Change in number of itemizers: \" + str(round((numIded_beh - numIdedxx) / 1000) / 1000.0) + \" million\"\n"
   ]
  },
  {
   "cell_type": "code",
   "execution_count": 80,
   "metadata": {
    "collapsed": false
   },
   "outputs": [
    {
     "name": "stdout",
     "output_type": "stream",
     "text": [
      "The average MTR on wage/salary income goes from 0.2461 to 0.2373\n",
      "The average MTR on long-term capital gains goes from 0.0555 to 0.073\n",
      "The weighted average MTR on wage income goes from 0.3597 to 0.3418\n",
      "The weighted average MTR on long-term capital gains goes from 0.1271 to 0.1281\n"
     ]
    }
   ],
   "source": [
    "avgmtr_xx_wage = (calc_xx.mtr('e00200p')[2] * calc_xx.records.s006).sum() / calc_xx.records.s006.sum()\n",
    "avgmtr_y1_beh_wage = (calc_y1_beh.mtr('e00200p')[2] * calc_y1_beh.records.s006).sum() / calc_y1_beh.records.s006.sum()\n",
    "avgmtr_xx_cg = (calc_xx.mtr('p23250')[2] * calc_xx.records.s006).sum() / calc_xx.records.s006.sum()\n",
    "avgmtr_y1_beh_cg = (calc_y1_beh.mtr('p23250')[2] * calc_y1_beh.records.s006).sum() / calc_y1_beh.records.s006.sum()\n",
    "print (\"The average MTR on wage/salary income goes from \" + str(round(avgmtr_xx_wage * 10000) / 10000.0) +\n",
    "       \" to \" + str(round(avgmtr_y1_wage * 10000) / 10000.0))\n",
    "print (\"The average MTR on long-term capital gains goes from \" + str(round(avgmtr_xx_cg * 10000) / 10000.0) +\n",
    "       \" to \" + str(round(avgmtr_y1_cg * 10000) / 10000.0))\n",
    "\n",
    "wavgmtr_xx_wage = ((calc_xx.mtr('e00200p')[2] * calc_xx.records.c00100 * calc_xx.records.s006).sum() / \n",
    "                   (calc_xx.records.c00100 * calc_xx.records.s006).sum())\n",
    "wavgmtr_y1_beh_wage = ((calc_y1_beh.mtr('e00200p')[2] * calc_y1_beh.records.c00100 * calc_y1_beh.records.s006).sum() / \n",
    "                       (calc_y1_beh.records.c00100 * calc_y1_beh.records.s006).sum())\n",
    "print (\"The weighted average MTR on wage income goes from \" + str(round(wavgmtr_xx_wage * 10000) / 10000.0) + \" to \"\n",
    "       + str(round(wavgmtr_y1_beh_wage * 10000) / 10000.0))\n",
    "\n",
    "wavgmtr_xx_cg = ((calc_xx.mtr('p23250')[2] * calc_xx.records.c00100 * calc_xx.records.s006).sum() / \n",
    "                 (calc_xx.records.c00100 * calc_xx.records.s006).sum())\n",
    "wavgmtr_y1_beh_cg = ((calc_y1_beh.mtr('p23250')[2] * calc_y1_beh.records.c00100 * calc_y1_beh.records.s006).sum() / \n",
    "                     (calc_y1_beh.records.c00100 * calc_y1_beh.records.s006).sum())\n",
    "print (\"The weighted average MTR on long-term capital gains goes from \" + str(round(wavgmtr_xx_cg * 10000) / 10000.0) + \" to \"\n",
    "       + str(round(wavgmtr_y1_beh_cg * 10000) / 10000.0))"
   ]
  },
  {
   "cell_type": "code",
   "execution_count": 81,
   "metadata": {
    "collapsed": false
   },
   "outputs": [
    {
     "name": "stdout",
     "output_type": "stream",
     "text": [
      "Number of people with lower marginal tax rates on wages: 69.675 million\n",
      "Number of people receiving a tax cut: 78.873 million\n",
      "Change in number of people with no income tax liability: 1.286 million\n"
     ]
    }
   ],
   "source": [
    "num_lwrmtr = calc_y1_beh.records.s006[(calc_y1_beh.mtr('e00200p')[2] < calc_xx.mtr('e00200p'))[2]].sum()\n",
    "print \"Number of people with lower marginal tax rates on wages: \" + str(round(num_lwrmtr / 1000) / 1000.0) + \" million\"\n",
    "\n",
    "num_taxcut = calc_y1_beh.records.s006[calc_xx.records._combined > calc_y1_beh.records._combined + 0.0001].sum()\n",
    "print \"Number of people receiving a tax cut: \" + str(round(num_taxcut / 1000) / 1000.0) + \" million\"\n",
    "\n",
    "num_noinctax_y1_beh = calc_y1_beh.records.s006[calc_y1_beh.records._iitax < 0.0001].sum()\n",
    "num_noinctax_xx = calc_xx.records.s006[calc_xx.records._iitax < 0.0001].sum()\n",
    "print (\"Change in number of people with no income tax liability: \"\n",
    "        + str(round((num_noinctax_y1_beh - num_noinctax_xx) / 1000) / 1000.0) + \" million\")"
   ]
  },
  {
   "cell_type": "markdown",
   "metadata": {},
   "source": [
    "# Individual Reforms"
   ]
  },
  {
   "cell_type": "code",
   "execution_count": 82,
   "metadata": {
    "collapsed": false
   },
   "outputs": [],
   "source": [
    "# Must do reform plus AMT repeal and compare aginst just AMT repeal\n",
    "\n",
    "# AMT repeal\n",
    "policy_amt = Policy()\n",
    "behavior_amt = Behavior()\n",
    "records_amt = Records(\"../../puf.csv\")\n",
    "reform_amt = {\n",
    "    2017: {\n",
    "        '_AMT_trt1': [0.0],\n",
    "        '_AMT_trt2': [0.0]\n",
    "    }\n",
    "}\n",
    "policy_amt.implement_reform(reform_amt)\n",
    "\n",
    "# Change in income tax rates\n",
    "policy_IncTax = Policy()\n",
    "behavior_IncTax = Behavior()\n",
    "records_IncTax = Records(\"../../puf.csv\")\n",
    "reform_IncTax = {\n",
    "    2017: {\n",
    "        '_AMT_trt1': [0.0],\n",
    "        '_AMT_trt2': [0.0],\n",
    "        '_II_rt1': [0.12],\n",
    "        '_II_rt2': [0.12],\n",
    "        '_II_rt3': [0.25],\n",
    "        '_II_rt4': [0.25],\n",
    "        '_II_rt5': [0.33],\n",
    "        '_II_rt6': [0.33],\n",
    "        '_II_rt7': [0.33]\n",
    "    }\n",
    "}\n",
    "policy_IncTax.implement_reform(reform_IncTax)\n",
    "\n",
    "# Deduction reforms and child tax credit\n",
    "policy_ded = Policy()\n",
    "behavior_ded = Behavior()\n",
    "records_ded = Records(\"../../puf.csv\")\n",
    "reform_ded = {\n",
    "    2017: {\n",
    "        '_AMT_trt1': [0.0],\n",
    "        '_AMT_trt2': [0.0],\n",
    "        '_STD': [[12000, 24000, 12000, 18000, 24000, 12000, 500]],\n",
    "        '_II_em': [0,0,0,0],\n",
    "        '_CTC_c': [1500],\n",
    "        '_CTC_ps': [[75000, 150000, 55000, 75000, 75000, 55000]],\n",
    "        '_ID_StateLocalTax_HC': [1.0],\n",
    "        '_ID_Medical_HC': [1.0],\n",
    "        '_ID_Casualty_HC': [1.0],\n",
    "        '_ID_Miscellaneous_HC': [1.0],\n",
    "        '_ID_RealEstate_HC': [1.0],\n",
    "        '_ID_BenefitSurtax_crt': [0.0]\n",
    "    }\n",
    "}\n",
    "policy_ded.implement_reform(reform_ded)\n",
    "\n",
    "# Investment income (interest, cap gains and dividends) reforms\n",
    "policy_InvTax = Policy()\n",
    "behavior_InvTax = Behavior()\n",
    "records_InvTax = Records(\"../../puf.csv\")\n",
    "reform_InvTax = {\n",
    "    2017: {\n",
    "        '_AMT_trt1': [0.0],\n",
    "        '_AMT_trt2': [0.0],\n",
    "        '_CG_thd2': [[183250, 223050, 111525, 203150, 223050, 111525],\n",
    "                     [186350, 226850, 113425, 206600, 226850, 113425],\n",
    "                     [189300, 230450, 115225, 209850, 230450, 115225],\n",
    "                     [190150, 231450, 115725, 210800, 231450, 115725]],\n",
    "        '_CG_rt1': [0.06],\n",
    "        '_CG_rt2': [0.125],\n",
    "        '_CG_rt3': [0.165],\n",
    "    }\n",
    "}\n",
    "policy_InvTax.implement_reform(reform_InvTax)\n",
    "\n",
    "# Cap gains test\n",
    "policy_cgtest = Policy()\n",
    "behavior_cgtest = Behavior()\n",
    "records_cgtest = Records(\"../../puf.csv\")\n",
    "reform_cgtest = {\n",
    "    2017: {\n",
    "        '_CG_rt1': [0.02],\n",
    "        '_CG_rt2': [0.17],\n",
    "        '_CG_rt3': [0.22],\n",
    "        '_AMT_trt1': [0.0],\n",
    "        '_AMT_trt2': [0.0]\n",
    "    }\n",
    "}\n",
    "policy_cgtest.implement_reform(reform_cgtest)\n"
   ]
  },
  {
   "cell_type": "markdown",
   "metadata": {},
   "source": [
    "## Static calculators"
   ]
  },
  {
   "cell_type": "code",
   "execution_count": 83,
   "metadata": {
    "collapsed": false
   },
   "outputs": [
    {
     "name": "stdout",
     "output_type": "stream",
     "text": [
      "You loaded data for 2009.\n",
      "Your data have been extrapolated to 2013.\n",
      "You loaded data for 2009.\n",
      "Your data have been extrapolated to 2013.\n",
      "You loaded data for 2009.\n",
      "Your data have been extrapolated to 2013.\n",
      "You loaded data for 2009.\n",
      "Your data have been extrapolated to 2013.\n",
      "You loaded data for 2009.\n",
      "Your data have been extrapolated to 2013.\n"
     ]
    }
   ],
   "source": [
    "calc_amt = Calculator(policy_amt, records_amt, behavior_amt)\n",
    "for i in range(4):\n",
    "   calc_amt.increment_year()\n",
    "assert calc_amt.current_year == 2017\n",
    "\n",
    "calc_IncTax = Calculator(policy_IncTax, records_IncTax, behavior_IncTax)\n",
    "for i in range(4):\n",
    "    calc_IncTax.increment_year()\n",
    "assert calc_IncTax.current_year == 2017\n",
    "\n",
    "calc_ded = Calculator(policy_ded, records_ded, behavior_ded)\n",
    "for i in range(4):\n",
    "    calc_ded.increment_year()\n",
    "assert calc_ded.current_year == 2017\n",
    "\n",
    "calc_InvTax = Calculator(policy_InvTax, records_InvTax, behavior_InvTax)\n",
    "for i in range(4):\n",
    "    calc_InvTax.increment_year()\n",
    "assert calc_InvTax.current_year == 2017\n",
    "\n",
    "calc_cgtest = Calculator(policy_cgtest, records_cgtest, behavior_cgtest)\n",
    "for i in range(4):\n",
    "    calc_cgtest.increment_year()\n",
    "assert calc_cgtest.current_year == 2017\n"
   ]
  },
  {
   "cell_type": "code",
   "execution_count": 84,
   "metadata": {
    "collapsed": false,
    "scrolled": true
   },
   "outputs": [
    {
     "name": "stdout",
     "output_type": "stream",
     "text": [
      "2017\n",
      "2017\n",
      "2017\n",
      "2017\n",
      "2017\n"
     ]
    }
   ],
   "source": [
    "print calc_amt.current_year\n",
    "print calc_IncTax.current_year\n",
    "print calc_ded.current_year\n",
    "print calc_InvTax.current_year\n",
    "print calc_cgtest.current_year"
   ]
  },
  {
   "cell_type": "code",
   "execution_count": 85,
   "metadata": {
    "collapsed": true
   },
   "outputs": [],
   "source": [
    "calc_amt.calc_all()\n",
    "calc_IncTax.calc_all()\n",
    "calc_ded.calc_all()\n",
    "calc_InvTax.calc_all()\n",
    "calc_cgtest.calc_all()"
   ]
  },
  {
   "cell_type": "code",
   "execution_count": 86,
   "metadata": {
    "collapsed": true
   },
   "outputs": [],
   "source": [
    "calc_amt_combined = (calc_amt.records._combined * calc_amt.records.s006)\n",
    "calc_IncTax_combined = (calc_IncTax.records._combined * calc_IncTax.records.s006)\n",
    "calc_ded_combined = (calc_ded.records._combined * calc_ded.records.s006)\n",
    "calc_InvTax_combined = (calc_InvTax.records._combined * calc_InvTax.records.s006)\n",
    "calc_cgtest_combined = (calc_cgtest.records._combined * calc_cgtest.records.s006)\n",
    "\n",
    "diff_static_amt_xx = (calc_amt_combined - calc_xx_combined).sum() / 10**9\n",
    "diff_static_IncTax_amt = (calc_IncTax_combined - calc_amt_combined).sum() / 10**9\n",
    "diff_static_ded_amt = (calc_ded_combined - calc_amt_combined).sum() / 10**9\n",
    "diff_static_InvTax_amt = (calc_InvTax_combined - calc_amt_combined).sum() / 10**9\n",
    "diff_static_cgtest_amt = (calc_cgtest_combined - calc_amt_combined).sum() / 10**9\n",
    "\n"
   ]
  },
  {
   "cell_type": "markdown",
   "metadata": {},
   "source": [
    "### Static revenue effects of individual reforms"
   ]
  },
  {
   "cell_type": "code",
   "execution_count": 87,
   "metadata": {
    "collapsed": false
   },
   "outputs": [
    {
     "name": "stdout",
     "output_type": "stream",
     "text": [
      "Static net revenue change with AMT repeal: -41.8800806925 billion dollars\n",
      "Static net revenue change with income tax reform: -119.005594196 billion dollars\n",
      "Static net revenue change with deduction reform: 189.246209253 billion dollars\n",
      "Static net revenue change with investment tax reform: -12.1234078992 billion dollars\n",
      "\n",
      "\n",
      "CG test calibration revenue change: 13.7156255922\n"
     ]
    }
   ],
   "source": [
    "print \"Static net revenue change with AMT repeal: \" + str(diff_static_amt_xx) + \" billion dollars\"\n",
    "print \"Static net revenue change with income tax reform: \" + str(diff_static_IncTax_amt) + \" billion dollars\"\n",
    "print \"Static net revenue change with deduction reform: \" + str(diff_static_ded_amt) + \" billion dollars\"\n",
    "print \"Static net revenue change with investment tax reform: \" + str(diff_static_InvTax_amt) + \" billion dollars\"\n",
    "print \"\\n\"\n",
    "print \"CG test calibration revenue change: \" + str(diff_static_cgtest_amt)\n"
   ]
  },
  {
   "cell_type": "markdown",
   "metadata": {},
   "source": [
    "## Behavioral calculators"
   ]
  },
  {
   "cell_type": "code",
   "execution_count": 88,
   "metadata": {
    "collapsed": false
   },
   "outputs": [
    {
     "name": "stdout",
     "output_type": "stream",
     "text": [
      "Check 1\n",
      "Check 2\n",
      "Check 3\n",
      "Check 4\n",
      "Done\n"
     ]
    }
   ],
   "source": [
    "## Individual policy behavioral effects\n",
    "calc_amt.behavior.update_behavior(behavior_traits)\n",
    "calc_IncTax.behavior.update_behavior(behavior_traits)\n",
    "calc_ded.behavior.update_behavior(behavior_traits)\n",
    "calc_InvTax.behavior.update_behavior(behavior_traits)\n",
    "calc_cgtest.behavior.update_behavior(behavior_traits)\n",
    "\n",
    "calc_amt_beh = Behavior.response(calc_xx, calc_amt)\n",
    "print \"Check 1\"\n",
    "calc_IncTax_beh = Behavior.response(calc_amt, calc_IncTax)\n",
    "print \"Check 2\"\n",
    "calc_ded_beh = Behavior.response(calc_amt, calc_ded)\n",
    "print \"Check 3\"\n",
    "calc_InvTax_beh = Behavior.response(calc_amt, calc_InvTax)\n",
    "print \"Check 4\"\n",
    "calc_cgtest_beh = Behavior.response(calc_amt, calc_cgtest)\n",
    "print \"Done\"\n"
   ]
  },
  {
   "cell_type": "markdown",
   "metadata": {},
   "source": [
    "### Revenue effects with behavioral changes for 2017"
   ]
  },
  {
   "cell_type": "code",
   "execution_count": 89,
   "metadata": {
    "collapsed": false
   },
   "outputs": [
    {
     "name": "stdout",
     "output_type": "stream",
     "text": [
      "With behavioral effects, net revenue change from AMT repeal: -41.7841600023 billion dollars\n",
      "With behavioral effects, net revenue change from income tax rate reform: -86.606033122 billion dollars\n",
      "With behavioral effects, net revenue change from deduction reform: 188.862321966 billion dollars\n",
      "With behavioral effects, net revenue change from investment tax reform: -8.42622565114 billion dollars\n",
      "CG test calibration behavioral revenue change: 12.5665011026\n"
     ]
    }
   ],
   "source": [
    "calc_amt_beh_combined = (calc_amt_beh.records._combined * calc_amt_beh.records.s006)\n",
    "calc_IncTax_beh_combined = (calc_IncTax_beh.records._combined * calc_IncTax_beh.records.s006)\n",
    "calc_ded_beh_combined = (calc_ded_beh.records._combined * calc_ded_beh.records.s006)\n",
    "calc_InvTax_beh_combined = (calc_InvTax_beh.records._combined * calc_InvTax_beh.records.s006)\n",
    "calc_cgtest_beh_combined = (calc_cgtest_beh.records._combined * calc_cgtest_beh.records.s006)\n",
    "\n",
    "diff_Beh_amt_xx = (calc_amt_beh_combined - calc_xx_combined).sum() / 10**9\n",
    "diff_Beh_IncTax_amt = (calc_IncTax_beh_combined - calc_amt_beh_combined).sum() / 10**9\n",
    "diff_Beh_ded_amt = (calc_ded_beh_combined - calc_amt_beh_combined).sum() / 10**9\n",
    "diff_Beh_InvTax_amt = (calc_InvTax_beh_combined - calc_amt_beh_combined).sum() / 10**9\n",
    "diff_Beh_cgtest_amt = (calc_cgtest_beh_combined - calc_amt_beh_combined).sum() / 10**9\n",
    "\n",
    "print \"With behavioral effects, net revenue change from AMT repeal: \" + str(diff_Beh_amt_xx) + \" billion dollars\"\n",
    "print \"With behavioral effects, net revenue change from income tax rate reform: \" + str(diff_Beh_IncTax_amt) + \" billion dollars\"\n",
    "print \"With behavioral effects, net revenue change from deduction reform: \" + str(diff_Beh_ded_amt) + \" billion dollars\"\n",
    "print \"With behavioral effects, net revenue change from investment tax reform: \" + str(diff_Beh_InvTax_amt) + \" billion dollars\"\n",
    "print \"CG test calibration behavioral revenue change: \" + str(diff_Beh_cgtest_amt)"
   ]
  },
  {
   "cell_type": "markdown",
   "metadata": {
    "collapsed": false
   },
   "source": [
    "# MTR charts"
   ]
  },
  {
   "cell_type": "markdown",
   "metadata": {
    "collapsed": true
   },
   "source": [
    "#### Chart code taken from Brill_2016_a.ipynb"
   ]
  },
  {
   "cell_type": "code",
   "execution_count": 90,
   "metadata": {
    "collapsed": true
   },
   "outputs": [],
   "source": [
    "RES_COLUMNS = STATS_COLUMNS + ['e00200'] + ['MARS'] + ['n24']\n",
    "# The results function selects the data frame we'll be using \n",
    "def results(c):\n",
    "    outputs = []\n",
    "    for col in RES_COLUMNS:\n",
    "        if hasattr(c.policy, col):\n",
    "            outputs.append(getattr(c.policy, col))\n",
    "        else:\n",
    "            outputs.append(getattr(c.records, col))\n",
    "    return DataFrame(data=np.column_stack(outputs), columns=RES_COLUMNS)\n",
    "\n",
    "# EPSILON is defined here to avoid division by zero \n",
    "EPSILON = 1e-3\n",
    "\n",
    "# Calculating the weighted average MTR w.r.t wage\n",
    "def wage_weighted(agg, col_name):\n",
    "    return (float((agg[col_name] * agg['s006'] * agg['e00200']).sum())/\n",
    "            ((agg['s006']*agg['e00200']).sum() + EPSILON))\n",
    "\n",
    "# Calculating the weighted average MTR\n",
    "def weighted(agg, col_name):\n",
    "    return (float((agg[col_name] * agg['s006']).sum())/\n",
    "            ((agg['s006']).sum() + EPSILON))\n",
    "\n",
    "# The `add_income_bins` function here defines the x-axis for our plot, where desired bins will be sorted \n",
    "def add_income_bins(df, num_bins, tab):\n",
    "    # First, sort by income_measure\n",
    "    df.sort(tab, inplace=True)\n",
    "    # Next, do a cumulative sum by the weights\n",
    "    df['cumsum_weights'] = np.cumsum(df['s006'].values)\n",
    "    # Max value of cum sum of weights\n",
    "    max_ = df['cumsum_weights'].values[-1]\n",
    "    # Create 100 bins and labels based on this cumulative weight\n",
    "    bin_edges = [0] + list(np.arange(1, (num_bins+1)) * (max_ / float(num_bins)))\n",
    "    labels = range(1, (num_bins+1))\n",
    "    #  Groupby weighted deciles\n",
    "    df['bins'] = pd.cut(df['cumsum_weights'], bins=bin_edges, labels=labels)\n",
    "    return df\n",
    "\n",
    "# The `create_mtr_graph` function allows us to obtain various plots, depending our interests. We could choose from different filing group,\n",
    "# different tab (MTR to plot against), different number of kids (upper bound and lower bound) of the filer and different kind of MTR. \n",
    "# Notice that the function always requires two calculators as input. And when they are the same, only one chart will be generated. \n",
    "# MARS group, weights and tab need to be specified as well when calling the function. \n",
    "# The default setting puts no restriction on the number of kids, and uses combined MTR. \n",
    "def create_mtr_graph(calcX, calcY, MARS, weights, tab, kids_less_or_equal=1000, kids_greater_or_equal = 0, combined_or_IIT = 'combined'):\n",
    "    a, mtr_iit_x, mtr_combined_x = calcX.mtr()\n",
    "    a, mtr_iit_y, mtr_combined_y = calcY.mtr()\n",
    "    df_x = results(calcX)\n",
    "    df_y = results(calcY)\n",
    "    df_x['mtr_iit'] = mtr_iit_x\n",
    "    df_y['mtr_iit'] = mtr_iit_y\n",
    "    df_x['mtr_combined'] = mtr_combined_x\n",
    "    df_y['mtr_combined'] = mtr_combined_y\n",
    "    \n",
    "    \n",
    "    df_y[tab] = df_x[tab]\n",
    "    \n",
    "    df_x = add_income_bins(df_x, 100, tab)\n",
    "    df_y = add_income_bins(df_y, 100, tab)\n",
    "    \n",
    "    df_filtered_x = df_x[ (df_x['MARS']==MARS) & (df_x['n24'] >= kids_greater_or_equal) & (df_x['n24'] <= kids_less_or_equal) ].copy()\n",
    "    df_filtered_y = df_y[ (df_y['MARS']==MARS) & (df_x['n24'] >= kids_greater_or_equal) & (df_x['n24'] <= kids_less_or_equal) ].copy()\n",
    "    \n",
    "    #Create a GroupBy object with 100 groups\n",
    "    gp_x = df_filtered_x.groupby('bins', as_index=False)\n",
    "    gp_y = df_filtered_y.groupby('bins', as_index=False)\n",
    "    \n",
    "    #Create a series of size 100\n",
    "    if combined_or_IIT == 'combined':\n",
    "        wmtr_x = gp_x.apply(weights, 'mtr_combined')\n",
    "        wmtr_y = gp_y.apply(weights, 'mtr_combined')\n",
    "    elif combined_or_IIT == 'IIT':\n",
    "        wmtr_x = gp_x.apply(weights, 'mtr_iit')\n",
    "        wmtr_y = gp_y.apply(weights, 'mtr_iit')\n",
    "\n",
    "    #Create a DataFrame out of this with a default index\n",
    "    wmtrx_df = DataFrame( data=wmtr_x, columns=['w_mtr'])\n",
    "    wmtry_df = DataFrame( data=wmtr_y, columns=['w_mtr'])\n",
    "\n",
    "    #Add the bin labels\n",
    "    wmtrx_df['bins'] = np.arange(1,101)\n",
    "    wmtry_df['bins'] = np.arange(1,101)\n",
    "\n",
    "    #Join df_x and appld on the bin, carrying along 'w_mtr'\n",
    "    #Left join means that 'rslt' is of size len(df_filtered_x)\n",
    "    rsltx = pd.merge(df_filtered_x[['bins']], wmtrx_df, how='left')\n",
    "    rslty = pd.merge(df_filtered_y[['bins']], wmtry_df, how='left')\n",
    "\n",
    "    # Put that column in df_filtered_x, disregarding index of rslt\n",
    "    df_filtered_x['w_mtr'] = rsltx['w_mtr'].values\n",
    "    df_filtered_y['w_mtr'] = rslty['w_mtr'].values\n",
    "    \n",
    "    df_filtered_x.drop_duplicates(subset = 'bins', inplace = True)\n",
    "    df_filtered_y.drop_duplicates(subset = 'bins', inplace = True)\n",
    "    \n",
    "    plt.plot(df_filtered_x.bins, df_filtered_x.w_mtr)\n",
    "    if calcX != calcY:\n",
    "        plt.plot(df_filtered_y.bins.unique(), df_filtered_y.w_mtr.unique())\n",
    "        plt.legend(['Baseline', 'Reform'])"
   ]
  },
  {
   "cell_type": "markdown",
   "metadata": {},
   "source": [
    "#### Combined MTR for single filers"
   ]
  },
  {
   "cell_type": "code",
   "execution_count": 91,
   "metadata": {
    "collapsed": false
   },
   "outputs": [
    {
     "name": "stderr",
     "output_type": "stream",
     "text": [
      "C:\\Users\\cody.kallen\\AppData\\Local\\Continuum\\Anaconda2\\lib\\site-packages\\ipykernel\\__main__.py:28: FutureWarning: sort(columns=....) is deprecated, use sort_values(by=.....)\n"
     ]
    },
    {
     "ename": "IndexError",
     "evalue": "tuple index out of range",
     "output_type": "error",
     "traceback": [
      "\u001b[1;31m---------------------------------------------------------------------------\u001b[0m",
      "\u001b[1;31mIndexError\u001b[0m                                Traceback (most recent call last)",
      "\u001b[1;32m<ipython-input-91-7da8787b3976>\u001b[0m in \u001b[0;36m<module>\u001b[1;34m()\u001b[0m\n\u001b[1;32m----> 1\u001b[1;33m \u001b[0mcreate_mtr_graph\u001b[0m\u001b[1;33m(\u001b[0m\u001b[0mcalc_xx\u001b[0m\u001b[1;33m,\u001b[0m \u001b[0mcalc_y1_beh\u001b[0m\u001b[1;33m,\u001b[0m \u001b[0mMARS\u001b[0m \u001b[1;33m=\u001b[0m \u001b[1;36m1\u001b[0m\u001b[1;33m,\u001b[0m \u001b[0mweights\u001b[0m \u001b[1;33m=\u001b[0m \u001b[0mweighted\u001b[0m\u001b[1;33m,\u001b[0m \u001b[0mtab\u001b[0m \u001b[1;33m=\u001b[0m \u001b[1;34m'c00100'\u001b[0m\u001b[1;33m)\u001b[0m\u001b[1;33m\u001b[0m\u001b[0m\n\u001b[0m",
      "\u001b[1;32m<ipython-input-90-23439c88ff0f>\u001b[0m in \u001b[0;36mcreate_mtr_graph\u001b[1;34m(calcX, calcY, MARS, weights, tab, kids_less_or_equal, kids_greater_or_equal, combined_or_IIT)\u001b[0m\n\u001b[0;32m     94\u001b[0m     \u001b[0mdf_filtered_y\u001b[0m\u001b[1;33m.\u001b[0m\u001b[0mdrop_duplicates\u001b[0m\u001b[1;33m(\u001b[0m\u001b[0msubset\u001b[0m \u001b[1;33m=\u001b[0m \u001b[1;34m'bins'\u001b[0m\u001b[1;33m,\u001b[0m \u001b[0minplace\u001b[0m \u001b[1;33m=\u001b[0m \u001b[0mTrue\u001b[0m\u001b[1;33m)\u001b[0m\u001b[1;33m\u001b[0m\u001b[0m\n\u001b[0;32m     95\u001b[0m \u001b[1;33m\u001b[0m\u001b[0m\n\u001b[1;32m---> 96\u001b[1;33m     \u001b[0mplt\u001b[0m\u001b[1;33m.\u001b[0m\u001b[0mplot\u001b[0m\u001b[1;33m(\u001b[0m\u001b[0mdf_filtered_x\u001b[0m\u001b[1;33m.\u001b[0m\u001b[0mbins\u001b[0m\u001b[1;33m,\u001b[0m \u001b[0mdf_filtered_x\u001b[0m\u001b[1;33m.\u001b[0m\u001b[0mw_mtr\u001b[0m\u001b[1;33m)\u001b[0m\u001b[1;33m\u001b[0m\u001b[0m\n\u001b[0m\u001b[0;32m     97\u001b[0m     \u001b[1;32mif\u001b[0m \u001b[0mcalcX\u001b[0m \u001b[1;33m!=\u001b[0m \u001b[0mcalcY\u001b[0m\u001b[1;33m:\u001b[0m\u001b[1;33m\u001b[0m\u001b[0m\n\u001b[0;32m     98\u001b[0m         \u001b[0mplt\u001b[0m\u001b[1;33m.\u001b[0m\u001b[0mplot\u001b[0m\u001b[1;33m(\u001b[0m\u001b[0mdf_filtered_y\u001b[0m\u001b[1;33m.\u001b[0m\u001b[0mbins\u001b[0m\u001b[1;33m.\u001b[0m\u001b[0munique\u001b[0m\u001b[1;33m(\u001b[0m\u001b[1;33m)\u001b[0m\u001b[1;33m,\u001b[0m \u001b[0mdf_filtered_y\u001b[0m\u001b[1;33m.\u001b[0m\u001b[0mw_mtr\u001b[0m\u001b[1;33m.\u001b[0m\u001b[0munique\u001b[0m\u001b[1;33m(\u001b[0m\u001b[1;33m)\u001b[0m\u001b[1;33m)\u001b[0m\u001b[1;33m\u001b[0m\u001b[0m\n",
      "\u001b[1;32mC:\\Users\\cody.kallen\\AppData\\Local\\Continuum\\Anaconda2\\lib\\site-packages\\matplotlib\\pyplot.pyc\u001b[0m in \u001b[0;36mplot\u001b[1;34m(*args, **kwargs)\u001b[0m\n\u001b[0;32m   3152\u001b[0m         \u001b[0max\u001b[0m\u001b[1;33m.\u001b[0m\u001b[0mhold\u001b[0m\u001b[1;33m(\u001b[0m\u001b[0mhold\u001b[0m\u001b[1;33m)\u001b[0m\u001b[1;33m\u001b[0m\u001b[0m\n\u001b[0;32m   3153\u001b[0m     \u001b[1;32mtry\u001b[0m\u001b[1;33m:\u001b[0m\u001b[1;33m\u001b[0m\u001b[0m\n\u001b[1;32m-> 3154\u001b[1;33m         \u001b[0mret\u001b[0m \u001b[1;33m=\u001b[0m \u001b[0max\u001b[0m\u001b[1;33m.\u001b[0m\u001b[0mplot\u001b[0m\u001b[1;33m(\u001b[0m\u001b[1;33m*\u001b[0m\u001b[0margs\u001b[0m\u001b[1;33m,\u001b[0m \u001b[1;33m**\u001b[0m\u001b[0mkwargs\u001b[0m\u001b[1;33m)\u001b[0m\u001b[1;33m\u001b[0m\u001b[0m\n\u001b[0m\u001b[0;32m   3155\u001b[0m     \u001b[1;32mfinally\u001b[0m\u001b[1;33m:\u001b[0m\u001b[1;33m\u001b[0m\u001b[0m\n\u001b[0;32m   3156\u001b[0m         \u001b[0max\u001b[0m\u001b[1;33m.\u001b[0m\u001b[0mhold\u001b[0m\u001b[1;33m(\u001b[0m\u001b[0mwashold\u001b[0m\u001b[1;33m)\u001b[0m\u001b[1;33m\u001b[0m\u001b[0m\n",
      "\u001b[1;32mC:\\Users\\cody.kallen\\AppData\\Local\\Continuum\\Anaconda2\\lib\\site-packages\\matplotlib\\__init__.pyc\u001b[0m in \u001b[0;36minner\u001b[1;34m(ax, *args, **kwargs)\u001b[0m\n\u001b[0;32m   1809\u001b[0m                     warnings.warn(msg % (label_namer, func.__name__),\n\u001b[0;32m   1810\u001b[0m                                   RuntimeWarning, stacklevel=2)\n\u001b[1;32m-> 1811\u001b[1;33m             \u001b[1;32mreturn\u001b[0m \u001b[0mfunc\u001b[0m\u001b[1;33m(\u001b[0m\u001b[0max\u001b[0m\u001b[1;33m,\u001b[0m \u001b[1;33m*\u001b[0m\u001b[0margs\u001b[0m\u001b[1;33m,\u001b[0m \u001b[1;33m**\u001b[0m\u001b[0mkwargs\u001b[0m\u001b[1;33m)\u001b[0m\u001b[1;33m\u001b[0m\u001b[0m\n\u001b[0m\u001b[0;32m   1812\u001b[0m         \u001b[0mpre_doc\u001b[0m \u001b[1;33m=\u001b[0m \u001b[0minner\u001b[0m\u001b[1;33m.\u001b[0m\u001b[0m__doc__\u001b[0m\u001b[1;33m\u001b[0m\u001b[0m\n\u001b[0;32m   1813\u001b[0m         \u001b[1;32mif\u001b[0m \u001b[0mpre_doc\u001b[0m \u001b[1;32mis\u001b[0m \u001b[0mNone\u001b[0m\u001b[1;33m:\u001b[0m\u001b[1;33m\u001b[0m\u001b[0m\n",
      "\u001b[1;32mC:\\Users\\cody.kallen\\AppData\\Local\\Continuum\\Anaconda2\\lib\\site-packages\\matplotlib\\axes\\_axes.pyc\u001b[0m in \u001b[0;36mplot\u001b[1;34m(self, *args, **kwargs)\u001b[0m\n\u001b[0;32m   1422\u001b[0m             \u001b[0mkwargs\u001b[0m\u001b[1;33m[\u001b[0m\u001b[1;34m'color'\u001b[0m\u001b[1;33m]\u001b[0m \u001b[1;33m=\u001b[0m \u001b[0mc\u001b[0m\u001b[1;33m\u001b[0m\u001b[0m\n\u001b[0;32m   1423\u001b[0m \u001b[1;33m\u001b[0m\u001b[0m\n\u001b[1;32m-> 1424\u001b[1;33m         \u001b[1;32mfor\u001b[0m \u001b[0mline\u001b[0m \u001b[1;32min\u001b[0m \u001b[0mself\u001b[0m\u001b[1;33m.\u001b[0m\u001b[0m_get_lines\u001b[0m\u001b[1;33m(\u001b[0m\u001b[1;33m*\u001b[0m\u001b[0margs\u001b[0m\u001b[1;33m,\u001b[0m \u001b[1;33m**\u001b[0m\u001b[0mkwargs\u001b[0m\u001b[1;33m)\u001b[0m\u001b[1;33m:\u001b[0m\u001b[1;33m\u001b[0m\u001b[0m\n\u001b[0m\u001b[0;32m   1425\u001b[0m             \u001b[0mself\u001b[0m\u001b[1;33m.\u001b[0m\u001b[0madd_line\u001b[0m\u001b[1;33m(\u001b[0m\u001b[0mline\u001b[0m\u001b[1;33m)\u001b[0m\u001b[1;33m\u001b[0m\u001b[0m\n\u001b[0;32m   1426\u001b[0m             \u001b[0mlines\u001b[0m\u001b[1;33m.\u001b[0m\u001b[0mappend\u001b[0m\u001b[1;33m(\u001b[0m\u001b[0mline\u001b[0m\u001b[1;33m)\u001b[0m\u001b[1;33m\u001b[0m\u001b[0m\n",
      "\u001b[1;32mC:\\Users\\cody.kallen\\AppData\\Local\\Continuum\\Anaconda2\\lib\\site-packages\\matplotlib\\axes\\_base.pyc\u001b[0m in \u001b[0;36m_grab_next_args\u001b[1;34m(self, *args, **kwargs)\u001b[0m\n\u001b[0;32m    384\u001b[0m                 \u001b[1;32mreturn\u001b[0m\u001b[1;33m\u001b[0m\u001b[0m\n\u001b[0;32m    385\u001b[0m             \u001b[1;32mif\u001b[0m \u001b[0mlen\u001b[0m\u001b[1;33m(\u001b[0m\u001b[0mremaining\u001b[0m\u001b[1;33m)\u001b[0m \u001b[1;33m<=\u001b[0m \u001b[1;36m3\u001b[0m\u001b[1;33m:\u001b[0m\u001b[1;33m\u001b[0m\u001b[0m\n\u001b[1;32m--> 386\u001b[1;33m                 \u001b[1;32mfor\u001b[0m \u001b[0mseg\u001b[0m \u001b[1;32min\u001b[0m \u001b[0mself\u001b[0m\u001b[1;33m.\u001b[0m\u001b[0m_plot_args\u001b[0m\u001b[1;33m(\u001b[0m\u001b[0mremaining\u001b[0m\u001b[1;33m,\u001b[0m \u001b[0mkwargs\u001b[0m\u001b[1;33m)\u001b[0m\u001b[1;33m:\u001b[0m\u001b[1;33m\u001b[0m\u001b[0m\n\u001b[0m\u001b[0;32m    387\u001b[0m                     \u001b[1;32myield\u001b[0m \u001b[0mseg\u001b[0m\u001b[1;33m\u001b[0m\u001b[0m\n\u001b[0;32m    388\u001b[0m                 \u001b[1;32mreturn\u001b[0m\u001b[1;33m\u001b[0m\u001b[0m\n",
      "\u001b[1;32mC:\\Users\\cody.kallen\\AppData\\Local\\Continuum\\Anaconda2\\lib\\site-packages\\matplotlib\\axes\\_base.pyc\u001b[0m in \u001b[0;36m_plot_args\u001b[1;34m(self, tup, kwargs)\u001b[0m\n\u001b[0;32m    370\u001b[0m             \u001b[0mfunc\u001b[0m \u001b[1;33m=\u001b[0m \u001b[0mself\u001b[0m\u001b[1;33m.\u001b[0m\u001b[0m_makefill\u001b[0m\u001b[1;33m\u001b[0m\u001b[0m\n\u001b[0;32m    371\u001b[0m \u001b[1;33m\u001b[0m\u001b[0m\n\u001b[1;32m--> 372\u001b[1;33m         \u001b[0mncx\u001b[0m\u001b[1;33m,\u001b[0m \u001b[0mncy\u001b[0m \u001b[1;33m=\u001b[0m \u001b[0mx\u001b[0m\u001b[1;33m.\u001b[0m\u001b[0mshape\u001b[0m\u001b[1;33m[\u001b[0m\u001b[1;36m1\u001b[0m\u001b[1;33m]\u001b[0m\u001b[1;33m,\u001b[0m \u001b[0my\u001b[0m\u001b[1;33m.\u001b[0m\u001b[0mshape\u001b[0m\u001b[1;33m[\u001b[0m\u001b[1;36m1\u001b[0m\u001b[1;33m]\u001b[0m\u001b[1;33m\u001b[0m\u001b[0m\n\u001b[0m\u001b[0;32m    373\u001b[0m         \u001b[1;32mfor\u001b[0m \u001b[0mj\u001b[0m \u001b[1;32min\u001b[0m \u001b[0mxrange\u001b[0m\u001b[1;33m(\u001b[0m\u001b[0mmax\u001b[0m\u001b[1;33m(\u001b[0m\u001b[0mncx\u001b[0m\u001b[1;33m,\u001b[0m \u001b[0mncy\u001b[0m\u001b[1;33m)\u001b[0m\u001b[1;33m)\u001b[0m\u001b[1;33m:\u001b[0m\u001b[1;33m\u001b[0m\u001b[0m\n\u001b[0;32m    374\u001b[0m             \u001b[0mseg\u001b[0m \u001b[1;33m=\u001b[0m \u001b[0mfunc\u001b[0m\u001b[1;33m(\u001b[0m\u001b[0mx\u001b[0m\u001b[1;33m[\u001b[0m\u001b[1;33m:\u001b[0m\u001b[1;33m,\u001b[0m \u001b[0mj\u001b[0m \u001b[1;33m%\u001b[0m \u001b[0mncx\u001b[0m\u001b[1;33m]\u001b[0m\u001b[1;33m,\u001b[0m \u001b[0my\u001b[0m\u001b[1;33m[\u001b[0m\u001b[1;33m:\u001b[0m\u001b[1;33m,\u001b[0m \u001b[0mj\u001b[0m \u001b[1;33m%\u001b[0m \u001b[0mncy\u001b[0m\u001b[1;33m]\u001b[0m\u001b[1;33m,\u001b[0m \u001b[0mkw\u001b[0m\u001b[1;33m,\u001b[0m \u001b[0mkwargs\u001b[0m\u001b[1;33m)\u001b[0m\u001b[1;33m\u001b[0m\u001b[0m\n",
      "\u001b[1;31mIndexError\u001b[0m: tuple index out of range"
     ]
    },
    {
     "data": {
      "image/png": "[encoded data removed]",
      "text/plain": [
       "<matplotlib.figure.Figure at 0xd6348d0>"
      ]
     },
     "metadata": {},
     "output_type": "display_data"
    }
   ],
   "source": [
    "create_mtr_graph(calc_xx, calc_y1_beh, MARS = 1, weights = weighted, tab = 'c00100')"
   ]
  },
  {
   "cell_type": "markdown",
   "metadata": {},
   "source": [
    "#### Combined MTR for joint filers"
   ]
  },
  {
   "cell_type": "code",
   "execution_count": null,
   "metadata": {
    "collapsed": false
   },
   "outputs": [],
   "source": [
    "create_mtr_graph(calc_xx, calc_y1_std, MARS=2,  weights = weighted, tab = 'c00100')"
   ]
  },
  {
   "cell_type": "code",
   "execution_count": null,
   "metadata": {
    "collapsed": true
   },
   "outputs": [],
   "source": []
  },
  {
   "cell_type": "code",
   "execution_count": null,
   "metadata": {
    "collapsed": true
   },
   "outputs": [],
   "source": []
  },
  {
   "cell_type": "code",
   "execution_count": null,
   "metadata": {
    "collapsed": true
   },
   "outputs": [],
   "source": []
  },
  {
   "cell_type": "code",
   "execution_count": null,
   "metadata": {
    "collapsed": true
   },
   "outputs": [],
   "source": []
  }
 ],
 "metadata": {
  "kernelspec": {
   "display_name": "Python 2",
   "language": "python",
   "name": "python2"
  },
  "language_info": {
   "codemirror_mode": {
    "name": "ipython",
    "version": 2
   },
   "file_extension": ".py",
   "mimetype": "text/x-python",
   "name": "python",
   "nbconvert_exporter": "python",
   "pygments_lexer": "ipython2",
   "version": "2.7.12"
  }
 },
 "nbformat": 4,
 "nbformat_minor": 0
}
