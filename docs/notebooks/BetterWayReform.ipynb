{
 "cells": [
  {
   "cell_type": "code",
   "execution_count": 56,
   "metadata": {
    "collapsed": true
   },
   "outputs": [],
   "source": [
    "import sys\n",
    "sys.path.append(\"../../\")\n",
    "from taxcalc import *\n",
    "import pandas as pd\n",
    "import numpy as np"
   ]
  },
  {
   "cell_type": "code",
   "execution_count": 57,
   "metadata": {
    "collapsed": true
   },
   "outputs": [],
   "source": [
    "# The baseline policy\n",
    "\n",
    "policy_xx = Policy()\n",
    "behavior_xx = Behavior()\n",
    "records_xx = Records(\"../../puf.csv\")\n",
    "reform_xx = {\n",
    "    2017: {}\n",
    "}\n",
    "policy_xx.implement_reform(reform_xx)\n"
   ]
  },
  {
   "cell_type": "code",
   "execution_count": 58,
   "metadata": {
    "collapsed": true
   },
   "outputs": [],
   "source": [
    "# The Reform version 1\n",
    "\n",
    "# Set 10% and 15% brackets to 12%\n",
    "# Set 25% and 28% brackets to 25%\n",
    "# Set 33%, 35% and 39.6% brackets to 33%\n",
    "# Repeal Alternative minumum tax\n",
    "# Standard deduction 12K for single/separate, 24K for married, 18K for single with child(Head of HH)\n",
    "#    Should we eliminate the additional standard deduction for the aged and blind?\n",
    "# Personal exemption '_II_credit' set to zero\n",
    "# Child tax credit and non-child dependent credit implemented oddly\n",
    "#    Dependent standard deduction set to $500, and child tax credit set to $1000\n",
    "#    Should mimic non-refundable $500 deduction for non-child dependent and $1500 child tax credit\n",
    "# Child tax credit phaseout for married couples increased to $150K\n",
    "# Eliminated all itemized deductions except mortgage and charity\n",
    "# Excluded half of interest income from final taxable interest income\n",
    "# Cap gains & dividend income changed\n",
    "#    Second cap gains threshold moved to same as fourth income tax bracket\n",
    "#    Rates adjusted to 6%, 12.5% and 16.5%\n",
    "\n",
    "# Didn't implement business pass-thru rate to 25%\n",
    "\n",
    "\n",
    "\n",
    "\n",
    "policy_y1 = Policy()\n",
    "behavior_y1 = Behavior()\n",
    "records_y1 = Records(\"../../puf.csv\")\n",
    "reform_y1 = {\n",
    "    2017: {\n",
    "        '_II_rt1': [0.12],\n",
    "        '_II_rt2': [0.12],\n",
    "        '_II_rt3': [0.25],\n",
    "        '_II_rt4': [0.25],\n",
    "        '_II_rt5': [0.33],\n",
    "        '_II_rt6': [0.33],\n",
    "        '_II_rt7': [0.33],\n",
    "        '_AMT_trt1': [0.0],\n",
    "        '_AMT_trt2': [0.0],\n",
    "        '_STD': [[12000, 24000, 12000, 18000, 24000, 12000, 500]],\n",
    "        '_II_em': [0,0,0,0],\n",
    "        '_CTC_c': [1500],\n",
    "        '_CTC_ps': [[75000, 150000, 55000, 75000, 75000, 55000]],\n",
    "        '_ID_StateLocalTax_HC': [1.0],\n",
    "        '_ID_Medical_HC': [1.0],\n",
    "        '_ID_Casualty_HC': [1.0],\n",
    "        '_ID_Miscellaneous_HC': [1.0],\n",
    "        '_ID_RealEstate_HC': [1.0],\n",
    "        '_ID_BenefitSurtax_crt': [0.0],\n",
    "        '_ALD_Interest_ec': [0.5],        \n",
    "        '_CG_thd2': [[183250, 223050, 111525, 203150, 223050, 111525],\n",
    "                     [186350, 226850, 113425, 206600, 226850, 113425],\n",
    "                     [189300, 230450, 115225, 209850, 230450, 115225],\n",
    "                     [190150, 231450, 115725, 210800, 231450, 115725]],\n",
    "        '_CG_rt1': [0.06],\n",
    "        '_CG_rt2': [0.125],\n",
    "        '_CG_rt3': [0.165]\n",
    "    }\n",
    "}\n",
    "\n",
    "policy_y1.implement_reform(reform_y1)"
   ]
  },
  {
   "cell_type": "code",
   "execution_count": 59,
   "metadata": {
    "collapsed": false
   },
   "outputs": [
    {
     "name": "stdout",
     "output_type": "stream",
     "text": [
      "2017\n",
      "2017\n"
     ]
    }
   ],
   "source": [
    "print calc_xx.current_year\n",
    "print calc_y1.current_year"
   ]
  },
  {
   "cell_type": "code",
   "execution_count": 43,
   "metadata": {
    "collapsed": false
   },
   "outputs": [
    {
     "name": "stdout",
     "output_type": "stream",
     "text": [
      "You loaded data for 2009.\n",
      "Your data have been extrapolated to 2013.\n",
      "You loaded data for 2009.\n",
      "Your data have been extrapolated to 2013.\n"
     ]
    }
   ],
   "source": [
    "calc_xx = Calculator(policy_xx, records_xx, behavior_xx)\n",
    "for i in range(4):\n",
    "    calc_xx.increment_year()\n",
    "assert calc_xx.current_year == 2017\n",
    "calc_y1 = Calculator(policy_y1, records_y1, behavior_y1)\n",
    "for i in range(4):\n",
    "    calc_y1.increment_year()\n",
    "assert calc_y1.current_year == 2017"
   ]
  },
  {
   "cell_type": "code",
   "execution_count": 60,
   "metadata": {
    "collapsed": true
   },
   "outputs": [],
   "source": [
    "calc_xx.calc_all()\n",
    "calc_y1.calc_all()"
   ]
  },
  {
   "cell_type": "code",
   "execution_count": 62,
   "metadata": {
    "collapsed": false
   },
   "outputs": [
    {
     "name": "stdout",
     "output_type": "stream",
     "text": [
      "Static net revenue change: -13.7289520135 billion dollars\n"
     ]
    }
   ],
   "source": [
    "calc_xx_combined = (calc_xx.records._combined * calc_xx.records.s006)\n",
    "calc_y1_combined = (calc_y1.records._combined * calc_y1.records.s006)\n",
    "\n",
    "diff_static_y1_xx = (calc_y1_combined - calc_xx_combined).sum() / 10**9\n",
    "print \"Static net revenue change: \" + str(diff_static_y1_xx) + \" billion dollars\""
   ]
  },
  {
   "cell_type": "code",
   "execution_count": 63,
   "metadata": {
    "collapsed": false
   },
   "outputs": [],
   "source": [
    "# Behavioral factors\n",
    "# Set income effect to 0\n",
    "# Set substitution effect to 0.3\n",
    "behavior_xx.update_behavior({2017: {'_BE_inc': [0], '_BE_sub': [0.3], '_BE_cg': [0.0]}})\n",
    "behavior_y1.update_behavior({2017: {'_BE_inc': [0], '_BE_sub': [0.3], '_BE_cg': [0.0]}})\n",
    "\n",
    "#calc_xx = Behavior(calc_xx, calc_xx)\n",
    "calc_y1_beh = Behavior.response(calc_xx, calc_y1)\n",
    "calc_y1_beh.calc_all()\n"
   ]
  },
  {
   "cell_type": "code",
   "execution_count": 64,
   "metadata": {
    "collapsed": false
   },
   "outputs": [
    {
     "name": "stdout",
     "output_type": "stream",
     "text": [
      "With behavioral effects, net revenue change: -13.7289520135 billion dollars\n"
     ]
    }
   ],
   "source": [
    "calc_y1_beh_combined = (calc_y1_beh.records._combined * calc_y1_beh.records.s006)\n",
    "diff_Beh_y1_xx = (calc_y1_beh_combined - calc_xx_combined).sum() / 10**9\n",
    "print \"With behavioral effects, net revenue change: \" + str(diff_Beh_y1_xx) + \" billion dollars\""
   ]
  },
  {
   "cell_type": "code",
   "execution_count": 65,
   "metadata": {
    "collapsed": false
   },
   "outputs": [],
   "source": [
    "# Individual reforms and their effects\n",
    "\n",
    "# AMT repeal\n",
    "policy_amt = Policy()\n",
    "behavior_amt = Behavior()\n",
    "records_amt = Records(\"../../puf.csv\")\n",
    "reform_amt = {\n",
    "    2017: {\n",
    "        '_AMT_trt1': [0.0],\n",
    "        '_AMT_trt2': [0.0]\n",
    "    }\n",
    "}\n",
    "policy_amt.implement_reform(reform_amt)\n",
    "\n",
    "# Change in income tax rates\n",
    "policy_IncTax = Policy()\n",
    "behavior_IncTax = Behavior()\n",
    "records_IncTax = Records(\"../../puf.csv\")\n",
    "reform_IncTax = {\n",
    "    2017: {\n",
    "        '_II_rt1': [0.12],\n",
    "        '_II_rt2': [0.12],\n",
    "        '_II_rt3': [0.25],\n",
    "        '_II_rt4': [0.25],\n",
    "        '_II_rt5': [0.33],\n",
    "        '_II_rt6': [0.33],\n",
    "        '_II_rt7': [0.33]\n",
    "    }\n",
    "}\n",
    "policy_IncTax.implement_reform(reform_IncTax)\n",
    "\n",
    "# Deduction reforms and child tax credit\n",
    "policy_ded = Policy()\n",
    "behavior_ded = Behavior()\n",
    "records_ded = Records(\"../../puf.csv\")\n",
    "reform_ded = {\n",
    "    2017: {\n",
    "        '_STD': [[12000, 24000, 12000, 18000, 24000, 12000, 500]],\n",
    "        '_II_em': [0,0,0,0],\n",
    "        '_CTC_c': [1500],\n",
    "        '_CTC_ps': [[75000, 150000, 55000, 75000, 75000, 55000]],\n",
    "        '_ID_StateLocalTax_HC': [1.0],\n",
    "        '_ID_Medical_HC': [1.0],\n",
    "        '_ID_Casualty_HC': [1.0],\n",
    "        '_ID_Miscellaneous_HC': [1.0],\n",
    "        '_ID_RealEstate_HC': [1.0],\n",
    "        '_ID_BenefitSurtax_crt': [0.0]\n",
    "    }\n",
    "}\n",
    "policy_ded.implement_reform(reform_ded)\n",
    "\n",
    "# Investment income (interest, cap gains and dividends) reforms\n",
    "policy_InvTax = Policy()\n",
    "behavior_InvTax = Behavior()\n",
    "records_InvTax = Records(\"../../puf.csv\")\n",
    "reform_InvTax = {\n",
    "    2017: {\n",
    "        '_CG_thd2': [[183250, 223050, 111525, 203150, 223050, 111525],\n",
    "                     [186350, 226850, 113425, 206600, 226850, 113425],\n",
    "                     [189300, 230450, 115225, 209850, 230450, 115225],\n",
    "                     [190150, 231450, 115725, 210800, 231450, 115725]],\n",
    "        '_CG_rt1': [0.06],\n",
    "        '_CG_rt2': [0.125],\n",
    "        '_CG_rt3': [0.165]\n",
    "    }\n",
    "}\n",
    "policy_InvTax.implement_reform(reform_InvTax)"
   ]
  },
  {
   "cell_type": "code",
   "execution_count": 66,
   "metadata": {
    "collapsed": false,
    "scrolled": true
   },
   "outputs": [
    {
     "name": "stdout",
     "output_type": "stream",
     "text": [
      "2017\n",
      "2017\n",
      "2017\n",
      "2017\n"
     ]
    }
   ],
   "source": [
    "print calc_amt.current_year\n",
    "print calc_IncTax.current_year\n",
    "print calc_ded.current_year\n",
    "print calc_InvTax.current_year"
   ]
  },
  {
   "cell_type": "code",
   "execution_count": 55,
   "metadata": {
    "collapsed": false
   },
   "outputs": [
    {
     "name": "stdout",
     "output_type": "stream",
     "text": [
      "2025\n",
      "2017\n",
      "2017\n",
      "2017\n",
      "You loaded data for 2009.\n",
      "Your data have been extrapolated to 2013.\n",
      "You loaded data for 2009.\n",
      "Your data have been extrapolated to 2013.\n",
      "You loaded data for 2009.\n",
      "Your data have been extrapolated to 2013.\n",
      "You loaded data for 2009.\n",
      "Your data have been extrapolated to 2013.\n"
     ]
    }
   ],
   "source": [
    "calc_amt = Calculator(policy_amt, records_amt, behavior_amt)\n",
    "for i in range(4):\n",
    "    calc_amt.increment_year()\n",
    "assert calc_amt.current_year == 2017\n",
    "\n",
    "calc_IncTax = Calculator(policy_IncTax, records_IncTax, behavior_IncTax)\n",
    "for i in range(4):\n",
    "    calc_IncTax.increment_year()\n",
    "assert calc_IncTax.current_year == 2017\n",
    "\n",
    "calc_ded = Calculator(policy_ded, records_ded, behavior_ded)\n",
    "for i in range(4):\n",
    "    calc_ded.increment_year()\n",
    "assert calc_ded.current_year == 2017\n",
    "\n",
    "calc_InvTax = Calculator(policy_InvTax, records_InvTax, behavior_InvTax)\n",
    "for i in range(4):\n",
    "    calc_InvTax.increment_year()\n",
    "assert calc_InvTax.current_year == 2017"
   ]
  },
  {
   "cell_type": "code",
   "execution_count": 67,
   "metadata": {
    "collapsed": true
   },
   "outputs": [],
   "source": [
    "calc_amt.calc_all()\n",
    "calc_IncTax.calc_all()\n",
    "calc_ded.calc_all()\n",
    "calc_InvTax.calc_all()"
   ]
  },
  {
   "cell_type": "code",
   "execution_count": 68,
   "metadata": {
    "collapsed": true
   },
   "outputs": [],
   "source": [
    "calc_amt_combined = (calc_amt.records._combined * calc_amt.records.s006)\n",
    "calc_IncTax_combined = (calc_IncTax.records._combined * calc_IncTax.records.s006)\n",
    "calc_ded_combined = (calc_ded.records._combined * calc_ded.records.s006)\n",
    "calc_InvTax_combined = (calc_InvTax.records._combined * calc_InvTax.records.s006)\n",
    "\n",
    "diff_static_amt_xx = (calc_amt_combined - calc_xx_combined).sum() / 10**9\n",
    "diff_static_IncTax_xx = (calc_IncTax_combined - calc_xx_combined).sum() / 10**9\n",
    "diff_static_ded_xx = (calc_ded_combined - calc_xx_combined).sum() / 10**9\n",
    "diff_static_InvTax_xx = (calc_InvTax_combined - calc_xx_combined).sum() / 10**9"
   ]
  },
  {
   "cell_type": "code",
   "execution_count": 69,
   "metadata": {
    "collapsed": false
   },
   "outputs": [
    {
     "name": "stdout",
     "output_type": "stream",
     "text": [
      "Static net revenue change with AMT repeal: -41.8800806925 billion dollars\n",
      "Static net revenue change with income tax reform: -98.4209110176 billion dollars\n",
      "Static net revenue change with deduction reform: 162.483433836 billion dollars\n",
      "Static net revenue change with investment tax reform: -2.61514808691 billion dollars\n"
     ]
    }
   ],
   "source": [
    "print \"Static net revenue change with AMT repeal: \" + str(diff_static_amt_xx) + \" billion dollars\"\n",
    "print \"Static net revenue change with income tax reform: \" + str(diff_static_IncTax_xx) + \" billion dollars\"\n",
    "print \"Static net revenue change with deduction reform: \" + str(diff_static_ded_xx) + \" billion dollars\"\n",
    "print \"Static net revenue change with investment tax reform: \" + str(diff_static_InvTax_xx) + \" billion dollars\""
   ]
  },
  {
   "cell_type": "code",
   "execution_count": null,
   "metadata": {
    "collapsed": true
   },
   "outputs": [],
   "source": []
  }
 ],
 "metadata": {
  "kernelspec": {
   "display_name": "Python 2",
   "language": "python",
   "name": "python2"
  },
  "language_info": {
   "codemirror_mode": {
    "name": "ipython",
    "version": 2
   },
   "file_extension": ".py",
   "mimetype": "text/x-python",
   "name": "python",
   "nbconvert_exporter": "python",
   "pygments_lexer": "ipython2",
   "version": "2.7.12"
  }
 },
 "nbformat": 4,
 "nbformat_minor": 0
}
