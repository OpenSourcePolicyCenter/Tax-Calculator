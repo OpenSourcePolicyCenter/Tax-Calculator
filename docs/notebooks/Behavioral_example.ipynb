{
 "metadata": {
  "name": "",
  "signature": "sha256:aa7cac6be5527ca83ee95c3e57381cde1700080321c0bed1b43eccdb9a70e6a9"
 },
 "nbformat": 3,
 "nbformat_minor": 0,
 "worksheets": [
  {
   "cells": [
    {
     "cell_type": "heading",
     "level": 1,
     "metadata": {},
     "source": [
      "Incorporating micro-feedback effects"
     ]
    },
    {
     "cell_type": "code",
     "collapsed": false,
     "input": [
      "import sys\n",
      "sys.path.append(\"../\")\n",
      "import taxcalc\n",
      "from taxcalc import *\n",
      "import pandas as pd\n",
      "import numpy as np"
     ],
     "language": "python",
     "metadata": {},
     "outputs": [],
     "prompt_number": 1
    },
    {
     "cell_type": "heading",
     "level": 3,
     "metadata": {},
     "source": [
      "Start by creating a Calculator for Plan X and a calculator for Plan Y. "
     ]
    },
    {
     "cell_type": "code",
     "collapsed": false,
     "input": [
      "# Create a Records object for Plan X and Plan Y\n",
      "records_x = Records(\"../puf2.csv\")\n",
      "records_y = Records(\"../puf2.csv\")\n",
      "# Create a Parameters object for Plan X and Plan Y\n",
      "params_x = Parameters(start_year=2013)\n",
      "params_y = Parameters(start_year=2013)\n",
      "# Create two Calculators\n",
      "calc_x = Calculator(parameters=params_x, records=records_x)\n",
      "calc_y = Calculator(parameters=params_y, records=records_y)\n"
     ],
     "language": "python",
     "metadata": {},
     "outputs": [],
     "prompt_number": 2
    },
    {
     "cell_type": "heading",
     "level": 3,
     "metadata": {},
     "source": [
      "Increase the top marginal tax rate by 10 percentage points "
     ]
    },
    {
     "cell_type": "code",
     "collapsed": false,
     "input": [
      "# Modify the relevant parameter for the Plan-Y Calculator.\n",
      "calc_y.rt7 = calc_y.rt7 + .1\n",
      "# Demonstrate that Plan X and Plan Y calculators are indeed different. \n",
      "print(calc_x.rt7)\n",
      "print(calc_y.rt7)"
     ],
     "language": "python",
     "metadata": {},
     "outputs": [
      {
       "output_type": "stream",
       "stream": "stdout",
       "text": [
        "0.396\n",
        "0.496\n"
       ]
      }
     ],
     "prompt_number": 3
    },
    {
     "cell_type": "heading",
     "level": 3,
     "metadata": {},
     "source": [
      "Update taxpayers' income to account for the rate hike with our behavioral effects calculator"
     ]
    },
    {
     "cell_type": "code",
     "collapsed": false,
     "input": [
      "# Call the behavioral effects calculator and create a new Plan Y Calculator obect. \n",
      "calc_y_behavioral = behavior(calc_x, calc_y)\n",
      "# Demonstrate that taxpayers' income was affected by the tax change.\n",
      "print(np.sum(calc_y.e00200))\n",
      "print(np.sum(calc_y_behavioral.e00200))"
     ],
     "language": "python",
     "metadata": {},
     "outputs": [
      {
       "output_type": "stream",
       "stream": "stdout",
       "text": [
        "39476697078\n",
        "39059892867.0\n"
       ]
      }
     ],
     "prompt_number": 4
    },
    {
     "cell_type": "code",
     "collapsed": false,
     "input": [],
     "language": "python",
     "metadata": {},
     "outputs": []
    }
   ],
   "metadata": {}
  }
 ]
}