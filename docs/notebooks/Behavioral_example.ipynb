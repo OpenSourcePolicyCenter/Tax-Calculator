{
 "metadata": {
  "name": "",
  "signature": "sha256:9761d9a35eb48bb254a5f8448fe1d13d31a7874b5b219aa6cd068a60829260aa"
 },
 "nbformat": 3,
 "nbformat_minor": 0,
 "worksheets": [
  {
   "cells": [
    {
     "cell_type": "heading",
     "level": 1,
     "metadata": {},
     "source": [
      "Incorporating micro-feedback effects"
     ]
    },
    {
     "cell_type": "code",
     "collapsed": false,
     "input": [
      "import sys\n",
      "sys.path.append(\"../../\")\n",
      "import taxcalc\n",
      "from taxcalc import *\n",
      "import pandas as pd\n",
      "import numpy as np"
     ],
     "language": "python",
     "metadata": {},
     "outputs": [],
     "prompt_number": 1
    },
    {
     "cell_type": "heading",
     "level": 3,
     "metadata": {},
     "source": [
      "Start by creating a Calculator for Plan X and a calculator for Plan Y. "
     ]
    },
    {
     "cell_type": "code",
     "collapsed": false,
     "input": [
      "# Create a Records object for Plan X and Plan Y\n",
      "records_x = Records(\"../../puf.csv\")\n",
      "records_y = Records(\"../../puf.csv\")\n",
      "# Create a Parameters object for Plan X and Plan Y\n",
      "params_x = Parameters(start_year=2013)\n",
      "params_y = Parameters(start_year=2013)\n",
      "# Create two Calculators\n",
      "calcX = Calculator(parameters=params_x, records=records_x)\n",
      "calcY = Calculator(parameters=params_y, records=records_y)\n"
     ],
     "language": "python",
     "metadata": {},
     "outputs": [
      {
       "output_type": "stream",
       "stream": "stdout",
       "text": [
        "You loaded data for 2008.\n",
        "Your data have beeen extrapolated to 2013."
       ]
      },
      {
       "output_type": "stream",
       "stream": "stdout",
       "text": [
        "\n",
        "You loaded data for 2008.\n",
        "Your data have beeen extrapolated to 2013."
       ]
      },
      {
       "output_type": "stream",
       "stream": "stdout",
       "text": [
        "\n"
       ]
      }
     ],
     "prompt_number": 3
    },
    {
     "cell_type": "heading",
     "level": 3,
     "metadata": {},
     "source": [
      "Increase the top marginal tax rate by 10 percentage points "
     ]
    },
    {
     "cell_type": "code",
     "collapsed": false,
     "input": [
      "# Modify the relevant parameter for the Plan-Y Calculator.\n",
      "calcY.II_rt7 = calcY.II_rt7 + .1\n",
      "# Demonstrate that Plan X and Plan Y calculators are indeed different. \n",
      "print(calcX.II_rt7)\n",
      "print(calcY.II_rt7)"
     ],
     "language": "python",
     "metadata": {},
     "outputs": [
      {
       "output_type": "stream",
       "stream": "stdout",
       "text": [
        "0.396\n",
        "0.496\n"
       ]
      }
     ],
     "prompt_number": 6
    },
    {
     "cell_type": "heading",
     "level": 3,
     "metadata": {},
     "source": [
      "Update taxpayers' income to account for the rate hike with our behavioral effects calculator"
     ]
    },
    {
     "cell_type": "code",
     "collapsed": false,
     "input": [
      "# Call the behavioral effects calculator and create a new Plan Y Calculator obect. \n",
      "calcY_behavioral = behavior(calcX, calcY)\n",
      "# Demonstrate that taxpayers' income was affected by the tax change.\n",
      "print(calcY.e00200.sum())\n",
      "print(calcY_behavioral.e00200.sum())"
     ],
     "language": "python",
     "metadata": {},
     "outputs": [
      {
       "output_type": "stream",
       "stream": "stdout",
       "text": [
        "41460794504.8\n",
        "40996640481.9\n"
       ]
      }
     ],
     "prompt_number": 10
    },
    {
     "cell_type": "code",
     "collapsed": false,
     "input": [],
     "language": "python",
     "metadata": {},
     "outputs": []
    }
   ],
   "metadata": {}
  }
 ]
}