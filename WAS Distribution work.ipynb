{
 "cells": [
  {
   "cell_type": "code",
   "execution_count": 1,
   "metadata": {
    "collapsed": true
   },
   "outputs": [],
   "source": [
    "from taxcalc import *\n",
    "import pandas as pd"
   ]
  },
  {
   "cell_type": "code",
   "execution_count": 2,
   "metadata": {
    "collapsed": false
   },
   "outputs": [
    {
     "name": "stdout",
     "output_type": "stream",
     "text": [
      "You loaded data for 2009.\n",
      "Your data have been extrapolated to 2013.\n"
     ]
    },
    {
     "name": "stderr",
     "output_type": "stream",
     "text": [
      "taxcalc/behavior.py:190: VisibleDeprecationWarning: using a non-integer number instead of an integer will result in an error in the future\n",
      "  val = values[year]\n"
     ]
    }
   ],
   "source": [
    "# Calculator with new weights and targets\n",
    "recs_new = Records()\n",
    "policy_new = Policy()\n",
    "cbo_growth = {2014: {\"_factor_target\": [0.024, 0.024, 0.019, 0.024, 0.022, 0.017, 0.016, 0.019, 0.02, 0.02, 0.02, 0.019]}\n",
    "             }\n",
    "# growth = Growth()\n",
    "# growth.update_growth(cbo_growth)\n",
    "calc_new = Calculator(records=recs_new, policy=policy_new)"
   ]
  },
  {
   "cell_type": "code",
   "execution_count": null,
   "metadata": {
    "collapsed": false
   },
   "outputs": [],
   "source": [
    "# Calculator with original weights and targets\n",
    "weights_original = pd.read_csv(\"taxcalc/WEIGHTS_current.csv\")\n",
    "recs_original = Records(weights=weights_original, blowup_factors=\"taxcalc/StageIFactors_current.csv\")\n",
    "policy_original = Policy()\n",
    "calc_original = Calculator(records=recs_original, policy=policy_original)"
   ]
  },
  {
   "cell_type": "code",
   "execution_count": null,
   "metadata": {
    "collapsed": false
   },
   "outputs": [],
   "source": [
    "new_diag = utils.multiyear_diagnostic_table(calc_new, 14)\n",
    "new_diag"
   ]
  },
  {
   "cell_type": "code",
   "execution_count": null,
   "metadata": {
    "collapsed": false
   },
   "outputs": [],
   "source": [
    "original_diag = utils.multiyear_diagnostic_table(calc_original, 13)\n",
    "original_diag"
   ]
  },
  {
   "cell_type": "code",
   "execution_count": null,
   "metadata": {
    "collapsed": false
   },
   "outputs": [],
   "source": [
    "new_diag - original_diag"
   ]
  },
  {
   "cell_type": "code",
   "execution_count": null,
   "metadata": {
    "collapsed": false
   },
   "outputs": [],
   "source": [
    "new = list()\n",
    "original = list()\n",
    "yr = list()\n",
    "for year in range(2016, 2027):\n",
    "    calc_new.advance_to_year(year)\n",
    "    calc_original.advance_to_year(year)\n",
    "    new.append((calc_new.records.e00200 * calc_new.records.s006).sum() / 1000000000)\n",
    "    original.append((calc_original.records.e00200 * calc_original.records.s006).sum() / 1000000000)\n",
    "    yr.append(year)\n",
    "was = pd.DataFrame([new, original])\n",
    "was = was.transpose()\n",
    "was.columns = ['New', 'Original']\n",
    "was.index = [year for year in range(2016, 2027)]\n",
    "was"
   ]
  },
  {
   "cell_type": "code",
   "execution_count": null,
   "metadata": {
    "collapsed": false
   },
   "outputs": [],
   "source": [
    "(calc_new.records.c00100 * calc_new.records.s006).sum()"
   ]
  },
  {
   "cell_type": "code",
   "execution_count": 4,
   "metadata": {
    "collapsed": false
   },
   "outputs": [],
   "source": [
    "calc_new.advance_to_year(2014)\n",
    "calc_new.calc_all()"
   ]
  },
  {
   "cell_type": "code",
   "execution_count": null,
   "metadata": {
    "collapsed": false
   },
   "outputs": [],
   "source": [
    "calc_original.advance_to_year(2014)\n",
    "calc_original.calc_all()"
   ]
  },
  {
   "cell_type": "code",
   "execution_count": null,
   "metadata": {
    "collapsed": false
   },
   "outputs": [],
   "source": [
    "(calc_original.records.e00200[calc_original.records.filer == 1] * calc_original.records.s006[calc_original.records.filer == 1]).sum()"
   ]
  },
  {
   "cell_type": "code",
   "execution_count": 7,
   "metadata": {
    "collapsed": false
   },
   "outputs": [
    {
     "data": {
      "text/plain": [
       "97246305796.00246"
      ]
     },
     "execution_count": 7,
     "metadata": {},
     "output_type": "execute_result"
    }
   ],
   "source": [
    "(calc_new.records.e00300 * calc_new.records.s006).sum()"
   ]
  },
  {
   "cell_type": "code",
   "execution_count": null,
   "metadata": {
    "collapsed": false
   },
   "outputs": [],
   "source": [
    "(calc_original.records.s006).sum()"
   ]
  },
  {
   "cell_type": "code",
   "execution_count": 6,
   "metadata": {
    "collapsed": false
   },
   "outputs": [
    {
     "data": {
      "text/plain": [
       "1359057439.7024577"
      ]
     },
     "execution_count": 6,
     "metadata": {},
     "output_type": "execute_result"
    }
   ],
   "source": [
    "(calc_new.records.e00200[calc_new.records.filer == 0] * calc_new.records.s006[calc_new.records.filer == 0]).sum()"
   ]
  },
  {
   "cell_type": "code",
   "execution_count": null,
   "metadata": {
    "collapsed": true
   },
   "outputs": [],
   "source": []
  }
 ],
 "metadata": {
  "kernelspec": {
   "display_name": "Python [Root]",
   "language": "python",
   "name": "Python [Root]"
  },
  "language_info": {
   "codemirror_mode": {
    "name": "ipython",
    "version": 2
   },
   "file_extension": ".py",
   "mimetype": "text/x-python",
   "name": "python",
   "nbconvert_exporter": "python",
   "pygments_lexer": "ipython2",
   "version": "2.7.12"
  }
 },
 "nbformat": 4,
 "nbformat_minor": 0
}
