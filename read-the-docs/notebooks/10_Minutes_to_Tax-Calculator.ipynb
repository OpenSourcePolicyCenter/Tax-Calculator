{
 "cells": [
  {
   "cell_type": "markdown",
   "metadata": {},
   "source": [
    "# How to use Tax-Calculator"
   ]
  },
  {
   "cell_type": "markdown",
   "metadata": {},
   "source": [
    "This guide teaches you how to use Tax-Calculator. To follow along you will need the following: \n",
    "\n",
    "1. A copy of the taxcalc package installed on your local machine.\n",
    "2. A copy of the puf.csv file output from the TaxData repository. "
   ]
  },
  {
   "cell_type": "markdown",
   "metadata": {},
   "source": [
    "### Import taxcalc package and other useful packages"
   ]
  },
  {
   "cell_type": "code",
   "execution_count": 1,
   "metadata": {
    "collapsed": true
   },
   "outputs": [],
   "source": [
    "import sys\n",
    "sys.path.append(\"../../\")\n",
    "from taxcalc import *"
   ]
  },
  {
   "cell_type": "markdown",
   "metadata": {},
   "source": [
    "### Create Plan X and Plan Y  Policy objects containing current law policy and then implement reforms"
   ]
  },
  {
   "cell_type": "code",
   "execution_count": 2,
   "metadata": {
    "collapsed": true
   },
   "outputs": [],
   "source": [
    "# The baseline includes AMT repeal. \n",
    "p_xx = Policy()\n",
    "reform_xx = {\n",
    "    2017: {\n",
    "        '_AMT_rt1': [0.0],\n",
    "        '_AMT_rt2': [0.0]\n",
    "    }\n",
    "}\n",
    "p_xx.implement_reform(reform_xx)\n",
    "\n",
    "# The reform expands the second tax bracket\n",
    "# (and repeals AMT to match the baseline)\n",
    "\n",
    "p_yy = Policy()\n",
    "reform_yy = {\n",
    "    2017: {\n",
    "        '_II_brk2': [[65005, 130010, 65005, 88180, 0]],\n",
    "        '_AMT_rt1': [0.0],\n",
    "        '_AMT_rt2': [0.0]\n",
    "    }\n",
    "}\n",
    "p_yy.implement_reform(reform_yy)"
   ]
  },
  {
   "cell_type": "markdown",
   "metadata": {},
   "source": [
    "### Create calculator objects with default tax data\n",
    "###### The data are automatically extrapolated to 2013 since that is the first tax year modeled by Tax-Calculator. "
   ]
  },
  {
   "cell_type": "code",
   "execution_count": 3,
   "metadata": {
    "collapsed": false
   },
   "outputs": [
    {
     "name": "stdout",
     "output_type": "stream",
     "text": [
      "You loaded data for 2009.\n",
      "Tax-Calculator startup automatically extrapolated your data to 2013.\n",
      "You loaded data for 2009.\n",
      "Tax-Calculator startup automatically extrapolated your data to 2013.\n"
     ]
    }
   ],
   "source": [
    "c_xx = Calculator(policy=p_xx, records=Records(\"../../puf.csv\"))\n",
    "c_yy = Calculator(policy=p_yy, records=Records(\"../../puf.csv\"))"
   ]
  },
  {
   "cell_type": "markdown",
   "metadata": {},
   "source": [
    "### Advance the calculator objects to 2017 for this analysis. "
   ]
  },
  {
   "cell_type": "code",
   "execution_count": 4,
   "metadata": {
    "collapsed": true
   },
   "outputs": [],
   "source": [
    "c_xx.advance_to_year(2017)\n",
    "c_yy.advance_to_year(2017)\n",
    "assert c_xx.current_year == 2017\n",
    "assert c_yy.current_year == 2017\n"
   ]
  },
  {
   "cell_type": "markdown",
   "metadata": {},
   "source": [
    "### Calculate taxes under the baseline and under the reform. "
   ]
  },
  {
   "cell_type": "code",
   "execution_count": 5,
   "metadata": {
    "collapsed": true
   },
   "outputs": [],
   "source": [
    "c_xx.calc_all()\n",
    "c_yy.calc_all()"
   ]
  },
  {
   "cell_type": "markdown",
   "metadata": {},
   "source": [
    "### Calculate the change in combined payroll and individual income tax revenue between the baseline and reform"
   ]
  },
  {
   "cell_type": "code",
   "execution_count": 6,
   "metadata": {
    "collapsed": false
   },
   "outputs": [
    {
     "data": {
      "text/plain": [
       "-102935492151.75226"
      ]
     },
     "execution_count": 6,
     "metadata": {},
     "output_type": "execute_result"
    }
   ],
   "source": [
    "((c_yy.array('combined') - c_xx.array('combined'))*c_yy.array('s006')).sum()"
   ]
  },
  {
   "cell_type": "code",
   "execution_count": null,
   "metadata": {
    "collapsed": true
   },
   "outputs": [],
   "source": []
  }
 ],
 "metadata": {
  "kernelspec": {
   "display_name": "Python 2",
   "language": "python",
   "name": "python2"
  },
  "language_info": {
   "codemirror_mode": {
    "name": "ipython",
    "version": 2
   },
   "file_extension": ".py",
   "mimetype": "text/x-python",
   "name": "python",
   "nbconvert_exporter": "python",
   "pygments_lexer": "ipython2",
   "version": "2.7.13"
  }
 },
 "nbformat": 4,
 "nbformat_minor": 1
}
